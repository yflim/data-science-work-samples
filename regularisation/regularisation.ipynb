{
 "cells": [
  {
   "cell_type": "markdown",
   "metadata": {},
   "source": [
    "# Theory"
   ]
  },
  {
   "cell_type": "markdown",
   "metadata": {},
   "source": [
    "#### Derive the least squares regression solution with a quadratic regulariser, for which the total error function is\n",
    "\\begin{equation}\n",
    "\\frac{1}{2}\\sum_{i=1}^n[t_i - \\textbf{w}^\\textrm{T}\\textbf{x}_i]^2 + \\frac{\\lambda}{2}\\textbf{w}^\\textrm{T}\\textbf{w} = \\frac{1}{2}(\\textbf{t} - \\textbf{X}\\textbf{w})^\\textrm{T}(\\textbf{t} - \\textbf{X}\\textbf{w}) + \\frac{\\lambda}{2}\\textbf{w}^\\textrm{T}\\textbf{w}\n",
    "\\end{equation}"
   ]
  },
  {
   "cell_type": "markdown",
   "metadata": {},
   "source": [
    "\\begin{equation}\n",
    "\\frac{\\delta L}{\\delta w} = \\frac{1}{2}[2(-\\textbf{X})^\\textrm{T}(\\textbf{t} - \\textbf{X}\\textbf{w})] + \\lambda\\textbf{w} = \\textbf{X}^\\textrm{T}\\textbf{X}\\textbf{w} - \\textbf{X}^\\textrm{T}\\textbf{t} + \\lambda\\textbf{I}\\textbf{w}\n",
    "\\end{equation}\n",
    "\\begin{equation}\n",
    "\\text{Set it to 0: }\\;(\\textbf{X}^\\textrm{T}\\textbf{X} + \\lambda\\textbf{I})\\textbf{w} = \\textbf{X}^\\textrm{T}\\textbf{t}\\\\\n",
    "\\implies \\textbf{w} = (\\lambda\\textbf{I} + \\textbf{X}^\\textrm{T}\\textbf{X})^{-1}\\textbf{X}^\\textrm{T}\\textbf{t}\n",
    "\\end{equation}"
   ]
  },
  {
   "cell_type": "markdown",
   "metadata": {},
   "source": [
    "# Implementation"
   ]
  },
  {
   "cell_type": "code",
   "execution_count": 2,
   "metadata": {},
   "outputs": [],
   "source": [
    "import matplotlib.pyplot as plt\n",
    "import numpy as np\n",
    "import os\n",
    "import pandas as pd\n",
    "import scipy.stats as stats\n",
    "from sklearn.linear_model import LogisticRegression\n",
    "from sklearn.model_selection import train_test_split\n",
    "from sklearn.preprocessing import StandardScaler\n",
    "from sklearn.preprocessing import add_dummy_feature\n",
    "import sys"
   ]
  },
  {
   "cell_type": "code",
   "execution_count": 179,
   "metadata": {},
   "outputs": [],
   "source": [
    "pd.set_option(\"display.precision\", 8)"
   ]
  },
  {
   "cell_type": "code",
   "execution_count": 90,
   "metadata": {},
   "outputs": [],
   "source": [
    "module_path = os.path.abspath(os.path.join('..'))\n",
    "if module_path not in sys.path:\n",
    "    sys.path.append(module_path)"
   ]
  },
  {
   "cell_type": "code",
   "execution_count": 91,
   "metadata": {},
   "outputs": [],
   "source": [
    "import cross_validation.cv as cv\n",
    "import linear_model.logistic_regression as lr\n",
    "import optimise.gradient_descent as gd"
   ]
  },
  {
   "cell_type": "markdown",
   "metadata": {},
   "source": [
    "#### Download the full spambase dataset"
   ]
  },
  {
   "cell_type": "code",
   "execution_count": 3,
   "metadata": {},
   "outputs": [],
   "source": [
    "spam = pd.read_csv('../data/spambase.csv')"
   ]
  },
  {
   "cell_type": "code",
   "execution_count": 93,
   "metadata": {},
   "outputs": [
    {
     "data": {
      "text/html": [
       "<div>\n",
       "<style scoped>\n",
       "    .dataframe tbody tr th:only-of-type {\n",
       "        vertical-align: middle;\n",
       "    }\n",
       "\n",
       "    .dataframe tbody tr th {\n",
       "        vertical-align: top;\n",
       "    }\n",
       "\n",
       "    .dataframe thead th {\n",
       "        text-align: right;\n",
       "    }\n",
       "</style>\n",
       "<table border=\"1\" class=\"dataframe\">\n",
       "  <thead>\n",
       "    <tr style=\"text-align: right;\">\n",
       "      <th></th>\n",
       "      <th>word_freq_make</th>\n",
       "      <th>word_freq_address</th>\n",
       "      <th>word_freq_all</th>\n",
       "      <th>word_freq_3d</th>\n",
       "      <th>word_freq_our</th>\n",
       "      <th>word_freq_over</th>\n",
       "      <th>word_freq_remove</th>\n",
       "      <th>word_freq_internet</th>\n",
       "      <th>word_freq_order</th>\n",
       "      <th>word_freq_mail</th>\n",
       "      <th>...</th>\n",
       "      <th>char_freq_%3B</th>\n",
       "      <th>char_freq_%28</th>\n",
       "      <th>char_freq_%5B</th>\n",
       "      <th>char_freq_%21</th>\n",
       "      <th>char_freq_%24</th>\n",
       "      <th>char_freq_%23</th>\n",
       "      <th>capital_run_length_average</th>\n",
       "      <th>capital_run_length_longest</th>\n",
       "      <th>capital_run_length_total</th>\n",
       "      <th>class</th>\n",
       "    </tr>\n",
       "  </thead>\n",
       "  <tbody>\n",
       "    <tr>\n",
       "      <th>count</th>\n",
       "      <td>4601.000000</td>\n",
       "      <td>4601.000000</td>\n",
       "      <td>4601.000000</td>\n",
       "      <td>4601.000000</td>\n",
       "      <td>4601.000000</td>\n",
       "      <td>4601.000000</td>\n",
       "      <td>4601.000000</td>\n",
       "      <td>4601.000000</td>\n",
       "      <td>4601.000000</td>\n",
       "      <td>4601.000000</td>\n",
       "      <td>...</td>\n",
       "      <td>4601.000000</td>\n",
       "      <td>4601.000000</td>\n",
       "      <td>4601.000000</td>\n",
       "      <td>4601.000000</td>\n",
       "      <td>4601.000000</td>\n",
       "      <td>4601.000000</td>\n",
       "      <td>4601.000000</td>\n",
       "      <td>4601.000000</td>\n",
       "      <td>4601.000000</td>\n",
       "      <td>4601.000000</td>\n",
       "    </tr>\n",
       "    <tr>\n",
       "      <th>mean</th>\n",
       "      <td>0.104553</td>\n",
       "      <td>0.213015</td>\n",
       "      <td>0.280656</td>\n",
       "      <td>0.065425</td>\n",
       "      <td>0.312223</td>\n",
       "      <td>0.095901</td>\n",
       "      <td>0.114208</td>\n",
       "      <td>0.105295</td>\n",
       "      <td>0.090067</td>\n",
       "      <td>0.239413</td>\n",
       "      <td>...</td>\n",
       "      <td>0.038575</td>\n",
       "      <td>0.139030</td>\n",
       "      <td>0.016976</td>\n",
       "      <td>0.269071</td>\n",
       "      <td>0.075811</td>\n",
       "      <td>0.044238</td>\n",
       "      <td>5.191515</td>\n",
       "      <td>52.172789</td>\n",
       "      <td>283.289285</td>\n",
       "      <td>0.394045</td>\n",
       "    </tr>\n",
       "    <tr>\n",
       "      <th>std</th>\n",
       "      <td>0.305358</td>\n",
       "      <td>1.290575</td>\n",
       "      <td>0.504143</td>\n",
       "      <td>1.395151</td>\n",
       "      <td>0.672513</td>\n",
       "      <td>0.273824</td>\n",
       "      <td>0.391441</td>\n",
       "      <td>0.401071</td>\n",
       "      <td>0.278616</td>\n",
       "      <td>0.644755</td>\n",
       "      <td>...</td>\n",
       "      <td>0.243471</td>\n",
       "      <td>0.270355</td>\n",
       "      <td>0.109394</td>\n",
       "      <td>0.815672</td>\n",
       "      <td>0.245882</td>\n",
       "      <td>0.429342</td>\n",
       "      <td>31.729449</td>\n",
       "      <td>194.891310</td>\n",
       "      <td>606.347851</td>\n",
       "      <td>0.488698</td>\n",
       "    </tr>\n",
       "    <tr>\n",
       "      <th>min</th>\n",
       "      <td>0.000000</td>\n",
       "      <td>0.000000</td>\n",
       "      <td>0.000000</td>\n",
       "      <td>0.000000</td>\n",
       "      <td>0.000000</td>\n",
       "      <td>0.000000</td>\n",
       "      <td>0.000000</td>\n",
       "      <td>0.000000</td>\n",
       "      <td>0.000000</td>\n",
       "      <td>0.000000</td>\n",
       "      <td>...</td>\n",
       "      <td>0.000000</td>\n",
       "      <td>0.000000</td>\n",
       "      <td>0.000000</td>\n",
       "      <td>0.000000</td>\n",
       "      <td>0.000000</td>\n",
       "      <td>0.000000</td>\n",
       "      <td>1.000000</td>\n",
       "      <td>1.000000</td>\n",
       "      <td>1.000000</td>\n",
       "      <td>0.000000</td>\n",
       "    </tr>\n",
       "    <tr>\n",
       "      <th>25%</th>\n",
       "      <td>0.000000</td>\n",
       "      <td>0.000000</td>\n",
       "      <td>0.000000</td>\n",
       "      <td>0.000000</td>\n",
       "      <td>0.000000</td>\n",
       "      <td>0.000000</td>\n",
       "      <td>0.000000</td>\n",
       "      <td>0.000000</td>\n",
       "      <td>0.000000</td>\n",
       "      <td>0.000000</td>\n",
       "      <td>...</td>\n",
       "      <td>0.000000</td>\n",
       "      <td>0.000000</td>\n",
       "      <td>0.000000</td>\n",
       "      <td>0.000000</td>\n",
       "      <td>0.000000</td>\n",
       "      <td>0.000000</td>\n",
       "      <td>1.588000</td>\n",
       "      <td>6.000000</td>\n",
       "      <td>35.000000</td>\n",
       "      <td>0.000000</td>\n",
       "    </tr>\n",
       "    <tr>\n",
       "      <th>50%</th>\n",
       "      <td>0.000000</td>\n",
       "      <td>0.000000</td>\n",
       "      <td>0.000000</td>\n",
       "      <td>0.000000</td>\n",
       "      <td>0.000000</td>\n",
       "      <td>0.000000</td>\n",
       "      <td>0.000000</td>\n",
       "      <td>0.000000</td>\n",
       "      <td>0.000000</td>\n",
       "      <td>0.000000</td>\n",
       "      <td>...</td>\n",
       "      <td>0.000000</td>\n",
       "      <td>0.065000</td>\n",
       "      <td>0.000000</td>\n",
       "      <td>0.000000</td>\n",
       "      <td>0.000000</td>\n",
       "      <td>0.000000</td>\n",
       "      <td>2.276000</td>\n",
       "      <td>15.000000</td>\n",
       "      <td>95.000000</td>\n",
       "      <td>0.000000</td>\n",
       "    </tr>\n",
       "    <tr>\n",
       "      <th>75%</th>\n",
       "      <td>0.000000</td>\n",
       "      <td>0.000000</td>\n",
       "      <td>0.420000</td>\n",
       "      <td>0.000000</td>\n",
       "      <td>0.380000</td>\n",
       "      <td>0.000000</td>\n",
       "      <td>0.000000</td>\n",
       "      <td>0.000000</td>\n",
       "      <td>0.000000</td>\n",
       "      <td>0.160000</td>\n",
       "      <td>...</td>\n",
       "      <td>0.000000</td>\n",
       "      <td>0.188000</td>\n",
       "      <td>0.000000</td>\n",
       "      <td>0.315000</td>\n",
       "      <td>0.052000</td>\n",
       "      <td>0.000000</td>\n",
       "      <td>3.706000</td>\n",
       "      <td>43.000000</td>\n",
       "      <td>266.000000</td>\n",
       "      <td>1.000000</td>\n",
       "    </tr>\n",
       "    <tr>\n",
       "      <th>max</th>\n",
       "      <td>4.540000</td>\n",
       "      <td>14.280000</td>\n",
       "      <td>5.100000</td>\n",
       "      <td>42.810000</td>\n",
       "      <td>10.000000</td>\n",
       "      <td>5.880000</td>\n",
       "      <td>7.270000</td>\n",
       "      <td>11.110000</td>\n",
       "      <td>5.260000</td>\n",
       "      <td>18.180000</td>\n",
       "      <td>...</td>\n",
       "      <td>4.385000</td>\n",
       "      <td>9.752000</td>\n",
       "      <td>4.081000</td>\n",
       "      <td>32.478000</td>\n",
       "      <td>6.003000</td>\n",
       "      <td>19.829000</td>\n",
       "      <td>1102.500000</td>\n",
       "      <td>9989.000000</td>\n",
       "      <td>15841.000000</td>\n",
       "      <td>1.000000</td>\n",
       "    </tr>\n",
       "  </tbody>\n",
       "</table>\n",
       "<p>8 rows × 58 columns</p>\n",
       "</div>"
      ],
      "text/plain": [
       "       word_freq_make  word_freq_address  word_freq_all  word_freq_3d  \\\n",
       "count     4601.000000        4601.000000    4601.000000   4601.000000   \n",
       "mean         0.104553           0.213015       0.280656      0.065425   \n",
       "std          0.305358           1.290575       0.504143      1.395151   \n",
       "min          0.000000           0.000000       0.000000      0.000000   \n",
       "25%          0.000000           0.000000       0.000000      0.000000   \n",
       "50%          0.000000           0.000000       0.000000      0.000000   \n",
       "75%          0.000000           0.000000       0.420000      0.000000   \n",
       "max          4.540000          14.280000       5.100000     42.810000   \n",
       "\n",
       "       word_freq_our  word_freq_over  word_freq_remove  word_freq_internet  \\\n",
       "count    4601.000000     4601.000000       4601.000000         4601.000000   \n",
       "mean        0.312223        0.095901          0.114208            0.105295   \n",
       "std         0.672513        0.273824          0.391441            0.401071   \n",
       "min         0.000000        0.000000          0.000000            0.000000   \n",
       "25%         0.000000        0.000000          0.000000            0.000000   \n",
       "50%         0.000000        0.000000          0.000000            0.000000   \n",
       "75%         0.380000        0.000000          0.000000            0.000000   \n",
       "max        10.000000        5.880000          7.270000           11.110000   \n",
       "\n",
       "       word_freq_order  word_freq_mail     ...       char_freq_%3B  \\\n",
       "count      4601.000000     4601.000000     ...         4601.000000   \n",
       "mean          0.090067        0.239413     ...            0.038575   \n",
       "std           0.278616        0.644755     ...            0.243471   \n",
       "min           0.000000        0.000000     ...            0.000000   \n",
       "25%           0.000000        0.000000     ...            0.000000   \n",
       "50%           0.000000        0.000000     ...            0.000000   \n",
       "75%           0.000000        0.160000     ...            0.000000   \n",
       "max           5.260000       18.180000     ...            4.385000   \n",
       "\n",
       "       char_freq_%28  char_freq_%5B  char_freq_%21  char_freq_%24  \\\n",
       "count    4601.000000    4601.000000    4601.000000    4601.000000   \n",
       "mean        0.139030       0.016976       0.269071       0.075811   \n",
       "std         0.270355       0.109394       0.815672       0.245882   \n",
       "min         0.000000       0.000000       0.000000       0.000000   \n",
       "25%         0.000000       0.000000       0.000000       0.000000   \n",
       "50%         0.065000       0.000000       0.000000       0.000000   \n",
       "75%         0.188000       0.000000       0.315000       0.052000   \n",
       "max         9.752000       4.081000      32.478000       6.003000   \n",
       "\n",
       "       char_freq_%23  capital_run_length_average  capital_run_length_longest  \\\n",
       "count    4601.000000                 4601.000000                 4601.000000   \n",
       "mean        0.044238                    5.191515                   52.172789   \n",
       "std         0.429342                   31.729449                  194.891310   \n",
       "min         0.000000                    1.000000                    1.000000   \n",
       "25%         0.000000                    1.588000                    6.000000   \n",
       "50%         0.000000                    2.276000                   15.000000   \n",
       "75%         0.000000                    3.706000                   43.000000   \n",
       "max        19.829000                 1102.500000                 9989.000000   \n",
       "\n",
       "       capital_run_length_total        class  \n",
       "count               4601.000000  4601.000000  \n",
       "mean                 283.289285     0.394045  \n",
       "std                  606.347851     0.488698  \n",
       "min                    1.000000     0.000000  \n",
       "25%                   35.000000     0.000000  \n",
       "50%                   95.000000     0.000000  \n",
       "75%                  266.000000     1.000000  \n",
       "max                15841.000000     1.000000  \n",
       "\n",
       "[8 rows x 58 columns]"
      ]
     },
     "execution_count": 93,
     "metadata": {},
     "output_type": "execute_result"
    }
   ],
   "source": [
    "spam.describe()"
   ]
  },
  {
   "cell_type": "code",
   "execution_count": 94,
   "metadata": {},
   "outputs": [
    {
     "data": {
      "text/plain": [
       "(4601, 58)"
      ]
     },
     "execution_count": 94,
     "metadata": {},
     "output_type": "execute_result"
    }
   ],
   "source": [
    "spam.shape"
   ]
  },
  {
   "cell_type": "code",
   "execution_count": 95,
   "metadata": {},
   "outputs": [],
   "source": [
    "x = spam[spam.columns[:-1]]\n",
    "y = spam['class']"
   ]
  },
  {
   "cell_type": "markdown",
   "metadata": {},
   "source": [
    "## Binary logistic regression with quadratic regulariser"
   ]
  },
  {
   "cell_type": "markdown",
   "metadata": {},
   "source": [
    "#### Implementation\n",
    "LogisticRegression class that minimizes the regularized cost function (with L2 regularization) using gradient descent implemented in separate folder"
   ]
  },
  {
   "cell_type": "markdown",
   "metadata": {},
   "source": [
    "#### Data preparation\n",
    "Partition into training/validation sets, and standardise"
   ]
  },
  {
   "cell_type": "code",
   "execution_count": 96,
   "metadata": {},
   "outputs": [],
   "source": [
    "x_train, x_test, y_train, y_test = train_test_split(x, y, test_size=0.25, stratify=y)"
   ]
  },
  {
   "cell_type": "code",
   "execution_count": 97,
   "metadata": {},
   "outputs": [],
   "source": [
    "sc_x = StandardScaler()\n",
    "x_train_std = sc_x.fit_transform(x_train)\n",
    "x_test_std = sc_x.transform(x_test)"
   ]
  },
  {
   "cell_type": "code",
   "execution_count": 98,
   "metadata": {},
   "outputs": [],
   "source": [
    "x_train_std = add_dummy_feature(x_train_std)\n",
    "x_test_std = add_dummy_feature(x_test_std)"
   ]
  },
  {
   "cell_type": "markdown",
   "metadata": {},
   "source": [
    "### Using regularisation strength, lambda = 1"
   ]
  },
  {
   "cell_type": "markdown",
   "metadata": {},
   "source": [
    "#### Model training"
   ]
  },
  {
   "cell_type": "markdown",
   "metadata": {},
   "source": [
    "_Model implemented from scratch_"
   ]
  },
  {
   "cell_type": "code",
   "execution_count": 99,
   "metadata": {},
   "outputs": [],
   "source": [
    "classifier = lr.LogisticRegression(penalty='l2', max_iter=np.inf, fit_intercept=False)"
   ]
  },
  {
   "cell_type": "code",
   "execution_count": 100,
   "metadata": {},
   "outputs": [
    {
     "data": {
      "text/plain": [
       "<linear_model.logistic_regression.LogisticRegression at 0x113a01240>"
      ]
     },
     "execution_count": 100,
     "metadata": {},
     "output_type": "execute_result"
    }
   ],
   "source": [
    "classifier.fit(x_train_std, y_train, keep_intermediate_betas=True)"
   ]
  },
  {
   "cell_type": "markdown",
   "metadata": {},
   "source": [
    "_Scikit-learn model for comparison_"
   ]
  },
  {
   "cell_type": "code",
   "execution_count": 101,
   "metadata": {},
   "outputs": [
    {
     "data": {
      "text/plain": [
       "LogisticRegression(C=1.0, class_weight=None, dual=False, fit_intercept=False,\n",
       "          intercept_scaling=1, max_iter=100, multi_class='ovr', n_jobs=1,\n",
       "          penalty='l2', random_state=None, solver='liblinear', tol=1e-06,\n",
       "          verbose=0, warm_start=False)"
      ]
     },
     "execution_count": 101,
     "metadata": {},
     "output_type": "execute_result"
    }
   ],
   "source": [
    "classifier_skl = LogisticRegression(fit_intercept=False, tol=1e-6)\n",
    "classifier_skl.fit(x_train_std, y_train)"
   ]
  },
  {
   "cell_type": "markdown",
   "metadata": {},
   "source": [
    "#### Comparison of fitted parameters"
   ]
  },
  {
   "cell_type": "code",
   "execution_count": 102,
   "metadata": {},
   "outputs": [
    {
     "data": {
      "text/plain": [
       "array([-2.05279698e+00, -1.80883811e-01, -1.64615126e-01,  8.93285385e-02,\n",
       "        6.91759687e-01,  3.71504518e-01,  1.74877641e-01,  8.15655795e-01,\n",
       "        1.81438935e-01,  1.16368503e-01,  6.58693820e-02,  2.34892890e-02,\n",
       "       -1.46703423e-01, -9.33148764e-03,  2.75863847e-02,  6.31418312e-01,\n",
       "        7.23241284e-01,  5.18068316e-01,  4.71142203e-02,  1.92747401e-01,\n",
       "        3.07407068e-01,  3.19337702e-01,  3.72015226e-01,  9.48050140e-01,\n",
       "        3.40268890e-01, -2.12548510e+00, -7.58313418e-01, -3.34577866e+00,\n",
       "        2.87347335e-01, -8.81913263e-01, -1.84462778e-01, -1.60671570e-01,\n",
       "       -9.63095979e-02, -4.25793338e-01, -1.78937530e-01, -6.59782372e-01,\n",
       "        2.39817160e-01, -1.19809032e-03, -1.25712601e-01, -3.63338354e-01,\n",
       "       -1.55397347e-01, -1.32854672e+00, -1.29358135e+00, -2.81123579e-01,\n",
       "       -7.52973296e-01, -6.97454020e-01, -1.20851861e+00, -2.65814215e-01,\n",
       "       -9.03119209e-01, -3.39364418e-01, -2.36309113e-02, -8.17980793e-02,\n",
       "        5.21780486e-01,  1.28614626e+00,  9.20580691e-01, -2.32056604e-01,\n",
       "        9.57375553e-01,  4.48311513e-01])"
      ]
     },
     "execution_count": 102,
     "metadata": {},
     "output_type": "execute_result"
    }
   ],
   "source": [
    "classifier.beta"
   ]
  },
  {
   "cell_type": "code",
   "execution_count": 103,
   "metadata": {},
   "outputs": [
    {
     "name": "stdout",
     "output_type": "stream",
     "text": [
      "sklearn beta: [[-2.16583919e+00 -1.81554763e-01 -1.64862777e-01  8.89219091e-02\n",
      "   7.25617314e-01  3.70721697e-01  1.79915700e-01  8.12025343e-01\n",
      "   1.79579214e-01  1.17321207e-01  6.59785585e-02  2.28691849e-02\n",
      "  -1.45992021e-01 -8.42242264e-03  2.93913814e-02  6.26157968e-01\n",
      "   7.44074046e-01  5.17932338e-01  4.58832012e-02  1.91024537e-01\n",
      "   3.10251511e-01  3.19965880e-01  3.61580567e-01  9.40566562e-01\n",
      "   3.37324306e-01 -2.16449615e+00 -7.53753611e-01 -3.68314467e+00\n",
      "   2.89045937e-01 -9.11361397e-01 -1.83807323e-01 -1.33107498e-01\n",
      "  -7.71962994e-02 -4.23134993e-01 -1.72412281e-01 -6.60815008e-01\n",
      "   2.42921356e-01 -5.37640868e-04 -1.28482571e-01 -3.67980899e-01\n",
      "  -1.56633566e-01 -1.61541117e+00 -1.31938059e+00 -2.81379753e-01\n",
      "  -7.57899685e-01 -6.93574749e-01 -1.20869837e+00 -2.67807302e-01\n",
      "  -9.21855249e-01 -3.38045657e-01 -2.36711350e-02 -7.88265590e-02\n",
      "   5.17306673e-01  1.28043817e+00  9.85221646e-01 -2.25848747e-01\n",
      "   9.36756655e-01  4.59721155e-01]]\n"
     ]
    }
   ],
   "source": [
    "print('sklearn beta:', classifier_skl.coef_)"
   ]
  },
  {
   "cell_type": "code",
   "execution_count": 114,
   "metadata": {},
   "outputs": [],
   "source": [
    "normed_diff = (classifier.beta - classifier_skl.coef_) / classifier_skl.coef_"
   ]
  },
  {
   "cell_type": "code",
   "execution_count": 115,
   "metadata": {
    "scrolled": true
   },
   "outputs": [
    {
     "name": "stdout",
     "output_type": "stream",
     "text": [
      "normalised difference: [[-5.21932610e-02 -3.69559350e-03 -1.50216496e-03  4.57288222e-03\n",
      "  -4.66604443e-02  2.11161409e-03 -2.80023292e-02  4.47086064e-03\n",
      "   1.03559908e-02 -8.12047422e-03 -1.65472634e-03  2.71152682e-02\n",
      "   4.87287978e-03  1.07933910e-01 -6.14124489e-02  8.40098564e-03\n",
      "  -2.79982379e-02  2.62540016e-04  2.68294063e-02  9.01907409e-03\n",
      "  -9.16818297e-03 -1.96326656e-03  2.88584603e-02  7.95645820e-03\n",
      "   8.72923717e-03 -1.80231552e-02  6.04946698e-03 -9.15972729e-02\n",
      "  -5.87657921e-03 -3.23122457e-02  3.56598944e-03  2.07081291e-01\n",
      "   2.47593455e-01  6.28249974e-03  3.78467766e-02 -1.56266893e-03\n",
      "  -1.27786060e-02  1.22842122e+00 -2.15591096e-02 -1.26162672e-02\n",
      "  -7.89242500e-03 -1.77579834e-01 -1.95540558e-02 -9.10417627e-04\n",
      "  -6.50005449e-03  5.59315573e-03 -1.48720936e-04 -7.44224386e-03\n",
      "  -2.03242756e-02  3.90113289e-03 -1.69927270e-03  3.76969421e-02\n",
      "   8.64827821e-03  4.45792356e-03 -6.56105712e-02  2.74867876e-02\n",
      "   2.20109435e-02 -2.48186152e-02]]\n"
     ]
    }
   ],
   "source": [
    "print('normalised difference:', normed_diff)"
   ]
  },
  {
   "cell_type": "code",
   "execution_count": 119,
   "metadata": {
    "scrolled": true
   },
   "outputs": [
    {
     "name": "stdout",
     "output_type": "stream",
     "text": [
      "max. absolute normalised difference: 1.2284212233026635\n"
     ]
    }
   ],
   "source": [
    "print('max. absolute normalised difference:', np.abs(normed_diff).max())"
   ]
  },
  {
   "cell_type": "code",
   "execution_count": 116,
   "metadata": {
    "scrolled": true
   },
   "outputs": [
    {
     "name": "stdout",
     "output_type": "stream",
     "text": [
      "average absolute normalised difference: 0.049470740583886175\n"
     ]
    }
   ],
   "source": [
    "print('average absolute normalised difference:', np.abs(normed_diff).mean())"
   ]
  },
  {
   "cell_type": "code",
   "execution_count": 118,
   "metadata": {
    "scrolled": true
   },
   "outputs": [
    {
     "name": "stdout",
     "output_type": "stream",
     "text": [
      "median absolute normalised difference: 0.009093628531570334\n"
     ]
    }
   ],
   "source": [
    "print('median absolute normalised difference:', np.median(np.abs(normed_diff)))"
   ]
  },
  {
   "cell_type": "markdown",
   "metadata": {},
   "source": [
    "*Remarks*: The normalised differences are not large in most cases, though the maximum is ~123%. Generally, the estimates are reassuringly similar, with an average absolute difference of 4.95%, and median absolute difference of 0.91%."
   ]
  },
  {
   "cell_type": "markdown",
   "metadata": {},
   "source": [
    "#### Prediction error rates on training and test sets"
   ]
  },
  {
   "cell_type": "markdown",
   "metadata": {},
   "source": [
    "_Model implemented from scratch_"
   ]
  },
  {
   "cell_type": "code",
   "execution_count": 120,
   "metadata": {},
   "outputs": [
    {
     "data": {
      "text/plain": [
       "0.06782608695652174"
      ]
     },
     "execution_count": 120,
     "metadata": {},
     "output_type": "execute_result"
    }
   ],
   "source": [
    "(classifier.predict(x_train_std) != y_train).astype(int).mean()"
   ]
  },
  {
   "cell_type": "code",
   "execution_count": 121,
   "metadata": {},
   "outputs": [
    {
     "data": {
      "text/plain": [
       "0.07211120764552563"
      ]
     },
     "execution_count": 121,
     "metadata": {},
     "output_type": "execute_result"
    }
   ],
   "source": [
    "(classifier.predict(x_test_std) != y_test).astype(int).mean()"
   ]
  },
  {
   "cell_type": "markdown",
   "metadata": {},
   "source": [
    "_Scikit-learn model for comparison_"
   ]
  },
  {
   "cell_type": "code",
   "execution_count": 122,
   "metadata": {},
   "outputs": [
    {
     "data": {
      "text/plain": [
       "0.0672463768115942"
      ]
     },
     "execution_count": 122,
     "metadata": {},
     "output_type": "execute_result"
    }
   ],
   "source": [
    "(classifier_skl.predict(x_train_std) != y_train).astype(int).mean()"
   ]
  },
  {
   "cell_type": "code",
   "execution_count": 123,
   "metadata": {},
   "outputs": [
    {
     "data": {
      "text/plain": [
       "0.07211120764552563"
      ]
     },
     "execution_count": 123,
     "metadata": {},
     "output_type": "execute_result"
    }
   ],
   "source": [
    "(classifier_skl.predict(x_test_std) != y_test).astype(int).mean()"
   ]
  },
  {
   "cell_type": "markdown",
   "metadata": {},
   "source": [
    "#### Illustrate convergence (on from-scratch model only)\n",
    "Plot loss function value (negative log-likelihood + penalty) on the training/validation sets at each parameter update"
   ]
  },
  {
   "cell_type": "markdown",
   "metadata": {},
   "source": [
    "1. Using training set"
   ]
  },
  {
   "cell_type": "code",
   "execution_count": 124,
   "metadata": {},
   "outputs": [],
   "source": [
    "training_losses = classifier.loss(x_train_std, y_train, use_intermediate_betas=True)"
   ]
  },
  {
   "cell_type": "code",
   "execution_count": 125,
   "metadata": {},
   "outputs": [
    {
     "data": {
      "text/plain": [
       "[<matplotlib.lines.Line2D at 0x1c1a703588>]"
      ]
     },
     "execution_count": 125,
     "metadata": {},
     "output_type": "execute_result"
    },
    {
     "data": {
      "image/png": "[encoded data removed]",
      "text/plain": [
       "<Figure size 432x288 with 1 Axes>"
      ]
     },
     "metadata": {},
     "output_type": "display_data"
    }
   ],
   "source": [
    "plt.plot(range(len(classifier.betas)), training_losses)"
   ]
  },
  {
   "cell_type": "code",
   "execution_count": 126,
   "metadata": {},
   "outputs": [
    {
     "data": {
      "text/plain": [
       "(591306,)"
      ]
     },
     "execution_count": 126,
     "metadata": {},
     "output_type": "execute_result"
    }
   ],
   "source": [
    "training_losses.shape"
   ]
  },
  {
   "cell_type": "code",
   "execution_count": 134,
   "metadata": {},
   "outputs": [
    {
     "data": {
      "text/plain": [
       "(585876,)"
      ]
     },
     "execution_count": 134,
     "metadata": {},
     "output_type": "execute_result"
    }
   ],
   "source": [
    "training_losses[training_losses < 900].shape"
   ]
  },
  {
   "cell_type": "code",
   "execution_count": 135,
   "metadata": {},
   "outputs": [
    {
     "data": {
      "text/plain": [
       "(565594,)"
      ]
     },
     "execution_count": 135,
     "metadata": {},
     "output_type": "execute_result"
    }
   ],
   "source": [
    "training_losses[training_losses < 800].shape"
   ]
  },
  {
   "cell_type": "code",
   "execution_count": 136,
   "metadata": {},
   "outputs": [
    {
     "data": {
      "text/plain": [
       "(386395,)"
      ]
     },
     "execution_count": 136,
     "metadata": {},
     "output_type": "execute_result"
    }
   ],
   "source": [
    "training_losses[training_losses < 750].shape"
   ]
  },
  {
   "cell_type": "markdown",
   "metadata": {},
   "source": [
    "1. Using test set"
   ]
  },
  {
   "cell_type": "code",
   "execution_count": 130,
   "metadata": {},
   "outputs": [],
   "source": [
    "test_losses = classifier.loss(x_test_std, y_test, use_intermediate_betas=True)"
   ]
  },
  {
   "cell_type": "code",
   "execution_count": 131,
   "metadata": {},
   "outputs": [
    {
     "data": {
      "text/plain": [
       "[<matplotlib.lines.Line2D at 0x1c1e6a20b8>]"
      ]
     },
     "execution_count": 131,
     "metadata": {},
     "output_type": "execute_result"
    },
    {
     "data": {
      "image/png": "[encoded data removed]",
      "text/plain": [
       "<Figure size 432x288 with 1 Axes>"
      ]
     },
     "metadata": {},
     "output_type": "display_data"
    }
   ],
   "source": [
    "plt.plot(range(len(classifier.betas)), test_losses)"
   ]
  },
  {
   "cell_type": "code",
   "execution_count": 137,
   "metadata": {},
   "outputs": [
    {
     "data": {
      "text/plain": [
       "(574477,)"
      ]
     },
     "execution_count": 137,
     "metadata": {},
     "output_type": "execute_result"
    }
   ],
   "source": [
    "test_losses[test_losses < 300].shape"
   ]
  },
  {
   "cell_type": "markdown",
   "metadata": {},
   "source": [
    "**Remarks**: In both training and test sets, the loss function value declines very rapidly to a near-optimal value within a small fraction (less than 5%) of the number of iterations taken to reach convergence, then decreases very gradually over the remaining iterations"
   ]
  },
  {
   "cell_type": "markdown",
   "metadata": {},
   "source": [
    "#### k-fold cross-validation"
   ]
  },
  {
   "cell_type": "markdown",
   "metadata": {},
   "source": [
    "_Model implemented from scratch_"
   ]
  },
  {
   "cell_type": "code",
   "execution_count": null,
   "metadata": {},
   "outputs": [],
   "source": [
    "predictions, errors, cv_error = cv.k_fold_cv(x, y, 5, classifier)"
   ]
  },
  {
   "cell_type": "code",
   "execution_count": 142,
   "metadata": {},
   "outputs": [
    {
     "data": {
      "text/plain": [
       "0.000434546570363027"
      ]
     },
     "execution_count": 142,
     "metadata": {},
     "output_type": "execute_result"
    }
   ],
   "source": [
    "cv_error"
   ]
  },
  {
   "cell_type": "markdown",
   "metadata": {},
   "source": [
    "_Scikit-learn model for comparison_"
   ]
  },
  {
   "cell_type": "code",
   "execution_count": null,
   "metadata": {},
   "outputs": [],
   "source": [
    "skl_predictions, skl_errors, skl_cv_error = cv.k_fold_cv(x, y, 5, classifier_skl)"
   ]
  },
  {
   "cell_type": "code",
   "execution_count": 144,
   "metadata": {},
   "outputs": [
    {
     "data": {
      "text/plain": [
       "0.0002173913043478261"
      ]
     },
     "execution_count": 144,
     "metadata": {},
     "output_type": "execute_result"
    }
   ],
   "source": [
    "skl_cv_error"
   ]
  },
  {
   "cell_type": "markdown",
   "metadata": {},
   "source": [
    "### Regularisation strength selection with k-fold cross-validation"
   ]
  },
  {
   "cell_type": "code",
   "execution_count": 145,
   "metadata": {},
   "outputs": [],
   "source": [
    "# Use k = 5 because fitting takes a while (for from-scratch model), and k=5 already necessitates 5 * 20 = 100 fittings\n",
    "k = 5\n",
    "# Omit 0 because I don't have yet more time to sink into getting it to work with an off-the-shelf library:\n",
    "# sklearn's saga solver is too slow, and statsmodel's API is opaque and may be incompatible with my CV function\n",
    "lambdas = np.arange(0.5, 10.5, 0.5)"
   ]
  },
  {
   "cell_type": "markdown",
   "metadata": {},
   "source": [
    "_Model implemented from scratch_"
   ]
  },
  {
   "cell_type": "code",
   "execution_count": null,
   "metadata": {},
   "outputs": [],
   "source": [
    "# Note: takes several minutes\n",
    "cv_errors = pd.Series(0.0, index=lambdas)\n",
    "for strength in lambdas:\n",
    "    cv_classifier = lr.LogisticRegression(penalty='l2', reg_strength=strength, max_iter=np.inf, fit_intercept=False)\n",
    "    cv_errors[strength] = cv.k_fold_cv(x, y, k, cv_classifier)[2]"
   ]
  },
  {
   "cell_type": "code",
   "execution_count": 175,
   "metadata": {},
   "outputs": [
    {
     "data": {
      "text/plain": [
       "[<matplotlib.lines.Line2D at 0x1c1a994978>]"
      ]
     },
     "execution_count": 175,
     "metadata": {},
     "output_type": "execute_result"
    },
    {
     "data": {
      "image/png": "[encoded data removed]",
      "text/plain": [
       "<Figure size 432x288 with 1 Axes>"
      ]
     },
     "metadata": {},
     "output_type": "display_data"
    }
   ],
   "source": [
    "plt.plot(lambdas, cv_errors)"
   ]
  },
  {
   "cell_type": "code",
   "execution_count": 180,
   "metadata": {},
   "outputs": [
    {
     "data": {
      "text/plain": [
       "0.5     0.00043478\n",
       "1.0     0.00043455\n",
       "1.5     0.00043455\n",
       "2.0     0.00021739\n",
       "2.5     0.00021716\n",
       "3.0     0.00021739\n",
       "3.5     0.00021739\n",
       "4.0     0.00043478\n",
       "4.5     0.00043455\n",
       "5.0     0.00043455\n",
       "5.5     0.00021739\n",
       "6.0     0.00130435\n",
       "6.5     0.00043478\n",
       "7.0     0.00021739\n",
       "7.5     0.00043478\n",
       "8.0     0.00065217\n",
       "8.5     0.00043455\n",
       "9.0     0.00043478\n",
       "9.5     0.00086909\n",
       "10.0    0.00043478\n",
       "dtype: float64"
      ]
     },
     "execution_count": 180,
     "metadata": {},
     "output_type": "execute_result"
    }
   ],
   "source": [
    "cv_errors"
   ]
  },
  {
   "cell_type": "code",
   "execution_count": 203,
   "metadata": {},
   "outputs": [],
   "source": [
    "min_cv_errors = cv_errors.min()\n",
    "cv_errors_min_lambdas = cv_errors[cv_errors == min_cv_errors].index\n",
    "best_lambda = cv_errors_min_lambdas[-1]"
   ]
  },
  {
   "cell_type": "code",
   "execution_count": 150,
   "metadata": {},
   "outputs": [
    {
     "data": {
      "text/plain": [
       "<linear_model.logistic_regression.LogisticRegression at 0x1c1aa4f6d8>"
      ]
     },
     "execution_count": 150,
     "metadata": {},
     "output_type": "execute_result"
    }
   ],
   "source": [
    "classifier_best_lambda = lr.LogisticRegression(penalty='l2', max_iter=np.inf, fit_intercept=False, reg_strength=best_lambda)\n",
    "classifier_best_lambda.fit(x_train_std, y_train)"
   ]
  },
  {
   "cell_type": "markdown",
   "metadata": {},
   "source": [
    "_Scikit-learn model for comparison_"
   ]
  },
  {
   "cell_type": "code",
   "execution_count": 193,
   "metadata": {},
   "outputs": [],
   "source": [
    "cv_errors_skl = pd.Series(0.0, index=lambdas)"
   ]
  },
  {
   "cell_type": "code",
   "execution_count": 194,
   "metadata": {},
   "outputs": [
    {
     "name": "stdout",
     "output_type": "stream",
     "text": [
      "0.5\n",
      "fold  1\n",
      "fold  2\n",
      "fold  3\n",
      "fold  4\n",
      "fold  5\n",
      "1.0\n",
      "fold  1\n",
      "fold  2\n",
      "fold  3\n",
      "fold  4\n",
      "fold  5\n",
      "1.5\n",
      "fold  1\n",
      "fold  2\n",
      "fold  3\n",
      "fold  4\n",
      "fold  5\n",
      "2.0\n",
      "fold  1\n",
      "fold  2\n",
      "fold  3\n",
      "fold  4\n",
      "fold  5\n",
      "2.5\n",
      "fold  1\n",
      "fold  2\n",
      "fold  3\n",
      "fold  4\n",
      "fold  5\n",
      "3.0\n",
      "fold  1\n",
      "fold  2\n",
      "fold  3\n",
      "fold  4\n",
      "fold  5\n",
      "3.5\n",
      "fold  1\n",
      "fold  2\n",
      "fold  3\n",
      "fold  4\n",
      "fold  5\n",
      "4.0\n",
      "fold  1\n",
      "fold  2\n",
      "fold  3\n",
      "fold  4\n",
      "fold  5\n",
      "4.5\n",
      "fold  1\n",
      "fold  2\n",
      "fold  3\n",
      "fold  4\n",
      "fold  5\n",
      "5.0\n",
      "fold  1\n",
      "fold  2\n",
      "fold  3\n",
      "fold  4\n",
      "fold  5\n",
      "5.5\n",
      "fold  1\n",
      "fold  2\n",
      "fold  3\n",
      "fold  4\n",
      "fold  5\n",
      "6.0\n",
      "fold  1\n",
      "fold  2\n",
      "fold  3\n",
      "fold  4\n",
      "fold  5\n",
      "6.5\n",
      "fold  1\n",
      "fold  2\n",
      "fold  3\n",
      "fold  4\n",
      "fold  5\n",
      "7.0\n",
      "fold  1\n",
      "fold  2\n",
      "fold  3\n",
      "fold  4\n",
      "fold  5\n",
      "7.5\n",
      "fold  1\n",
      "fold  2\n",
      "fold  3\n",
      "fold  4\n",
      "fold  5\n",
      "8.0\n",
      "fold  1\n",
      "fold  2\n",
      "fold  3\n",
      "fold  4\n",
      "fold  5\n",
      "8.5\n",
      "fold  1\n",
      "fold  2\n",
      "fold  3\n",
      "fold  4\n",
      "fold  5\n",
      "9.0\n",
      "fold  1\n",
      "fold  2\n",
      "fold  3\n",
      "fold  4\n",
      "fold  5\n",
      "9.5\n",
      "fold  1\n",
      "fold  2\n",
      "fold  3\n",
      "fold  4\n",
      "fold  5\n",
      "10.0\n",
      "fold  1\n",
      "fold  2\n",
      "fold  3\n",
      "fold  4\n",
      "fold  5\n"
     ]
    }
   ],
   "source": [
    "for strength in lambdas:\n",
    "    print(strength)\n",
    "    cv_classifier_skl = LogisticRegression(fit_intercept=False, tol=1e-6, C=1.0/strength)\n",
    "    cv_errors_skl[strength] = cv.k_fold_cv(x, y, k, cv_classifier_skl, cv_verbose=True)[2]"
   ]
  },
  {
   "cell_type": "code",
   "execution_count": 195,
   "metadata": {},
   "outputs": [
    {
     "data": {
      "text/plain": [
       "[<matplotlib.lines.Line2D at 0x1c1b464ac8>]"
      ]
     },
     "execution_count": 195,
     "metadata": {},
     "output_type": "execute_result"
    },
    {
     "data": {
      "image/png": "[encoded data removed]",
      "text/plain": [
       "<Figure size 432x288 with 1 Axes>"
      ]
     },
     "metadata": {},
     "output_type": "display_data"
    }
   ],
   "source": [
    "plt.plot(lambdas, cv_errors_skl)"
   ]
  },
  {
   "cell_type": "code",
   "execution_count": 196,
   "metadata": {},
   "outputs": [
    {
     "data": {
      "text/plain": [
       "0.5     0.00021716\n",
       "1.0     0.00021716\n",
       "1.5     0.00021739\n",
       "2.0     0.00021739\n",
       "2.5     0.00021716\n",
       "3.0     0.00021739\n",
       "3.5     0.00021739\n",
       "4.0     0.00021739\n",
       "4.5     0.00021739\n",
       "5.0     0.00043455\n",
       "5.5     0.00021739\n",
       "6.0     0.00043455\n",
       "6.5     0.00021739\n",
       "7.0     0.00021739\n",
       "7.5     0.00021739\n",
       "8.0     0.00021739\n",
       "8.5     0.00021739\n",
       "9.0     0.00021739\n",
       "9.5     0.00065217\n",
       "10.0    0.00021739\n",
       "dtype: float64"
      ]
     },
     "execution_count": 196,
     "metadata": {},
     "output_type": "execute_result"
    }
   ],
   "source": [
    "cv_errors_skl"
   ]
  },
  {
   "cell_type": "code",
   "execution_count": 207,
   "metadata": {},
   "outputs": [],
   "source": [
    "min_cv_errors_skl = cv_errors_skl.min()\n",
    "cv_errors_min_lambdas_skl = cv_errors_skl[cv_errors_skl == min_cv_errors_skl].index\n",
    "best_lambda_skl = cv_errors_min_lambdas_skl[-1]"
   ]
  },
  {
   "cell_type": "code",
   "execution_count": 208,
   "metadata": {},
   "outputs": [
    {
     "data": {
      "text/plain": [
       "LogisticRegression(C=2.5, class_weight=None, dual=False, fit_intercept=False,\n",
       "          intercept_scaling=1, max_iter=100, multi_class='ovr', n_jobs=1,\n",
       "          penalty='l2', random_state=None, solver='liblinear', tol=1e-06,\n",
       "          verbose=0, warm_start=False)"
      ]
     },
     "execution_count": 208,
     "metadata": {},
     "output_type": "execute_result"
    }
   ],
   "source": [
    "best_lambda_model_skl = LogisticRegression(fit_intercept=False, tol=1e-6, C=best_lambda_skl)\n",
    "best_lambda_model_skl.fit(x_train_std, y_train)"
   ]
  },
  {
   "cell_type": "code",
   "execution_count": 209,
   "metadata": {},
   "outputs": [
    {
     "name": "stdout",
     "output_type": "stream",
     "text": [
      "Best lambda for from-scratch model = 2.500000, best lambda for sklearn model = 2.500000\n"
     ]
    }
   ],
   "source": [
    "print('Best lambda for from-scratch model = %f, best lambda for sklearn model = %f' % (best_lambda, best_lambda_skl))"
   ]
  },
  {
   "cell_type": "markdown",
   "metadata": {},
   "source": [
    "*Remarks*: CV error both vary unevenly with lambda in the two implementations, with spikes and troughs throughout the range. They differed in that the sklearn models had uniformly low CV error with 3 isolated spikes, and lower values overall. Ultimately, however, they coincided in optimal lambda value, 2.5, with the only lambda giving optimal CV error in from-scratch models being the last such lambda in sklearn models."
   ]
  },
  {
   "cell_type": "markdown",
   "metadata": {},
   "source": [
    "#### Comparison of fitted parameters"
   ]
  },
  {
   "cell_type": "code",
   "execution_count": 210,
   "metadata": {},
   "outputs": [],
   "source": [
    "normed_diff = (classifier_best_lambda.beta - best_lambda_model_skl.coef_) / best_lambda_model_skl.coef_"
   ]
  },
  {
   "cell_type": "code",
   "execution_count": 211,
   "metadata": {
    "scrolled": true
   },
   "outputs": [
    {
     "name": "stdout",
     "output_type": "stream",
     "text": [
      "normalised difference: [[-0.41004959 -0.0866814  -0.07470117  0.08651487 -0.45442294  0.00764061\n",
      "  -0.182302    0.02299066  0.14717541  0.00631331 -0.0148042   0.27486886\n",
      "   0.03125935  0.0659789  -0.38537508 -0.06522156 -0.19094063 -0.05549444\n",
      "   0.64482734  0.07433717 -0.14486787 -0.00673743  0.15119345  0.02296688\n",
      "   0.10155582 -0.26240951 -0.03817651 -0.55970948 -0.17185167 -0.35096955\n",
      "   0.06184615  1.85259112  4.424763    0.01787412  0.21843542 -0.20741757\n",
      "  -0.20646553 -3.7381788  -0.16279612 -0.1228519  -0.11081866 -0.63335673\n",
      "  -0.29194889 -0.10721406 -0.20957741 -0.0495216  -0.14177868 -0.1440774\n",
      "  -0.30807766 -0.02567524 -0.02458947  0.34583321  0.08491924 -0.04571484\n",
      "  -0.39872307 -0.27868277 -0.13842971 -0.11954574]]\n"
     ]
    }
   ],
   "source": [
    "print('normalised difference:', normed_diff)"
   ]
  },
  {
   "cell_type": "code",
   "execution_count": 212,
   "metadata": {
    "scrolled": true
   },
   "outputs": [
    {
     "name": "stdout",
     "output_type": "stream",
     "text": [
      "max. absolute normalised difference: 4.424762997420581\n"
     ]
    }
   ],
   "source": [
    "print('max. absolute normalised difference:', np.abs(normed_diff).max())"
   ]
  },
  {
   "cell_type": "code",
   "execution_count": 213,
   "metadata": {
    "scrolled": true
   },
   "outputs": [
    {
     "name": "stdout",
     "output_type": "stream",
     "text": [
      "average absolute normalised difference: 0.3373110653198297\n"
     ]
    }
   ],
   "source": [
    "print('average absolute normalised difference:', np.abs(normed_diff).mean())"
   ]
  },
  {
   "cell_type": "code",
   "execution_count": 214,
   "metadata": {
    "scrolled": true
   },
   "outputs": [
    {
     "name": "stdout",
     "output_type": "stream",
     "text": [
      "median absolute normalised difference: 0.14292804048262223\n"
     ]
    }
   ],
   "source": [
    "print('median absolute normalised difference:', np.median(np.abs(normed_diff)))"
   ]
  },
  {
   "cell_type": "markdown",
   "metadata": {},
   "source": [
    "*Remarks*: The normalised parameter differences with the lambda selected by k-fold CV seem somewhat larger than those estimated on the training set with lambda=1, along with a larger maximum of over 442%. This translates into a somewhat higher average, of 33.73%, versus below 5%."
   ]
  },
  {
   "cell_type": "markdown",
   "metadata": {},
   "source": [
    "#### Prediction error rates on training and test sets"
   ]
  },
  {
   "cell_type": "markdown",
   "metadata": {},
   "source": [
    "_Model implemented from scratch_"
   ]
  },
  {
   "cell_type": "code",
   "execution_count": 215,
   "metadata": {},
   "outputs": [
    {
     "data": {
      "text/plain": [
       "0.06869565217391305"
      ]
     },
     "execution_count": 215,
     "metadata": {},
     "output_type": "execute_result"
    }
   ],
   "source": [
    "(classifier_best_lambda.predict(x_train_std) != y_train).astype(int).mean()"
   ]
  },
  {
   "cell_type": "code",
   "execution_count": 216,
   "metadata": {},
   "outputs": [
    {
     "data": {
      "text/plain": [
       "0.07471763683753258"
      ]
     },
     "execution_count": 216,
     "metadata": {},
     "output_type": "execute_result"
    }
   ],
   "source": [
    "(classifier_best_lambda.predict(x_test_std) != y_test).astype(int).mean()"
   ]
  },
  {
   "cell_type": "markdown",
   "metadata": {},
   "source": [
    "_Scikit-learn model for comparison_"
   ]
  },
  {
   "cell_type": "code",
   "execution_count": 217,
   "metadata": {},
   "outputs": [
    {
     "data": {
      "text/plain": [
       "0.06753623188405797"
      ]
     },
     "execution_count": 217,
     "metadata": {},
     "output_type": "execute_result"
    }
   ],
   "source": [
    "(best_lambda_model_skl.predict(x_train_std) != y_train).astype(int).mean()"
   ]
  },
  {
   "cell_type": "code",
   "execution_count": 218,
   "metadata": {},
   "outputs": [
    {
     "data": {
      "text/plain": [
       "0.07124239791485665"
      ]
     },
     "execution_count": 218,
     "metadata": {},
     "output_type": "execute_result"
    }
   ],
   "source": [
    "(best_lambda_model_skl.predict(x_test_std) != y_test).astype(int).mean()"
   ]
  }
 ],
 "metadata": {
  "kernelspec": {
   "display_name": "Python 3",
   "language": "python",
   "name": "python3"
  },
  "language_info": {
   "codemirror_mode": {
    "name": "ipython",
    "version": 3
   },
   "file_extension": ".py",
   "mimetype": "text/x-python",
   "name": "python",
   "nbconvert_exporter": "python",
   "pygments_lexer": "ipython3",
   "version": "3.6.5"
  }
 },
 "nbformat": 4,
 "nbformat_minor": 2
}
