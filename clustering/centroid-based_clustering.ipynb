{
 "cells": [
  {
   "cell_type": "code",
   "execution_count": 5,
   "metadata": {},
   "outputs": [],
   "source": [
    "import matplotlib.pyplot as plt\n",
    "import numpy as np\n",
    "import pandas as pd\n",
    "import random as rnd\n",
    "import seaborn as sns"
   ]
  },
  {
   "cell_type": "markdown",
   "metadata": {},
   "source": [
    "### A first glance at the data"
   ]
  },
  {
   "cell_type": "code",
   "execution_count": 6,
   "metadata": {},
   "outputs": [],
   "source": [
    "faithful = pd.read_csv('../data/old_faithful.csv')"
   ]
  },
  {
   "cell_type": "code",
   "execution_count": 4,
   "metadata": {},
   "outputs": [
    {
     "data": {
      "text/html": [
       "<div>\n",
       "<style scoped>\n",
       "    .dataframe tbody tr th:only-of-type {\n",
       "        vertical-align: middle;\n",
       "    }\n",
       "\n",
       "    .dataframe tbody tr th {\n",
       "        vertical-align: top;\n",
       "    }\n",
       "\n",
       "    .dataframe thead th {\n",
       "        text-align: right;\n",
       "    }\n",
       "</style>\n",
       "<table border=\"1\" class=\"dataframe\">\n",
       "  <thead>\n",
       "    <tr style=\"text-align: right;\">\n",
       "      <th></th>\n",
       "      <th>eruptions</th>\n",
       "      <th>waiting</th>\n",
       "    </tr>\n",
       "  </thead>\n",
       "  <tbody>\n",
       "    <tr>\n",
       "      <th>count</th>\n",
       "      <td>272.000000</td>\n",
       "      <td>272.000000</td>\n",
       "    </tr>\n",
       "    <tr>\n",
       "      <th>mean</th>\n",
       "      <td>3.487783</td>\n",
       "      <td>70.897059</td>\n",
       "    </tr>\n",
       "    <tr>\n",
       "      <th>std</th>\n",
       "      <td>1.141371</td>\n",
       "      <td>13.594974</td>\n",
       "    </tr>\n",
       "    <tr>\n",
       "      <th>min</th>\n",
       "      <td>1.600000</td>\n",
       "      <td>43.000000</td>\n",
       "    </tr>\n",
       "    <tr>\n",
       "      <th>25%</th>\n",
       "      <td>2.162750</td>\n",
       "      <td>58.000000</td>\n",
       "    </tr>\n",
       "    <tr>\n",
       "      <th>50%</th>\n",
       "      <td>4.000000</td>\n",
       "      <td>76.000000</td>\n",
       "    </tr>\n",
       "    <tr>\n",
       "      <th>75%</th>\n",
       "      <td>4.454250</td>\n",
       "      <td>82.000000</td>\n",
       "    </tr>\n",
       "    <tr>\n",
       "      <th>max</th>\n",
       "      <td>5.100000</td>\n",
       "      <td>96.000000</td>\n",
       "    </tr>\n",
       "  </tbody>\n",
       "</table>\n",
       "</div>"
      ],
      "text/plain": [
       "        eruptions     waiting\n",
       "count  272.000000  272.000000\n",
       "mean     3.487783   70.897059\n",
       "std      1.141371   13.594974\n",
       "min      1.600000   43.000000\n",
       "25%      2.162750   58.000000\n",
       "50%      4.000000   76.000000\n",
       "75%      4.454250   82.000000\n",
       "max      5.100000   96.000000"
      ]
     },
     "execution_count": 4,
     "metadata": {},
     "output_type": "execute_result"
    }
   ],
   "source": [
    "faithful.describe()"
   ]
  },
  {
   "cell_type": "code",
   "execution_count": 520,
   "metadata": {},
   "outputs": [
    {
     "data": {
      "text/plain": [
       "<matplotlib.axes._subplots.AxesSubplot at 0x1a16937438>"
      ]
     },
     "execution_count": 520,
     "metadata": {},
     "output_type": "execute_result"
    },
    {
     "data": {
      "image/png": "[encoded data removed]",
      "text/plain": [
       "<Figure size 432x288 with 1 Axes>"
      ]
     },
     "metadata": {},
     "output_type": "display_data"
    }
   ],
   "source": [
    "sns.scatterplot(x='eruptions', y='waiting', data=faithful)"
   ]
  },
  {
   "cell_type": "markdown",
   "metadata": {},
   "source": [
    "Two distinct clusters are visible"
   ]
  },
  {
   "cell_type": "markdown",
   "metadata": {},
   "source": [
    "## Clustering algorithm definitions & applications"
   ]
  },
  {
   "cell_type": "markdown",
   "metadata": {},
   "source": [
    "### Starting with the basics: k-means and k-means++"
   ]
  },
  {
   "cell_type": "code",
   "execution_count": 362,
   "metadata": {},
   "outputs": [],
   "source": [
    "def expectation(data, mu):\n",
    "    def compute_squared_distances(mean):\n",
    "        return np.square(data - mean).sum(axis=1)\n",
    "    return np.apply_along_axis(compute_squared_distances, 1, mu).argmin(axis=0)"
   ]
  },
  {
   "cell_type": "code",
   "execution_count": 363,
   "metadata": {},
   "outputs": [],
   "source": [
    "def maximisation(data, assignments, k):\n",
    "    def compute_mean(j):\n",
    "        return data[assignments == j].mean(axis=0)\n",
    "    return np.apply_along_axis(compute_mean, 0, [list(range(k))]).transpose()"
   ]
  },
  {
   "cell_type": "code",
   "execution_count": 364,
   "metadata": {},
   "outputs": [],
   "source": [
    "def compute_squared_distances(data, mean):\n",
    "    return np.square(data - mean).sum(axis=1)"
   ]
  },
  {
   "cell_type": "code",
   "execution_count": 365,
   "metadata": {},
   "outputs": [],
   "source": [
    "def pp_init(data, k):\n",
    "    data_shape = data.shape\n",
    "    include = np.ones(data_shape[0], np.bool)\n",
    "    mu = np.zeros((k, data_shape[1]))\n",
    "    idx = np.random.randint(0, data_shape[0], 1)\n",
    "    include[idx] = False\n",
    "    mu[0] = data[idx].copy()\n",
    "    indices = np.arange(data_shape[0])\n",
    "    for i in range(1, k):\n",
    "        assignments = expectation(data, mu[:i])\n",
    "        assigned_means = data.copy()\n",
    "        for j in range(data_shape[0]):\n",
    "            assigned_means[j] = mu[assignments[j]]\n",
    "        dist_sqrs = compute_squared_distances(data, assigned_means)[include]\n",
    "        idx = np.random.choice(indices[include], p = dist_sqrs / dist_sqrs.sum())\n",
    "        include[idx] = False\n",
    "        mu[i] = data[idx].copy()\n",
    "    return mu"
   ]
  },
  {
   "cell_type": "code",
   "execution_count": 366,
   "metadata": {},
   "outputs": [],
   "source": [
    "def init_mu(mu, data, k):\n",
    "    data_shape = data.shape\n",
    "    if isinstance(mu, np.ndarray) or isinstance(mu, pd.Series):\n",
    "        mu_shape = mu.shape\n",
    "        if mu_shape[1] != data_shape[1]:\n",
    "            raise ValueError('Data element and mean dimensions differ')\n",
    "        if mu_shape[0] != k:\n",
    "            raise ValueError('Number of means provided not equal to k')\n",
    "        return mu.copy()\n",
    "    elif mu == 'random':\n",
    "        return data[np.random.randint(0, data_shape[0], k)].copy()\n",
    "    elif mu == '++':\n",
    "        return pp_init(data, k)\n",
    "    else:\n",
    "        raise ValueError(\"Invalid value for mu. Accepted values: 'random', '++', or array-like\")"
   ]
  },
  {
   "cell_type": "code",
   "execution_count": 367,
   "metadata": {},
   "outputs": [],
   "source": [
    "def kmeans(data, k, mu='random', tol=1e-6):\n",
    "    data_cp = np.array(data, copy=True)\n",
    "    mu_cp = init_mu(mu, data_cp, k)\n",
    "    assignments = expectation(data_cp, mu_cp)\n",
    "    mu_next = maximisation(data_cp, assignments, k)\n",
    "    while np.linalg.norm(mu_next - mu_cp) >= tol:\n",
    "        mu_cp = mu_next\n",
    "        assignments = expectation(data_cp, mu_cp)\n",
    "        mu_next = maximisation(data_cp, assignments, k)\n",
    "    return (mu_next, assignments)"
   ]
  },
  {
   "cell_type": "markdown",
   "metadata": {},
   "source": [
    "#### k-means"
   ]
  },
  {
   "cell_type": "code",
   "execution_count": 485,
   "metadata": {},
   "outputs": [],
   "source": [
    "mu, assignments = kmeans(faithful, 2)"
   ]
  },
  {
   "cell_type": "code",
   "execution_count": 486,
   "metadata": {},
   "outputs": [
    {
     "data": {
      "text/plain": [
       "array([[ 4.29793023, 80.28488372],\n",
       "       [ 2.09433   , 54.75      ]])"
      ]
     },
     "execution_count": 486,
     "metadata": {},
     "output_type": "execute_result"
    }
   ],
   "source": [
    "mu"
   ]
  },
  {
   "cell_type": "markdown",
   "metadata": {},
   "source": [
    "_Remark_: The chosen means coincide well with what visual inspection suggests. Things are unlikely to go so smoothly with messier data."
   ]
  },
  {
   "cell_type": "markdown",
   "metadata": {},
   "source": [
    "#### k-means++"
   ]
  },
  {
   "cell_type": "code",
   "execution_count": 460,
   "metadata": {},
   "outputs": [],
   "source": [
    "mu, assignments = kmeans(faithful, 2, mu='++')"
   ]
  },
  {
   "cell_type": "code",
   "execution_count": 461,
   "metadata": {},
   "outputs": [
    {
     "data": {
      "text/plain": [
       "array([[ 4.29793023, 80.28488372],\n",
       "       [ 2.09433   , 54.75      ]])"
      ]
     },
     "execution_count": 461,
     "metadata": {},
     "output_type": "execute_result"
    }
   ],
   "source": [
    "mu"
   ]
  },
  {
   "cell_type": "markdown",
   "metadata": {},
   "source": [
    "_Remark_: The solution is identical, unsurprisingly (I'd expect it to be at least very similar in this case). Not much to see here."
   ]
  },
  {
   "cell_type": "markdown",
   "metadata": {},
   "source": [
    "### k-medians"
   ]
  },
  {
   "cell_type": "markdown",
   "metadata": {},
   "source": [
    "#### TODO: DEBUG / figure out medoid=True support!!!"
   ]
  },
  {
   "cell_type": "code",
   "execution_count": 7,
   "metadata": {},
   "outputs": [],
   "source": [
    "def kmedians_maximisation(data, assignments, k, medoid=False):\n",
    "    def compute_median(j):\n",
    "        return np.median(data[assignments == j], axis=0)\n",
    "    # Pretty sure the element closest to the median minimises the sum of absolute Euclidean distances,\n",
    "    # though a proper proof would be more involved than I can handle right now\n",
    "    # In fact, why doesn't any reference state so explicitly when harping on about PAM being O(n^2) in general???\n",
    "    def compute_medoid(j):\n",
    "        cluster = data[assignments == j]\n",
    "        return cluster[((cluster - compute_median(j)) ** 2).argmin()]\n",
    "    if medoid:\n",
    "        return np.apply_along_axis(compute_medoid, 0, [list(range(k))]).transpose()\n",
    "    return np.apply_along_axis(compute_median, 0, [list(range(k))]).transpose()"
   ]
  },
  {
   "cell_type": "code",
   "execution_count": 522,
   "metadata": {},
   "outputs": [],
   "source": [
    "def kmedians(data, k, mu='random', medoid=False, tol=1e-6):\n",
    "    data_cp = np.array(data, copy=True)\n",
    "    mu_cp = init_mu(mu, data_cp, k)\n",
    "    assignments = expectation(data_cp, mu_cp)\n",
    "    mu_next = kmedians_maximisation(data_cp, assignments, k, medoid)\n",
    "    while np.linalg.norm(mu_next - mu_cp) >= tol:\n",
    "        mu_cp = mu_next\n",
    "        assignments = expectation(data_cp, mu_cp)\n",
    "        mu_next = kmedians_maximisation(data_cp, assignments, k, medoid)\n",
    "        print(mu_next)\n",
    "    return (mu_next, assignments)"
   ]
  },
  {
   "cell_type": "code",
   "execution_count": 462,
   "metadata": {},
   "outputs": [],
   "source": [
    "mu, assignments = kmedians(faithful, 2)"
   ]
  },
  {
   "cell_type": "code",
   "execution_count": 463,
   "metadata": {},
   "outputs": [
    {
     "data": {
      "text/plain": [
       "array([[ 1.983, 54.   ],\n",
       "       [ 4.35 , 80.   ]])"
      ]
     },
     "execution_count": 463,
     "metadata": {},
     "output_type": "execute_result"
    }
   ],
   "source": [
    "mu"
   ]
  },
  {
   "cell_type": "markdown",
   "metadata": {},
   "source": [
    "_Remark_: The result is close but not equal to that from kmeans(++), which again makes sense"
   ]
  },
  {
   "cell_type": "markdown",
   "metadata": {},
   "source": [
    "### k-medoids / partitioning around medoids (PAM)"
   ]
  },
  {
   "cell_type": "code",
   "execution_count": 376,
   "metadata": {},
   "outputs": [],
   "source": [
    "def compute_cost(data, assignments, mu):\n",
    "    closest_means = np.zeros(data.shape)\n",
    "    for i in range(len(closest_means)):\n",
    "        closest_means[i] = mu[assignments[i]]\n",
    "    return compute_squared_distances(data, closest_means).sum()"
   ]
  },
  {
   "cell_type": "code",
   "execution_count": 377,
   "metadata": {},
   "outputs": [],
   "source": [
    "def k_pam(data, k, mu='random', tol=1e-6):\n",
    "    data_shape = data.shape\n",
    "    data_cp = np.array(data, copy=True)\n",
    "    mu_cp = init_mu(mu, data_cp, k)\n",
    "    assignments = expectation(data, mu_cp)\n",
    "    prev_cost = np.inf\n",
    "    note_mu, note_assignments, cost = mu_cp, assignments, compute_cost(data_cp, assignments, mu_cp)\n",
    "    while cost < prev_cost:\n",
    "        mu_cp, assignments, prev_cost = note_mu, note_assignments, cost\n",
    "        not_centroid = np.ones(data_shape[0], dtype=np.bool)\n",
    "        for j in range(data_shape[0]):\n",
    "            not_centroid[j] = not((data_cp[j] == mu_cp).all(axis=1).any())\n",
    "        for i in range(k):\n",
    "            for datum in data_cp[not_centroid]:\n",
    "                tmp_mu = mu_cp.copy()\n",
    "                tmp_mu[i] = datum\n",
    "                tmp_assignments = expectation(data_cp, tmp_mu)\n",
    "                tmp_cost = compute_cost(data_cp, tmp_assignments, tmp_mu)\n",
    "                if tmp_cost < cost:\n",
    "                    note_mu, note_assignments, cost = tmp_mu, tmp_assignments, tmp_cost\n",
    "    return (mu_cp, assignments)"
   ]
  },
  {
   "cell_type": "code",
   "execution_count": 487,
   "metadata": {},
   "outputs": [],
   "source": [
    "mu, assignments = k_pam(faithful, 2)"
   ]
  },
  {
   "cell_type": "code",
   "execution_count": 488,
   "metadata": {},
   "outputs": [
    {
     "data": {
      "text/plain": [
       "array([[ 2.183, 55.   ],\n",
       "       [ 4.35 , 80.   ]])"
      ]
     },
     "execution_count": 488,
     "metadata": {},
     "output_type": "execute_result"
    }
   ],
   "source": [
    "mu"
   ]
  },
  {
   "cell_type": "code",
   "execution_count": 503,
   "metadata": {},
   "outputs": [],
   "source": [
    "mu, assignments = k_pam(faithful, 2, mu='++')"
   ]
  },
  {
   "cell_type": "code",
   "execution_count": 504,
   "metadata": {},
   "outputs": [
    {
     "data": {
      "text/plain": [
       "array([[ 2.183, 55.   ],\n",
       "       [ 4.35 , 80.   ]])"
      ]
     },
     "execution_count": 504,
     "metadata": {},
     "output_type": "execute_result"
    }
   ],
   "source": [
    "mu"
   ]
  },
  {
   "cell_type": "markdown",
   "metadata": {},
   "source": [
    "_Remark_: 1 centroid is identical to that chosen by k-medians, while the other is different though with a similar (marginally smaller) discrepancy from that chosen by k-means."
   ]
  },
  {
   "cell_type": "markdown",
   "metadata": {},
   "source": [
    "## Selecting an optimal k and/or method\n",
    "(even though in this case k is obviously 2)"
   ]
  },
  {
   "cell_type": "code",
   "execution_count": 468,
   "metadata": {},
   "outputs": [],
   "source": [
    "def get_sorted_data(data_init, assnmts_init):\n",
    "    data = data_init.copy()\n",
    "    data['cluster'] = assignments\n",
    "    data.sort_values(by='cluster', axis=0, inplace=True)\n",
    "    return (data[data.columns[:-1]], data.cluster)"
   ]
  },
  {
   "cell_type": "code",
   "execution_count": 469,
   "metadata": {},
   "outputs": [],
   "source": [
    "def get_cross_distances(data):\n",
    "    cross_vals = np.repeat(data.values[np.newaxis], len(data), axis=0)\n",
    "    cross_diffs = cross_vals - np.repeat(data.values[:, np.newaxis, :], len(data), axis=1)\n",
    "    cross_distances = pd.DataFrame(np.sqrt((cross_diffs ** 2).sum(axis=2)))\n",
    "    return cross_distances"
   ]
  },
  {
   "cell_type": "code",
   "execution_count": 470,
   "metadata": {},
   "outputs": [],
   "source": [
    "def adjust_self_distances(obs_mean_distances, cluster_sizes):\n",
    "    cluster_sizes = obs_mean_distances.apply(lambda obs: cluster_sizes[obs.cluster], axis=1)\n",
    "    self_dist = obs_mean_distances.apply(lambda obs: obs[int(obs.cluster)], axis=1)\n",
    "    adj = cluster_sizes / (cluster_sizes - 1)\n",
    "    return self_dist * adj"
   ]
  },
  {
   "cell_type": "code",
   "execution_count": 471,
   "metadata": {},
   "outputs": [],
   "source": [
    "def get_silhouettes_from_distances(cross_distances, assignments):\n",
    "    cross_distances['cluster'] = assignments.reset_index(drop=True).astype(int)\n",
    "    cluster_sizes = cross_distances.cluster.value_counts(sort=False)\n",
    "    cluster_cumsum = cluster_sizes.cumsum()\n",
    "    cluster_mean_distances = cross_distances.groupby('cluster').mean()\n",
    "    obs_mean_distances = cluster_mean_distances.T\n",
    "    obs_mean_distances['cluster'] = assignments.reset_index(drop=True).astype(int)\n",
    "    obs_mean_distances['self_dist'] = adjust_self_distances(obs_mean_distances, cluster_sizes)\n",
    "    obs_mean_distances['other_clusters'] = obs_mean_distances.cluster.apply(lambda c: cluster_sizes.index.difference([c]))\n",
    "    obs_mean_distances['min_other_dists'] = obs_mean_distances.apply(lambda obs: obs[obs.other_clusters], axis=1).min(axis=1)\n",
    "    max_dist = obs_mean_distances[['self_dist', 'min_other_dists']].max(axis=1)\n",
    "    obs_mean_distances['silhouette'] = (obs_mean_distances.min_other_dists - obs_mean_distances.self_dist) / max_dist\n",
    "    return obs_mean_distances.silhouette"
   ]
  },
  {
   "cell_type": "code",
   "execution_count": 480,
   "metadata": {},
   "outputs": [],
   "source": [
    "def get_silhouettes(data_init, assnmts_init):\n",
    "    data, assignments = get_sorted_data(data_init, assnmts_init)\n",
    "    cross_distances = get_cross_distances(data)\n",
    "    silhouettes = get_silhouettes_from_distances(cross_distances, assignments)\n",
    "    silhouettes.index = data.index\n",
    "    return silhouettes.reindex(data_init.index)"
   ]
  },
  {
   "cell_type": "code",
   "execution_count": 508,
   "metadata": {},
   "outputs": [],
   "source": [
    "def get_silhouette_coefficient(data, assignments):\n",
    "    return get_silhouettes(data, assignments).mean()"
   ]
  },
  {
   "cell_type": "markdown",
   "metadata": {},
   "source": [
    "### Vary k using k-means++\n",
    "Skip method selection because differences in clustering quality (according to metrics e.g. the silhouette coefficient) seem likely marginal in this case."
   ]
  },
  {
   "cell_type": "code",
   "execution_count": 511,
   "metadata": {},
   "outputs": [],
   "source": [
    "scores = [0] * 10\n",
    "for k in range(1, 10):\n",
    "    mu, assignments = kmeans(faithful, k)\n",
    "    scores[k] = get_silhouette_coefficient(faithful, assignments)"
   ]
  },
  {
   "cell_type": "code",
   "execution_count": 516,
   "metadata": {},
   "outputs": [
    {
     "data": {
      "text/plain": [
       "[0,\n",
       " nan,\n",
       " 0.7240548519958575,\n",
       " 0.5836176227759594,\n",
       " 0.546831400306024,\n",
       " 0.5481460043306782,\n",
       " 0.5129618420243028,\n",
       " 0.529500610146896,\n",
       " 0.49058460059988773,\n",
       " 0.5223351735327652]"
      ]
     },
     "execution_count": 516,
     "metadata": {},
     "output_type": "execute_result"
    }
   ],
   "source": [
    "scores"
   ]
  },
  {
   "cell_type": "code",
   "execution_count": 515,
   "metadata": {},
   "outputs": [
    {
     "data": {
      "text/plain": [
       "[<matplotlib.lines.Line2D at 0x1a15439278>]"
      ]
     },
     "execution_count": 515,
     "metadata": {},
     "output_type": "execute_result"
    },
    {
     "data": {
      "image/png": "[encoded data removed]",
      "text/plain": [
       "<Figure size 432x288 with 1 Axes>"
      ]
     },
     "metadata": {},
     "output_type": "display_data"
    }
   ],
   "source": [
    "plt.plot(range(2, 10), scores[2:10])"
   ]
  },
  {
   "cell_type": "markdown",
   "metadata": {},
   "source": [
    "_Remarks_: Unsurprisingly (in this case), the silhouette coefficient decreases as k increases, with the highest value (by far) at k=2."
   ]
  }
 ],
 "metadata": {
  "kernelspec": {
   "display_name": "Python 3",
   "language": "python",
   "name": "python3"
  },
  "language_info": {
   "codemirror_mode": {
    "name": "ipython",
    "version": 3
   },
   "file_extension": ".py",
   "mimetype": "text/x-python",
   "name": "python",
   "nbconvert_exporter": "python",
   "pygments_lexer": "ipython3",
   "version": "3.6.5"
  }
 },
 "nbformat": 4,
 "nbformat_minor": 2
}
