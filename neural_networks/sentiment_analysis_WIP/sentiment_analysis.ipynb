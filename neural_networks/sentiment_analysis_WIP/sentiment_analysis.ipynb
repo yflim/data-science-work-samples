{
 "cells": [
  {
   "cell_type": "markdown",
   "metadata": {},
   "source": [
    "**TL;DR:** Initial full attempt resulted in only ~0.5 accuracy on full sample; clearly something is off. Speculated that this was due to the truncated vocabulary used still being too large, and/or not lemmatising, resulting in an inadequate (noisy and/or lossy) word2vec representation. Haven't finished testing this idea yet."
   ]
  },
  {
   "cell_type": "code",
   "execution_count": 5,
   "metadata": {},
   "outputs": [],
   "source": [
    "import keras\n",
    "from keras.models import Sequential\n",
    "from keras.layers import LSTM, Dense, Dropout\n",
    "from keras.preprocessing import sequence\n",
    "from keras.preprocessing.text import Tokenizer\n",
    "from keras.wrappers.scikit_learn import KerasClassifier\n",
    "import numpy as np\n",
    "import pandas as pd\n",
    "from scipy import stats\n",
    "import seaborn as sns\n",
    "from sklearn.model_selection import cross_val_score, StratifiedKFold, train_test_split\n",
    "from sklearn.feature_extraction.text import TfidfVectorizer\n",
    "import tensorflow as tf\n",
    "import word2vec"
   ]
  },
  {
   "cell_type": "markdown",
   "metadata": {},
   "source": [
    "# Load & prep data"
   ]
  },
  {
   "cell_type": "code",
   "execution_count": null,
   "metadata": {},
   "outputs": [],
   "source": [
    "tweets = pd.read_csv('data/training.1600000.processed.noemoticon.csv', header=None, encoding='ISO-8859-1')"
   ]
  },
  {
   "cell_type": "code",
   "execution_count": null,
   "metadata": {},
   "outputs": [],
   "source": [
    "tweets.shape"
   ]
  },
  {
   "cell_type": "code",
   "execution_count": null,
   "metadata": {},
   "outputs": [],
   "source": [
    "tweets.head()"
   ]
  },
  {
   "cell_type": "code",
   "execution_count": null,
   "metadata": {},
   "outputs": [],
   "source": [
    "tweets[0].value_counts()"
   ]
  },
  {
   "cell_type": "code",
   "execution_count": null,
   "metadata": {},
   "outputs": [],
   "source": [
    "tweets.rename(columns = { 0: 'positive', 5: 'tweet' }, inplace=True)\n",
    "tweets = tweets[['positive', 'tweet']]\n",
    "tweets.loc[:, 'positive'] = (tweets.positive == 4).astype(np.uint8)"
   ]
  },
  {
   "cell_type": "markdown",
   "metadata": {},
   "source": [
    "## Identify number of terms (size of vocabulary) to consider\n",
    "using IDF (inverse document frequency) distribution"
   ]
  },
  {
   "cell_type": "code",
   "execution_count": 6,
   "metadata": {},
   "outputs": [],
   "source": [
    "vectoriser = TfidfVectorizer()\n",
    "doc_terms = vectoriser.fit_transform(tweets.tweet)"
   ]
  },
  {
   "cell_type": "code",
   "execution_count": 7,
   "metadata": {},
   "outputs": [
    {
     "data": {
      "text/plain": [
       "DescribeResult(nobs=684358, minmax=(2.250207176415574, 14.59236763164987), mean=14.211100645629408, variance=0.7161283022424955, skewness=-3.981211810930763, kurtosis=22.023923629571634)"
      ]
     },
     "execution_count": 7,
     "metadata": {},
     "output_type": "execute_result"
    }
   ],
   "source": [
    "stats.describe(vectoriser.idf_)"
   ]
  },
  {
   "cell_type": "code",
   "execution_count": 8,
   "metadata": {},
   "outputs": [
    {
     "data": {
      "text/plain": [
       "<matplotlib.axes._subplots.AxesSubplot at 0x152c68b00>"
      ]
     },
     "execution_count": 8,
     "metadata": {},
     "output_type": "execute_result"
    },
    {
     "data": {
      "image/png": "[encoded data removed]",
      "text/plain": [
       "<Figure size 432x288 with 1 Axes>"
      ]
     },
     "metadata": {
      "needs_background": "light"
     },
     "output_type": "display_data"
    }
   ],
   "source": [
    "sns.distplot(vectoriser.idf_)"
   ]
  },
  {
   "cell_type": "code",
   "execution_count": 9,
   "metadata": {},
   "outputs": [],
   "source": [
    "indices_to_words = pd.Series(list(vectoriser.vocabulary_.keys()), index=list(vectoriser.vocabulary_.values()))"
   ]
  },
  {
   "cell_type": "code",
   "execution_count": 10,
   "metadata": {},
   "outputs": [],
   "source": [
    "word_idxs_invfreq_sorted = np.argsort(vectoriser.idf_)"
   ]
  },
  {
   "cell_type": "code",
   "execution_count": 11,
   "metadata": {},
   "outputs": [
    {
     "data": {
      "text/plain": [
       "613861      to\n",
       "600797     the\n",
       "433663      my\n",
       "68527      and\n",
       "300094      it\n",
       "675497     you\n",
       "299013      is\n",
       "235685     for\n",
       "293405      in\n",
       "458032      of\n",
       "462013      on\n",
       "402259      me\n",
       "600330    that\n",
       "563436      so\n",
       "269160    have\n",
       "124252     but\n",
       "330392    just\n",
       "658180    with\n",
       "95144       be\n",
       "82734       at\n",
       "452789     not\n",
       "648494     was\n",
       "453592     now\n",
       "607680    this\n",
       "128986     can\n",
       "634734      up\n",
       "255508    good\n",
       "177229     day\n",
       "61704      all\n",
       "466370     out\n",
       "dtype: object"
      ]
     },
     "execution_count": 11,
     "metadata": {},
     "output_type": "execute_result"
    }
   ],
   "source": [
    "indices_to_words[word_idxs_invfreq_sorted].iloc[:30]"
   ]
  },
  {
   "cell_type": "markdown",
   "metadata": {},
   "source": [
    "#### Where do the terms stop making sense?\n",
    "Finding a threshold at which to exclude terms"
   ]
  },
  {
   "cell_type": "code",
   "execution_count": 12,
   "metadata": {},
   "outputs": [
    {
     "data": {
      "text/plain": [
       "95687               beary\n",
       "571682            squiffy\n",
       "390977          mamzellef\n",
       "223551              facit\n",
       "657158             winder\n",
       "421653      mollyschambrs\n",
       "45432              _nathy\n",
       "383288           luscious\n",
       "647266              walao\n",
       "182537           denicesy\n",
       "421651             mollys\n",
       "428031           mrscantz\n",
       "661779               wren\n",
       "574077             startd\n",
       "561892              smont\n",
       "538452      scizzorwizard\n",
       "204198           ebbsbaby\n",
       "204321          ebonyeeee\n",
       "329413            julieem\n",
       "451393             nolans\n",
       "576239    stephy_michelle\n",
       "390851          mameekins\n",
       "95752             beatccr\n",
       "217586          esperanto\n",
       "616901               tope\n",
       "576253       stephylouise\n",
       "676373              youur\n",
       "150959            cleaver\n",
       "337146          katiekayx\n",
       "341782               kens\n",
       "217623          esplanade\n",
       "24598              5years\n",
       "223269          fabulista\n",
       "552565           shrnclrk\n",
       "483119           pinkpebs\n",
       "183000              depan\n",
       "29454               6emqk\n",
       "652839         whaaaaaaat\n",
       "209842        ellifordyce\n",
       "348711                klm\n",
       "557861             skewed\n",
       "461092       olorinlorien\n",
       "552592               shrt\n",
       "223339             facade\n",
       "579028             strata\n",
       "317740              jhsty\n",
       "10397                 295\n",
       "151030            clement\n",
       "423590           mooching\n",
       "95714             beastin\n",
       "dtype: object"
      ]
     },
     "execution_count": 12,
     "metadata": {},
     "output_type": "execute_result"
    }
   ],
   "source": [
    "indices_to_words[word_idxs_invfreq_sorted].iloc[50000:50050]"
   ]
  },
  {
   "cell_type": "code",
   "execution_count": 13,
   "metadata": {},
   "outputs": [
    {
     "data": {
      "text/plain": [
       "181201             deidra\n",
       "556980             sittig\n",
       "682301            zuhiboy\n",
       "388147         magda_m_78\n",
       "677226               yule\n",
       "138447           chandrat\n",
       "575933       stephenshuai\n",
       "376474        lollingtons\n",
       "679376               zajã\n",
       "13399           30million\n",
       "181062    defyingdestinyy\n",
       "111968             bonyok\n",
       "673193             yeeeuh\n",
       "124545        butterworth\n",
       "13397               30mil\n",
       "394623          marjorie5\n",
       "557082              siwon\n",
       "162135           craig563\n",
       "151464         clioawards\n",
       "584323       supercricket\n",
       "181057     defygravity213\n",
       "102541             bhajji\n",
       "124552           buttfuck\n",
       "388101              magan\n",
       "557065            sivi911\n",
       "557066          sivinjski\n",
       "607624            thirdly\n",
       "673191              yeeet\n",
       "601576         theatricel\n",
       "557069      siviwekwatsha\n",
       "162124            craggsc\n",
       "584329    supercutsaustin\n",
       "181073          degadeals\n",
       "417611         misterslim\n",
       "162125            cragnet\n",
       "677220               yuky\n",
       "181072               dega\n",
       "2496                 1192\n",
       "102538             bhaiya\n",
       "151463           clio_jlh\n",
       "138505             changa\n",
       "138506           changa13\n",
       "584320        supercracko\n",
       "13386           30legends\n",
       "151454        clintrutkas\n",
       "181036         defsupreme\n",
       "388090          magalinee\n",
       "376494      lollipopvomit\n",
       "417605        mistersaxon\n",
       "181034          defsounds\n",
       "dtype: object"
      ]
     },
     "execution_count": 13,
     "metadata": {},
     "output_type": "execute_result"
    }
   ],
   "source": [
    "indices_to_words[word_idxs_invfreq_sorted].iloc[200000:200050]"
   ]
  },
  {
   "cell_type": "code",
   "execution_count": 14,
   "metadata": {},
   "outputs": [
    {
     "data": {
      "text/plain": [
       "607611         thirdbase7\n",
       "402468            meanbot\n",
       "394633      marjoysaerang\n",
       "138523         changecamp\n",
       "102561              bhane\n",
       "151449       clintonwayne\n",
       "388086          magali777\n",
       "117871           bridgers\n",
       "569512         sphynxeyes\n",
       "402490           meanieee\n",
       "376492      lollipopswirl\n",
       "601586     theauroraprjct\n",
       "13394                30mi\n",
       "557085               siwy\n",
       "124543        buttertoast\n",
       "417610        misterskull\n",
       "102547            bhalash\n",
       "402478    meandmybigmouth\n",
       "117861      bridgelicious\n",
       "682273             zucker\n",
       "593556            tashiam\n",
       "394628       marjoriemliu\n",
       "429455              msiou\n",
       "138518     change_clothes\n",
       "402471              meand\n",
       "102554             bhambo\n",
       "102555         bhamboxset\n",
       "181039            deftlyd\n",
       "162099         craftyhope\n",
       "138487       chanelraquel\n",
       "138483       chanellybaby\n",
       "429477         msjaebella\n",
       "138461       chaneldanise\n",
       "181120            degreee\n",
       "388112            magaret\n",
       "593541          tashboard\n",
       "569525          spiceflow\n",
       "593540          tashbg0sh\n",
       "429476            msjadis\n",
       "162109          craftypod\n",
       "557040              siuiv\n",
       "181114     degrassinsider\n",
       "102525            bhahaha\n",
       "376447            lolland\n",
       "102526           bhahahah\n",
       "394612        marjokris09\n",
       "421770             mom_11\n",
       "429478       msjaidarenee\n",
       "601569      theatresports\n",
       "597815            tennent\n",
       "dtype: object"
      ]
     },
     "execution_count": 14,
     "metadata": {},
     "output_type": "execute_result"
    }
   ],
   "source": [
    "indices_to_words[word_idxs_invfreq_sorted].iloc[200050:200100]"
   ]
  },
  {
   "cell_type": "markdown",
   "metadata": {},
   "source": [
    "200,000 looks like a safe cutoff"
   ]
  },
  {
   "cell_type": "markdown",
   "metadata": {},
   "source": [
    "## word2vec training"
   ]
  },
  {
   "cell_type": "markdown",
   "metadata": {},
   "source": [
    "### Tokenise (and reassemble) Tweets to include only 200,000 most frequent terms\n",
    "\n",
    "This is clearly clunky, but it's the best I can do with Tokenizer's current interface"
   ]
  },
  {
   "cell_type": "code",
   "execution_count": 15,
   "metadata": {},
   "outputs": [],
   "source": [
    "tokeniser = Tokenizer(num_words=200001)\n",
    "tokeniser.fit_on_texts(tweets.tweet)\n",
    "tweets.tweet = tokeniser.sequences_to_texts(tokeniser.texts_to_sequences(tweets.tweet))"
   ]
  },
  {
   "cell_type": "code",
   "execution_count": 62,
   "metadata": {},
   "outputs": [],
   "source": [
    "tweets.to_csv('data/training.1600000.cleaned.csv', index=False)"
   ]
  },
  {
   "cell_type": "markdown",
   "metadata": {},
   "source": [
    "### Write vocabulary into file compatible with word2vec input format"
   ]
  },
  {
   "cell_type": "code",
   "execution_count": 29,
   "metadata": {},
   "outputs": [],
   "source": [
    "vocab_file = 'data/tweet_vocab_200000.txt'"
   ]
  },
  {
   "cell_type": "code",
   "execution_count": 21,
   "metadata": {},
   "outputs": [],
   "source": [
    "f = open(vocab_file, 'w')\n",
    "f.write(tweets.tweet.str.cat(sep=' '))\n",
    "f.close()"
   ]
  },
  {
   "cell_type": "markdown",
   "metadata": {},
   "source": [
    "### Train using vocabulary file and write results"
   ]
  },
  {
   "cell_type": "code",
   "execution_count": 7,
   "metadata": {},
   "outputs": [],
   "source": [
    "vocab_vectors_file = 'data/tweet_vocab_200000_vectors.bin'"
   ]
  },
  {
   "cell_type": "code",
   "execution_count": 55,
   "metadata": {},
   "outputs": [
    {
     "name": "stdout",
     "output_type": "stream",
     "text": [
      "Starting training using file data/tweet_vocab_200000.txt\n",
      "Vocab size: 200001\n",
      "Words in train file: 21045754\n",
      "Alpha: 0.000024  Progress: 99.92%  Words/thread/sec: 277.68k  "
     ]
    }
   ],
   "source": [
    "word2vec.word2vec(vocab_file, vocab_vectors_file, size=100, min_count=2, verbose=True)"
   ]
  },
  {
   "cell_type": "markdown",
   "metadata": {},
   "source": [
    "Why is the vocab size one larger than it should be...?"
   ]
  },
  {
   "cell_type": "markdown",
   "metadata": {},
   "source": [
    "### Create lists of vectors for Tweets"
   ]
  },
  {
   "cell_type": "code",
   "execution_count": 8,
   "metadata": {},
   "outputs": [],
   "source": [
    "word2vec_model = word2vec.load(vocab_vectors_file)"
   ]
  },
  {
   "cell_type": "code",
   "execution_count": 9,
   "metadata": {},
   "outputs": [],
   "source": [
    "def get_vector(t):\n",
    "    if t in word2vec_model:\n",
    "        return word2vec_model[t]\n",
    "    return []"
   ]
  },
  {
   "cell_type": "code",
   "execution_count": 10,
   "metadata": {},
   "outputs": [],
   "source": [
    "tweets['vectors'] = tweets.tweet.apply(lambda tweet: list(map(lambda t: get_vector(t), tweet.split())))\n",
    "tweets['vectors'] = tweets.vectors.apply(lambda vecs: np.array([v for v in vecs if len(v) > 0]))"
   ]
  },
  {
   "cell_type": "markdown",
   "metadata": {},
   "source": [
    "#### Pad list of vectors for each Tweet"
   ]
  },
  {
   "cell_type": "code",
   "execution_count": 11,
   "metadata": {},
   "outputs": [],
   "source": [
    "padded_vectors = sequence.pad_sequences(tweets.vectors, dtype=np.float64, padding='post')"
   ]
  },
  {
   "cell_type": "markdown",
   "metadata": {},
   "source": [
    "#### This will free up memory and hopefully keep the kernel from dying (as used on my laptop)?"
   ]
  },
  {
   "cell_type": "code",
   "execution_count": 12,
   "metadata": {},
   "outputs": [],
   "source": [
    "tweets.drop(columns='vectors', inplace=True)"
   ]
  },
  {
   "cell_type": "markdown",
   "metadata": {},
   "source": [
    "## Build and train a neural network"
   ]
  },
  {
   "cell_type": "markdown",
   "metadata": {},
   "source": [
    "### Hyperparameter tuning under time constraints: based on data subsample\n",
    "I know this isn't kosher, but I have a deadline, and hopefully it works well enough for my present purposes?"
   ]
  },
  {
   "cell_type": "markdown",
   "metadata": {},
   "source": [
    "#### Select random subsample for \"cross-validation\"\n",
    "I tried to sample random indices at one go, then select the indexed observations, but my kernel kept dying. Iterating over smaller chunks then aggregating the results seems to be more manageable."
   ]
  },
  {
   "cell_type": "code",
   "execution_count": 13,
   "metadata": {},
   "outputs": [],
   "source": [
    "tuning_train_x_chunks, tuning_train_y_chunks = [], []\n",
    "increment, iter_n = 200000, 8000\n",
    "for i in range(8):\n",
    "    start = i * increment\n",
    "    tuning_train_idx = np.random.randint(start, start + increment, size=iter_n)\n",
    "    tuning_train_x_chunks.append(padded_vectors[tuning_train_idx])\n",
    "    y = tweets.positive.iloc[tuning_train_idx].values\n",
    "    tuning_train_y_chunks.append(np.reshape(y, (y.shape[0], -1)))\n",
    "tuning_train_x = np.vstack(tuple(tuning_train_x_chunks))\n",
    "tuning_train_y = np.vstack(tuple(tuning_train_y_chunks))"
   ]
  },
  {
   "cell_type": "code",
   "execution_count": 14,
   "metadata": {},
   "outputs": [],
   "source": [
    "del tuning_train_x_chunks, tuning_train_y_chunks"
   ]
  },
  {
   "cell_type": "code",
   "execution_count": 15,
   "metadata": {},
   "outputs": [],
   "source": [
    "tuning_shuffled_idxs = np.arange(tuning_train_x.shape[0])\n",
    "np.random.shuffle(tuning_shuffled_idxs)\n",
    "tuning_train_x = tuning_train_x[tuning_shuffled_idxs]\n",
    "tuning_train_y = tuning_train_y[tuning_shuffled_idxs]"
   ]
  },
  {
   "cell_type": "markdown",
   "metadata": {},
   "source": [
    "#### Function definitions"
   ]
  },
  {
   "cell_type": "code",
   "execution_count": 16,
   "metadata": {},
   "outputs": [],
   "source": [
    "def get_model(lstm_units, lstm_do, lstm_recurr_do, dense_units, dense_activ, dense_do, opt):\n",
    "    #strategy = tf.distribute.MirroredStrategy()\n",
    "    model = Sequential()\n",
    "    model.add(LSTM(lstm_units, return_sequences=False, dropout=lstm_do, recurrent_dropout=lstm_recurr_do))\n",
    "    model.add(Dense(dense_units, activation=dense_activ))\n",
    "    model.add(Dropout(dense_do))\n",
    "    model.add(Dense(1, activation='sigmoid'))\n",
    "    model.compile(optimizer=opt, loss='categorical_crossentropy', metrics=['accuracy'])\n",
    "    return model"
   ]
  },
  {
   "cell_type": "code",
   "execution_count": 17,
   "metadata": {},
   "outputs": [],
   "source": [
    "def partition_indices(i, k, index):\n",
    "    if i < 1 or i > k:\n",
    "        raise ValueError\n",
    "    step, n = 1.0 / k, len(index)\n",
    "    lb, ub = round((i-1) * step * n), round(i * step * n)\n",
    "    include = list(range(lb))\n",
    "    include.extend(range(ub, n)) \n",
    "    exclude = list(range(lb, ub))\n",
    "    return index[exclude], index[include]"
   ]
  },
  {
   "cell_type": "code",
   "execution_count": 19,
   "metadata": {},
   "outputs": [],
   "source": [
    "## Not really k-fold CV, since the model isn't reinstantiated (i.e. weights are carried over from previous\n",
    "## fold trainings), but c.f. time constraints\n",
    "# def k_fold_cv(x, y, k, model, cv_verbose=False, **kwargs):\n",
    "#     accuracy = np.zeros(k)\n",
    "#     stdevs = np.zeros(k)\n",
    "#     for i in range(1, k+1):\n",
    "#         if cv_verbose:\n",
    "#             print('fold ', i)\n",
    "#         exclude, include = partition_indices(i, k, np.arange(x.shape[0]))\n",
    "#         x_fit = x[include]\n",
    "#         model.fit(x_fit, y[include], **kwargs)\n",
    "#         exclude_len = len(x[exclude])\n",
    "#         predictions = np.round(model.predict(x[exclude]))\n",
    "#         corrects = (predictions == y[exclude]).astype(int)\n",
    "#         accuracy[i-1] = corrects.mean()\n",
    "#         stdevs[i-1] = corrects.std()\n",
    "#     return accuracy, stdevs"
   ]
  },
  {
   "cell_type": "code",
   "execution_count": 18,
   "metadata": {},
   "outputs": [],
   "source": [
    "def k_fold_cv_iter(x, y, i, k, model, cv_verbose=False, **kwargs):\n",
    "    exclude, include = partition_indices(i, k, np.arange(x.shape[0]))\n",
    "    x_fit = x[include]\n",
    "    model.fit(x_fit, y[include], **kwargs)\n",
    "    exclude_len = len(x[exclude])\n",
    "    predictions = np.round(model.predict(x[exclude]))\n",
    "    return (predictions == y[exclude]).astype(int).mean()"
   ]
  },
  {
   "cell_type": "markdown",
   "metadata": {},
   "source": [
    "#### First pass (well, after a few undocumented trials)"
   ]
  },
  {
   "cell_type": "code",
   "execution_count": 19,
   "metadata": {},
   "outputs": [
    {
     "name": "stdout",
     "output_type": "stream",
     "text": [
      "fold  1\n",
      "Train on 51200 samples\n",
      "Epoch 1/3\n",
      "51200/51200 [==============================] - 60s 1ms/sample - loss: 5.9437e-08 - accuracy: 0.4938\n",
      "Epoch 2/3\n",
      "51200/51200 [==============================] - 57s 1ms/sample - loss: 5.9437e-08 - accuracy: 0.4946\n",
      "Epoch 3/3\n",
      "51200/51200 [==============================] - 57s 1ms/sample - loss: 5.9437e-08 - accuracy: 0.4937\n",
      "fold  2\n",
      "Train on 51200 samples\n",
      "Epoch 1/3\n",
      "51200/51200 [==============================] - 60s 1ms/sample - loss: 5.9621e-08 - accuracy: 0.4947\n",
      "Epoch 2/3\n",
      "51200/51200 [==============================] - 56s 1ms/sample - loss: 5.9621e-08 - accuracy: 0.4967\n",
      "Epoch 3/3\n",
      "51200/51200 [==============================] - 57s 1ms/sample - loss: 5.9621e-08 - accuracy: 0.4928\n",
      "fold  3\n",
      "Train on 51200 samples\n",
      "Epoch 1/3\n",
      "51200/51200 [==============================] - 61s 1ms/sample - loss: 5.9719e-08 - accuracy: 0.5048\n",
      "Epoch 2/3\n",
      "51200/51200 [==============================] - 57s 1ms/sample - loss: 5.9719e-08 - accuracy: 0.5024\n",
      "Epoch 3/3\n",
      "51200/51200 [==============================] - 56s 1ms/sample - loss: 5.9719e-08 - accuracy: 0.5052\n",
      "fold  4\n",
      "Train on 51200 samples\n",
      "Epoch 1/3\n",
      "51200/51200 [==============================] - 61s 1ms/sample - loss: 5.9551e-08 - accuracy: 0.5062\n",
      "Epoch 2/3\n",
      "51200/51200 [==============================] - 57s 1ms/sample - loss: 5.9551e-08 - accuracy: 0.5046\n",
      "Epoch 3/3\n",
      "51200/51200 [==============================] - 57s 1ms/sample - loss: 5.9551e-08 - accuracy: 0.5046\n",
      "fold  5\n",
      "Train on 51200 samples\n",
      "Epoch 1/3\n",
      "51200/51200 [==============================] - 63s 1ms/sample - loss: 5.9695e-08 - accuracy: 0.5094\n",
      "Epoch 2/3\n",
      "51200/51200 [==============================] - 60s 1ms/sample - loss: 5.9695e-08 - accuracy: 0.5093\n",
      "Epoch 3/3\n",
      "51200/51200 [==============================] - 58s 1ms/sample - loss: 5.9695e-08 - accuracy: 0.5101\n"
     ]
    }
   ],
   "source": [
    "accuracies = np.zeros(5)\n",
    "for i in range(1, 6):\n",
    "    print('fold ', i)\n",
    "    accuracies[i-1] = k_fold_cv_iter(tuning_train_x, tuning_train_y, i, 5,\n",
    "                                     get_model(128, 0.1, 0.1, 32, 'relu', 0.5, 'RMSprop'), epochs=3, batch_size=1600)"
   ]
  },
  {
   "cell_type": "code",
   "execution_count": 21,
   "metadata": {},
   "outputs": [
    {
     "data": {
      "text/plain": [
       "array([0.50976562, 0.49148437, 0.51351563, 0.5146875 , 0.5190625 ])"
      ]
     },
     "execution_count": 21,
     "metadata": {},
     "output_type": "execute_result"
    }
   ],
   "source": [
    "accuracies"
   ]
  },
  {
   "cell_type": "code",
   "execution_count": 20,
   "metadata": {},
   "outputs": [
    {
     "name": "stdout",
     "output_type": "stream",
     "text": [
      "fold  1\n",
      "Train on 51200 samples\n",
      "Epoch 1/3\n",
      "51200/51200 [==============================] - 74s 1ms/sample - loss: 5.9535e-08 - accuracy: 0.5137\n",
      "Epoch 2/3\n",
      "51200/51200 [==============================] - 61s 1ms/sample - loss: 5.9535e-08 - accuracy: 0.5108\n",
      "Epoch 3/3\n",
      "51200/51200 [==============================] - 59s 1ms/sample - loss: 5.9535e-08 - accuracy: 0.5116\n",
      "fold  2\n",
      "Train on 51200 samples\n",
      "Epoch 1/3\n",
      "51200/51200 [==============================] - 61s 1ms/sample - loss: 5.9626e-08 - accuracy: 0.5096\n",
      "Epoch 2/3\n",
      "51200/51200 [==============================] - 58s 1ms/sample - loss: 5.9626e-08 - accuracy: 0.5101\n",
      "Epoch 3/3\n",
      "51200/51200 [==============================] - 58s 1ms/sample - loss: 5.9626e-08 - accuracy: 0.5105\n",
      "fold  3\n",
      "Train on 51200 samples\n",
      "Epoch 1/3\n",
      "51200/51200 [==============================] - 63s 1ms/sample - loss: 5.9728e-08 - accuracy: 0.5025\n",
      "Epoch 2/3\n",
      "51200/51200 [==============================] - 57s 1ms/sample - loss: 5.9728e-08 - accuracy: 0.5000\n",
      "Epoch 3/3\n",
      "51200/51200 [==============================] - 58s 1ms/sample - loss: 5.9728e-08 - accuracy: 0.4987\n",
      "fold  4\n",
      "Train on 51200 samples\n",
      "Epoch 1/3\n",
      "51200/51200 [==============================] - 63s 1ms/sample - loss: 5.9567e-08 - accuracy: 0.5188\n",
      "Epoch 2/3\n",
      "51200/51200 [==============================] - 58s 1ms/sample - loss: 5.9567e-08 - accuracy: 0.5189\n",
      "Epoch 3/3\n",
      "51200/51200 [==============================] - 59s 1ms/sample - loss: 5.9567e-08 - accuracy: 0.5198\n",
      "fold  5\n",
      "Train on 51200 samples\n",
      "Epoch 1/3\n",
      "51200/51200 [==============================] - 64s 1ms/sample - loss: 5.9567e-08 - accuracy: 0.4884\n",
      "Epoch 2/3\n",
      "51200/51200 [==============================] - 58s 1ms/sample - loss: 5.9567e-08 - accuracy: 0.4861\n",
      "Epoch 3/3\n",
      "51200/51200 [==============================] - 60s 1ms/sample - loss: 5.9567e-08 - accuracy: 0.4923\n"
     ]
    }
   ],
   "source": [
    "accuracies = np.zeros(5)\n",
    "for i in range(1, 6):\n",
    "    print('fold ', i)\n",
    "    accuracies[i-1] = k_fold_cv_iter(tuning_train_x, tuning_train_y, i, 5,\n",
    "                                     get_model(128, 0.1, 0.1, 64, 'relu', 0.5, 'RMSprop'), epochs=3, batch_size=1600)"
   ]
  },
  {
   "cell_type": "markdown",
   "metadata": {},
   "source": [
    "### Checkpoint 13/6/2020: Maybe that subsampling idea was dumb? I've spent much of my time trying to get the kernel not to die, and gotten not much farther from where I started. "
   ]
  },
  {
   "cell_type": "markdown",
   "metadata": {},
   "source": [
    "## UNDER CONSTRUCTION"
   ]
  },
  {
   "cell_type": "code",
   "execution_count": 21,
   "metadata": {},
   "outputs": [
    {
     "data": {
      "text/plain": [
       "array([0.53523438, 0.50351563, 0.50929687, 0.52984375, 0.45015625])"
      ]
     },
     "execution_count": 21,
     "metadata": {},
     "output_type": "execute_result"
    }
   ],
   "source": [
    "accuracies"
   ]
  },
  {
   "cell_type": "code",
   "execution_count": null,
   "metadata": {},
   "outputs": [
    {
     "name": "stdout",
     "output_type": "stream",
     "text": [
      "fold  1\n",
      "Train on 51200 samples\n",
      "Epoch 1/3\n",
      "51200/51200 [==============================] - 66s 1ms/sample - loss: 5.9535e-08 - accuracy: 0.5163\n",
      "Epoch 2/3\n",
      "51200/51200 [==============================] - 59s 1ms/sample - loss: 5.9535e-08 - accuracy: 0.5185\n",
      "Epoch 3/3\n",
      "51200/51200 [==============================] - 58s 1ms/sample - loss: 5.9535e-08 - accuracy: 0.5183\n",
      "fold  2\n",
      "Train on 51200 samples\n",
      "Epoch 1/3\n",
      "51200/51200 [==============================] - 63s 1ms/sample - loss: 5.9626e-08 - accuracy: 0.4826\n",
      "Epoch 2/3\n",
      "51200/51200 [==============================] - 57s 1ms/sample - loss: 5.9626e-08 - accuracy: 0.4824\n",
      "Epoch 3/3\n",
      "51200/51200 [==============================] - 57s 1ms/sample - loss: 5.9626e-08 - accuracy: 0.4837\n",
      "fold  3\n",
      "Train on 51200 samples\n",
      "Epoch 1/3\n",
      "51200/51200 [==============================] - 64s 1ms/sample - loss: 5.9728e-08 - accuracy: 0.4907\n",
      "Epoch 2/3\n",
      "51200/51200 [==============================] - 59s 1ms/sample - loss: 5.9728e-08 - accuracy: 0.4903\n",
      "Epoch 3/3\n",
      "51200/51200 [==============================] - 59s 1ms/sample - loss: 5.9728e-08 - accuracy: 0.4917\n",
      "fold  4\n"
     ]
    }
   ],
   "source": [
    "accuracies = np.zeros(5)\n",
    "for i in range(1, 6):\n",
    "    print('fold ', i)\n",
    "    accuracies[i-1] = k_fold_cv_iter(tuning_train_x, tuning_train_y, i, 5,\n",
    "                                     get_model(128, 0.1, 0.1, 32, 'relu', 0.2, 'RMSprop'),\n",
    "                                     epochs=3, batch_size=1600, workers=8, use_multiprocessing=True)"
   ]
  },
  {
   "cell_type": "code",
   "execution_count": null,
   "metadata": {},
   "outputs": [],
   "source": [
    "accuracies"
   ]
  },
  {
   "cell_type": "code",
   "execution_count": null,
   "metadata": {},
   "outputs": [],
   "source": []
  },
  {
   "cell_type": "markdown",
   "metadata": {},
   "source": [
    "#### LSTM (64, 0.1, 0.1), dense (64, 0.5)"
   ]
  },
  {
   "cell_type": "markdown",
   "metadata": {},
   "source": [
    "adadelta: 0.4037, 0.4049, 0.4066, 0.35"
   ]
  },
  {
   "cell_type": "markdown",
   "metadata": {},
   "source": [
    "RMSprop: 0.4469, 0.4444, 0.4479, 0.34"
   ]
  },
  {
   "cell_type": "markdown",
   "metadata": {},
   "source": [
    "#### LSTM (128, 0.1), dense (32, 0.5)"
   ]
  },
  {
   "cell_type": "markdown",
   "metadata": {},
   "source": [
    "RMSprop: 0.4952, 0.5015, 0.4979, 0.46"
   ]
  }
 ],
 "metadata": {
  "kernelspec": {
   "display_name": "Python 3",
   "language": "python",
   "name": "python3"
  },
  "language_info": {
   "codemirror_mode": {
    "name": "ipython",
    "version": 3
   },
   "file_extension": ".py",
   "mimetype": "text/x-python",
   "name": "python",
   "nbconvert_exporter": "python",
   "pygments_lexer": "ipython3",
   "version": "3.7.6"
  }
 },
 "nbformat": 4,
 "nbformat_minor": 2
}
