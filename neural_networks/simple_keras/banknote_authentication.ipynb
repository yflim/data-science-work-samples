{
 "cells": [
  {
   "cell_type": "code",
   "execution_count": 5,
   "metadata": {},
   "outputs": [],
   "source": [
    "import numpy as np\n",
    "import pandas as pd\n",
    "import seaborn as sns\n",
    "from sklearn.model_selection import cross_val_score, StratifiedKFold, train_test_split\n",
    "from sklearn.preprocessing import LabelEncoder, StandardScaler\n",
    "import tensorflow as tf\n",
    "from tensorflow import keras\n",
    "from tensorflow.keras import layers\n",
    "from tensorflow.keras.wrappers.scikit_learn import KerasClassifier"
   ]
  },
  {
   "cell_type": "markdown",
   "metadata": {},
   "source": [
    "Summary spreadsheet at https://docs.google.com/spreadsheets/d/1AYr4MBbA2CfVrwCyadqdoyQdSvFyMFH6nwrLvn63aB0/edit?usp=sharing"
   ]
  },
  {
   "cell_type": "markdown",
   "metadata": {},
   "source": [
    "# Prepare data"
   ]
  },
  {
   "cell_type": "markdown",
   "metadata": {},
   "source": [
    "Dataset from https://archive.ics.uci.edu/ml/datasets/banknote+authentication"
   ]
  },
  {
   "cell_type": "code",
   "execution_count": 6,
   "metadata": {},
   "outputs": [],
   "source": [
    "data = pd.read_csv('../../data/banknote_authentication.txt', header=None)\n",
    "data_shuffled = data.values\n",
    "np.random.shuffle(data_shuffled)\n",
    "data = pd.DataFrame(data_shuffled, index=data.index, columns=data.columns)"
   ]
  },
  {
   "cell_type": "code",
   "execution_count": 63,
   "metadata": {},
   "outputs": [
    {
     "data": {
      "text/html": [
       "<div>\n",
       "<style scoped>\n",
       "    .dataframe tbody tr th:only-of-type {\n",
       "        vertical-align: middle;\n",
       "    }\n",
       "\n",
       "    .dataframe tbody tr th {\n",
       "        vertical-align: top;\n",
       "    }\n",
       "\n",
       "    .dataframe thead th {\n",
       "        text-align: right;\n",
       "    }\n",
       "</style>\n",
       "<table border=\"1\" class=\"dataframe\">\n",
       "  <thead>\n",
       "    <tr style=\"text-align: right;\">\n",
       "      <th></th>\n",
       "      <th>0</th>\n",
       "      <th>1</th>\n",
       "      <th>2</th>\n",
       "      <th>3</th>\n",
       "      <th>4</th>\n",
       "    </tr>\n",
       "  </thead>\n",
       "  <tbody>\n",
       "    <tr>\n",
       "      <th>count</th>\n",
       "      <td>1372.000000</td>\n",
       "      <td>1372.000000</td>\n",
       "      <td>1372.000000</td>\n",
       "      <td>1372.000000</td>\n",
       "      <td>1372.000000</td>\n",
       "    </tr>\n",
       "    <tr>\n",
       "      <th>mean</th>\n",
       "      <td>0.433735</td>\n",
       "      <td>1.922353</td>\n",
       "      <td>1.397627</td>\n",
       "      <td>-1.191657</td>\n",
       "      <td>0.444606</td>\n",
       "    </tr>\n",
       "    <tr>\n",
       "      <th>std</th>\n",
       "      <td>2.842763</td>\n",
       "      <td>5.869047</td>\n",
       "      <td>4.310030</td>\n",
       "      <td>2.101013</td>\n",
       "      <td>0.497103</td>\n",
       "    </tr>\n",
       "    <tr>\n",
       "      <th>min</th>\n",
       "      <td>-7.042100</td>\n",
       "      <td>-13.773100</td>\n",
       "      <td>-5.286100</td>\n",
       "      <td>-8.548200</td>\n",
       "      <td>0.000000</td>\n",
       "    </tr>\n",
       "    <tr>\n",
       "      <th>25%</th>\n",
       "      <td>-1.773000</td>\n",
       "      <td>-1.708200</td>\n",
       "      <td>-1.574975</td>\n",
       "      <td>-2.413450</td>\n",
       "      <td>0.000000</td>\n",
       "    </tr>\n",
       "    <tr>\n",
       "      <th>50%</th>\n",
       "      <td>0.496180</td>\n",
       "      <td>2.319650</td>\n",
       "      <td>0.616630</td>\n",
       "      <td>-0.586650</td>\n",
       "      <td>0.000000</td>\n",
       "    </tr>\n",
       "    <tr>\n",
       "      <th>75%</th>\n",
       "      <td>2.821475</td>\n",
       "      <td>6.814625</td>\n",
       "      <td>3.179250</td>\n",
       "      <td>0.394810</td>\n",
       "      <td>1.000000</td>\n",
       "    </tr>\n",
       "    <tr>\n",
       "      <th>max</th>\n",
       "      <td>6.824800</td>\n",
       "      <td>12.951600</td>\n",
       "      <td>17.927400</td>\n",
       "      <td>2.449500</td>\n",
       "      <td>1.000000</td>\n",
       "    </tr>\n",
       "  </tbody>\n",
       "</table>\n",
       "</div>"
      ],
      "text/plain": [
       "                 0            1            2            3            4\n",
       "count  1372.000000  1372.000000  1372.000000  1372.000000  1372.000000\n",
       "mean      0.433735     1.922353     1.397627    -1.191657     0.444606\n",
       "std       2.842763     5.869047     4.310030     2.101013     0.497103\n",
       "min      -7.042100   -13.773100    -5.286100    -8.548200     0.000000\n",
       "25%      -1.773000    -1.708200    -1.574975    -2.413450     0.000000\n",
       "50%       0.496180     2.319650     0.616630    -0.586650     0.000000\n",
       "75%       2.821475     6.814625     3.179250     0.394810     1.000000\n",
       "max       6.824800    12.951600    17.927400     2.449500     1.000000"
      ]
     },
     "execution_count": 63,
     "metadata": {},
     "output_type": "execute_result"
    }
   ],
   "source": [
    "data.describe()"
   ]
  },
  {
   "cell_type": "code",
   "execution_count": 64,
   "metadata": {},
   "outputs": [],
   "source": [
    "x, t = data.loc[:,0:3], data.loc[:,4]"
   ]
  },
  {
   "cell_type": "code",
   "execution_count": 65,
   "metadata": {},
   "outputs": [
    {
     "data": {
      "text/plain": [
       "0.0    762\n",
       "1.0    610\n",
       "Name: 4, dtype: int64"
      ]
     },
     "execution_count": 65,
     "metadata": {},
     "output_type": "execute_result"
    }
   ],
   "source": [
    "t.value_counts()"
   ]
  },
  {
   "cell_type": "code",
   "execution_count": 66,
   "metadata": {},
   "outputs": [
    {
     "data": {
      "text/plain": [
       "<seaborn.axisgrid.PairGrid at 0x14a5d7e10>"
      ]
     },
     "execution_count": 66,
     "metadata": {},
     "output_type": "execute_result"
    },
    {
     "data": {
      "image/png": "[encoded data removed]",
      "text/plain": [
       "<Figure size 771.875x720 with 20 Axes>"
      ]
     },
     "metadata": {
      "needs_background": "light"
     },
     "output_type": "display_data"
    }
   ],
   "source": [
    "sns.pairplot(data, hue=4, plot_kws={'alpha': 0.1})"
   ]
  },
  {
   "cell_type": "markdown",
   "metadata": {},
   "source": [
    "### Train/test split"
   ]
  },
  {
   "cell_type": "markdown",
   "metadata": {},
   "source": [
    "Use an initial 80/20 train/test split, then proceed to 5-fold CV. "
   ]
  },
  {
   "cell_type": "code",
   "execution_count": 67,
   "metadata": {},
   "outputs": [],
   "source": [
    "x_train, x_test, t_train, t_test = train_test_split(x, t, test_size=0.2, random_state=42, stratify=t)"
   ]
  },
  {
   "cell_type": "code",
   "execution_count": 68,
   "metadata": {},
   "outputs": [],
   "source": [
    "scaler = StandardScaler()\n",
    "x_train = scaler.fit_transform(x_train)\n",
    "x_test = scaler.fit_transform(x_test)"
   ]
  },
  {
   "cell_type": "code",
   "execution_count": 69,
   "metadata": {},
   "outputs": [],
   "source": [
    "t_train, t_test = t_train.values, t_test.values"
   ]
  },
  {
   "cell_type": "markdown",
   "metadata": {},
   "source": [
    "#### Note on train/test split vs. cross-validation\n",
    "Going from a train-test split to cross-validation seems arbitrary to me, so I'll go with both throughout (train-test split to show learning or lackthereof within a training run) instead for hyperparameter selection."
   ]
  },
  {
   "cell_type": "markdown",
   "metadata": {},
   "source": [
    "###  Dummy class (\"one-hot\") encoding\n",
    "Appears to be unnecessary: see e.g. https://www.tensorflow.org/tutorials/keras/classification."
   ]
  },
  {
   "cell_type": "markdown",
   "metadata": {},
   "source": [
    "# Keras sequential model for classification"
   ]
  },
  {
   "cell_type": "markdown",
   "metadata": {},
   "source": [
    "Implement a classifier with 2 dense hidden layers and a dropout layer before the final softmax output layer, something like this:  \n",
    "Input -> Hidden -> Hidden -> Dropout -> Softmax\n",
    "\n",
    "Start with a dropout ratio of 0.25, Adadelta as optimizer, and 10 epochs of training."
   ]
  },
  {
   "cell_type": "markdown",
   "metadata": {},
   "source": [
    "**Note:** I run most of the following multiple times (more than reflected in spreadsheet), so the associated remarks aren't based on what may just be flukes."
   ]
  },
  {
   "cell_type": "markdown",
   "metadata": {},
   "source": [
    "## Model builder"
   ]
  },
  {
   "cell_type": "code",
   "execution_count": 118,
   "metadata": {},
   "outputs": [],
   "source": [
    "def get_model(layer_sizes, activations, loss, optimizer, metrics, dropout=None, input_dropout=None):\n",
    "    model = keras.Sequential()\n",
    "    n_layers = len(layer_sizes)\n",
    "    if dropout is None:\n",
    "        dropout = [None] * n_layers\n",
    "    if input_dropout:\n",
    "        model.add(layers.Dropout(input_dropout))\n",
    "    for i in range(n_layers):\n",
    "        model.add(layers.Dense(layer_sizes[i], activation=activations[i]))\n",
    "        if dropout[i]:\n",
    "            model.add(layers.Dropout(dropout[i]))\n",
    "    model.compile(loss=loss, optimizer=optimizer, metrics=metrics)\n",
    "    return model"
   ]
  },
  {
   "cell_type": "markdown",
   "metadata": {},
   "source": [
    "**Note:** \n",
    "1. Calling this from per-model \"constructors\" instead of directly because the workaround for an error-free workflow with its args passed to KerasClassifier() is ugly.\n",
    "2. Also, I didn't check very carefully, but there seems to be no way to access the model model constructed and wrapped by KerasClassifier(), so the models (NNs) used for train/test and CV are distinct."
   ]
  },
  {
   "cell_type": "markdown",
   "metadata": {},
   "source": [
    "## Without dropout"
   ]
  },
  {
   "cell_type": "code",
   "execution_count": 71,
   "metadata": {},
   "outputs": [],
   "source": [
    "def baseline_model():\n",
    "    return get_model([10, 10, 1], ['sigmoid'] * 3, 'binary_crossentropy', 'Adadelta', ['accuracy'])"
   ]
  },
  {
   "cell_type": "code",
   "execution_count": 73,
   "metadata": {},
   "outputs": [
    {
     "name": "stdout",
     "output_type": "stream",
     "text": [
      "[0.44363636 0.47636363 0.44525549 0.55474454 0.53284669]\n",
      "Accuracy: 49.06% (4.55%)\n"
     ]
    }
   ],
   "source": [
    "estimator = KerasClassifier(build_fn=baseline_model, epochs=20, batch_size=64, verbose=0)\n",
    "kfold = StratifiedKFold(n_splits=5, shuffle=True)\n",
    "results = cross_val_score(estimator, x.values, t.values, cv=kfold)\n",
    "print(results)\n",
    "print(\"Accuracy: %.2f%% (%.2f%%)\" % (results.mean()*100, results.std()*100))"
   ]
  },
  {
   "cell_type": "code",
   "execution_count": 74,
   "metadata": {},
   "outputs": [
    {
     "name": "stdout",
     "output_type": "stream",
     "text": [
      "Train on 1097 samples, validate on 275 samples\n",
      "Epoch 1/20\n",
      "1097/1097 [==============================] - 3s 3ms/sample - loss: 0.7125 - accuracy: 0.4448 - val_loss: 0.7127 - val_accuracy: 0.4436\n",
      "Epoch 2/20\n",
      "1097/1097 [==============================] - 0s 305us/sample - loss: 0.7125 - accuracy: 0.4448 - val_loss: 0.7127 - val_accuracy: 0.4436\n",
      "Epoch 3/20\n",
      "1097/1097 [==============================] - 0s 273us/sample - loss: 0.7125 - accuracy: 0.4448 - val_loss: 0.7127 - val_accuracy: 0.4436\n",
      "Epoch 4/20\n",
      "1097/1097 [==============================] - 0s 260us/sample - loss: 0.7125 - accuracy: 0.4448 - val_loss: 0.7127 - val_accuracy: 0.4436\n",
      "Epoch 5/20\n",
      "1097/1097 [==============================] - 0s 284us/sample - loss: 0.7124 - accuracy: 0.4448 - val_loss: 0.7126 - val_accuracy: 0.4436\n",
      "Epoch 6/20\n",
      "1097/1097 [==============================] - 0s 205us/sample - loss: 0.7124 - accuracy: 0.4448 - val_loss: 0.7126 - val_accuracy: 0.4436\n",
      "Epoch 7/20\n",
      "1097/1097 [==============================] - 1s 481us/sample - loss: 0.7124 - accuracy: 0.4448 - val_loss: 0.7126 - val_accuracy: 0.4436\n",
      "Epoch 8/20\n",
      "1097/1097 [==============================] - 0s 352us/sample - loss: 0.7124 - accuracy: 0.4448 - val_loss: 0.7126 - val_accuracy: 0.4436\n",
      "Epoch 9/20\n",
      "1097/1097 [==============================] - 0s 228us/sample - loss: 0.7124 - accuracy: 0.4448 - val_loss: 0.7125 - val_accuracy: 0.4436\n",
      "Epoch 10/20\n",
      "1097/1097 [==============================] - 0s 219us/sample - loss: 0.7123 - accuracy: 0.4448 - val_loss: 0.7125 - val_accuracy: 0.4436\n",
      "Epoch 11/20\n",
      "1097/1097 [==============================] - 1s 660us/sample - loss: 0.7123 - accuracy: 0.4448 - val_loss: 0.7125 - val_accuracy: 0.4436\n",
      "Epoch 12/20\n",
      "1097/1097 [==============================] - 0s 412us/sample - loss: 0.7123 - accuracy: 0.4448 - val_loss: 0.7125 - val_accuracy: 0.4436\n",
      "Epoch 13/20\n",
      "1097/1097 [==============================] - 0s 453us/sample - loss: 0.7123 - accuracy: 0.4448 - val_loss: 0.7124 - val_accuracy: 0.4436\n",
      "Epoch 14/20\n",
      "1097/1097 [==============================] - 0s 403us/sample - loss: 0.7122 - accuracy: 0.4448 - val_loss: 0.7124 - val_accuracy: 0.4436\n",
      "Epoch 15/20\n",
      "1097/1097 [==============================] - 1s 761us/sample - loss: 0.7122 - accuracy: 0.4448 - val_loss: 0.7124 - val_accuracy: 0.4436\n",
      "Epoch 16/20\n",
      "1097/1097 [==============================] - 1s 471us/sample - loss: 0.7122 - accuracy: 0.4448 - val_loss: 0.7124 - val_accuracy: 0.4436\n",
      "Epoch 17/20\n",
      "1097/1097 [==============================] - 0s 333us/sample - loss: 0.7122 - accuracy: 0.4448 - val_loss: 0.7124 - val_accuracy: 0.4436\n",
      "Epoch 18/20\n",
      "1097/1097 [==============================] - 0s 290us/sample - loss: 0.7122 - accuracy: 0.4448 - val_loss: 0.7123 - val_accuracy: 0.4436\n",
      "Epoch 19/20\n",
      "1097/1097 [==============================] - 0s 301us/sample - loss: 0.7121 - accuracy: 0.4448 - val_loss: 0.7123 - val_accuracy: 0.4436\n",
      "Epoch 20/20\n",
      "1097/1097 [==============================] - 0s 407us/sample - loss: 0.7121 - accuracy: 0.4448 - val_loss: 0.7123 - val_accuracy: 0.4436\n"
     ]
    },
    {
     "data": {
      "text/plain": [
       "<tensorflow.python.keras.callbacks.History at 0x1545df2e8>"
      ]
     },
     "execution_count": 74,
     "metadata": {},
     "output_type": "execute_result"
    }
   ],
   "source": [
    "model = baseline_model()\n",
    "model.fit(x_train, t_train, validation_data=(x_test, t_test), epochs=20, batch_size=64)"
   ]
  },
  {
   "cell_type": "markdown",
   "metadata": {},
   "source": [
    "**Remarks:** Train/test and CV results are similar. They stink. Not only is accuracy low, it doesn't even improve from the first epoch to the last."
   ]
  },
  {
   "cell_type": "markdown",
   "metadata": {},
   "source": [
    "## With dropout"
   ]
  },
  {
   "cell_type": "markdown",
   "metadata": {},
   "source": [
    "### In 2nd hidden layer: dropout ratio 0.25"
   ]
  },
  {
   "cell_type": "code",
   "execution_count": 75,
   "metadata": {},
   "outputs": [],
   "source": [
    "def basic_dropout_model():\n",
    "    return get_model([10, 10, 1], ['sigmoid'] * 3, 'binary_crossentropy', 'Adadelta', ['accuracy'],\n",
    "                     dropout=[0, 0.25, 0])"
   ]
  },
  {
   "cell_type": "code",
   "execution_count": 76,
   "metadata": {},
   "outputs": [
    {
     "name": "stdout",
     "output_type": "stream",
     "text": [
      "[0.55636364 0.32363635 0.44525549 0.55474454 0.44525549]\n",
      "Accuracy: 46.51% (8.62%)\n"
     ]
    }
   ],
   "source": [
    "estimator = KerasClassifier(build_fn=basic_dropout_model, epochs=20, batch_size=64, verbose=0)\n",
    "kfold = StratifiedKFold(n_splits=5, shuffle=True)\n",
    "results = cross_val_score(estimator, x.values, t.values, cv=kfold)\n",
    "print(results)\n",
    "print(\"Accuracy: %.2f%% (%.2f%%)\" % (results.mean()*100, results.std()*100))"
   ]
  },
  {
   "cell_type": "code",
   "execution_count": 77,
   "metadata": {},
   "outputs": [
    {
     "name": "stdout",
     "output_type": "stream",
     "text": [
      "Train on 1097 samples, validate on 275 samples\n",
      "Epoch 1/20\n",
      "1097/1097 [==============================] - 3s 3ms/sample - loss: 0.7172 - accuracy: 0.4840 - val_loss: 0.7029 - val_accuracy: 0.4436\n",
      "Epoch 2/20\n",
      "1097/1097 [==============================] - 0s 260us/sample - loss: 0.7156 - accuracy: 0.4859 - val_loss: 0.7029 - val_accuracy: 0.4436\n",
      "Epoch 3/20\n",
      "1097/1097 [==============================] - 0s 235us/sample - loss: 0.7175 - accuracy: 0.4822 - val_loss: 0.7028 - val_accuracy: 0.4436\n",
      "Epoch 4/20\n",
      "1097/1097 [==============================] - 0s 265us/sample - loss: 0.7251 - accuracy: 0.4722 - val_loss: 0.7028 - val_accuracy: 0.4436\n",
      "Epoch 5/20\n",
      "1097/1097 [==============================] - 0s 232us/sample - loss: 0.7165 - accuracy: 0.4913 - val_loss: 0.7028 - val_accuracy: 0.4436\n",
      "Epoch 6/20\n",
      "1097/1097 [==============================] - 0s 301us/sample - loss: 0.7177 - accuracy: 0.4986 - val_loss: 0.7028 - val_accuracy: 0.4436\n",
      "Epoch 7/20\n",
      "1097/1097 [==============================] - 0s 215us/sample - loss: 0.7098 - accuracy: 0.4941 - val_loss: 0.7028 - val_accuracy: 0.4436\n",
      "Epoch 8/20\n",
      "1097/1097 [==============================] - 0s 237us/sample - loss: 0.7153 - accuracy: 0.4968 - val_loss: 0.7027 - val_accuracy: 0.4436\n",
      "Epoch 9/20\n",
      "1097/1097 [==============================] - 0s 219us/sample - loss: 0.7263 - accuracy: 0.4804 - val_loss: 0.7027 - val_accuracy: 0.4436\n",
      "Epoch 10/20\n",
      "1097/1097 [==============================] - 0s 255us/sample - loss: 0.7190 - accuracy: 0.4722 - val_loss: 0.7027 - val_accuracy: 0.4436\n",
      "Epoch 11/20\n",
      "1097/1097 [==============================] - 0s 204us/sample - loss: 0.7167 - accuracy: 0.4695 - val_loss: 0.7027 - val_accuracy: 0.4436\n",
      "Epoch 12/20\n",
      "1097/1097 [==============================] - 0s 208us/sample - loss: 0.7312 - accuracy: 0.4585 - val_loss: 0.7027 - val_accuracy: 0.4436\n",
      "Epoch 13/20\n",
      "1097/1097 [==============================] - 0s 253us/sample - loss: 0.7144 - accuracy: 0.4822 - val_loss: 0.7026 - val_accuracy: 0.4436\n",
      "Epoch 14/20\n",
      "1097/1097 [==============================] - 0s 284us/sample - loss: 0.7236 - accuracy: 0.4813 - val_loss: 0.7026 - val_accuracy: 0.4436\n",
      "Epoch 15/20\n",
      "1097/1097 [==============================] - 0s 304us/sample - loss: 0.7037 - accuracy: 0.4977 - val_loss: 0.7026 - val_accuracy: 0.4436\n",
      "Epoch 16/20\n",
      "1097/1097 [==============================] - 1s 459us/sample - loss: 0.7307 - accuracy: 0.4531 - val_loss: 0.7026 - val_accuracy: 0.4436\n",
      "Epoch 17/20\n",
      "1097/1097 [==============================] - 1s 563us/sample - loss: 0.7165 - accuracy: 0.4777 - val_loss: 0.7026 - val_accuracy: 0.4436\n",
      "Epoch 18/20\n",
      "1097/1097 [==============================] - 0s 353us/sample - loss: 0.7158 - accuracy: 0.4941 - val_loss: 0.7025 - val_accuracy: 0.4436\n",
      "Epoch 19/20\n",
      "1097/1097 [==============================] - 0s 264us/sample - loss: 0.7261 - accuracy: 0.4640 - val_loss: 0.7025 - val_accuracy: 0.4436\n",
      "Epoch 20/20\n",
      "1097/1097 [==============================] - 0s 256us/sample - loss: 0.7102 - accuracy: 0.5114 - val_loss: 0.7025 - val_accuracy: 0.4436\n"
     ]
    },
    {
     "data": {
      "text/plain": [
       "<tensorflow.python.keras.callbacks.History at 0x1591afcf8>"
      ]
     },
     "execution_count": 77,
     "metadata": {},
     "output_type": "execute_result"
    }
   ],
   "source": [
    "model = basic_dropout_model()\n",
    "model.fit(x_train, t_train, validation_data=(x_test, t_test), epochs=20, batch_size=64)"
   ]
  },
  {
   "cell_type": "markdown",
   "metadata": {},
   "source": [
    "**Remarks:** The results are better, but they're still not good."
   ]
  },
  {
   "cell_type": "markdown",
   "metadata": {},
   "source": [
    "### In 2nd hidden layer: dropout ratio 0.4"
   ]
  },
  {
   "cell_type": "code",
   "execution_count": 78,
   "metadata": {},
   "outputs": [],
   "source": [
    "def basic_dropout_model_pt4():\n",
    "    return get_model([10, 10, 1], ['sigmoid'] * 3, 'binary_crossentropy', 'Adadelta', ['accuracy'],\n",
    "                     dropout=[0, 0.4, 0])"
   ]
  },
  {
   "cell_type": "code",
   "execution_count": 80,
   "metadata": {},
   "outputs": [
    {
     "name": "stdout",
     "output_type": "stream",
     "text": [
      "[0.44363636 0.44363636 0.55474454 0.55474454 0.5109489 ]\n",
      "Accuracy: 50.15% (4.99%)\n"
     ]
    }
   ],
   "source": [
    "estimator = KerasClassifier(build_fn=basic_dropout_model_pt4, epochs=20, batch_size=64, verbose=0)\n",
    "kfold = StratifiedKFold(n_splits=5, shuffle=True)\n",
    "results = cross_val_score(estimator, x.values, t.values, cv=kfold)\n",
    "print(results)\n",
    "print(\"Accuracy: %.2f%% (%.2f%%)\" % (results.mean()*100, results.std()*100))"
   ]
  },
  {
   "cell_type": "code",
   "execution_count": 81,
   "metadata": {},
   "outputs": [
    {
     "name": "stdout",
     "output_type": "stream",
     "text": [
      "Train on 1097 samples, validate on 275 samples\n",
      "Epoch 1/20\n",
      "1097/1097 [==============================] - 4s 3ms/sample - loss: 0.7275 - accuracy: 0.5169 - val_loss: 0.6995 - val_accuracy: 0.5200\n",
      "Epoch 2/20\n",
      "1097/1097 [==============================] - 0s 220us/sample - loss: 0.7345 - accuracy: 0.4986 - val_loss: 0.6995 - val_accuracy: 0.5200\n",
      "Epoch 3/20\n",
      "1097/1097 [==============================] - 0s 242us/sample - loss: 0.7397 - accuracy: 0.4877 - val_loss: 0.6995 - val_accuracy: 0.5200\n",
      "Epoch 4/20\n",
      "1097/1097 [==============================] - 0s 233us/sample - loss: 0.7076 - accuracy: 0.5378 - val_loss: 0.6995 - val_accuracy: 0.5200\n",
      "Epoch 5/20\n",
      "1097/1097 [==============================] - 0s 262us/sample - loss: 0.7346 - accuracy: 0.4877 - val_loss: 0.6995 - val_accuracy: 0.5200\n",
      "Epoch 6/20\n",
      "1097/1097 [==============================] - 0s 324us/sample - loss: 0.7287 - accuracy: 0.4959 - val_loss: 0.6995 - val_accuracy: 0.5200\n",
      "Epoch 7/20\n",
      "1097/1097 [==============================] - 0s 309us/sample - loss: 0.7329 - accuracy: 0.4840 - val_loss: 0.6995 - val_accuracy: 0.5200\n",
      "Epoch 8/20\n",
      "1097/1097 [==============================] - 0s 327us/sample - loss: 0.7372 - accuracy: 0.4859 - val_loss: 0.6995 - val_accuracy: 0.5200\n",
      "Epoch 9/20\n",
      "1097/1097 [==============================] - 1s 599us/sample - loss: 0.7355 - accuracy: 0.4941 - val_loss: 0.6995 - val_accuracy: 0.5200\n",
      "Epoch 10/20\n",
      "1097/1097 [==============================] - 0s 441us/sample - loss: 0.7188 - accuracy: 0.5150 - val_loss: 0.6995 - val_accuracy: 0.5200\n",
      "Epoch 11/20\n",
      "1097/1097 [==============================] - 0s 343us/sample - loss: 0.7410 - accuracy: 0.4995 - val_loss: 0.6995 - val_accuracy: 0.5200\n",
      "Epoch 12/20\n",
      "1097/1097 [==============================] - 0s 448us/sample - loss: 0.7303 - accuracy: 0.4977 - val_loss: 0.6995 - val_accuracy: 0.5236\n",
      "Epoch 13/20\n",
      "1097/1097 [==============================] - 0s 279us/sample - loss: 0.7351 - accuracy: 0.4840 - val_loss: 0.6995 - val_accuracy: 0.5236\n",
      "Epoch 14/20\n",
      "1097/1097 [==============================] - 0s 264us/sample - loss: 0.7286 - accuracy: 0.4923 - val_loss: 0.6994 - val_accuracy: 0.5236\n",
      "Epoch 15/20\n",
      "1097/1097 [==============================] - 0s 227us/sample - loss: 0.7414 - accuracy: 0.4686 - val_loss: 0.6994 - val_accuracy: 0.5236\n",
      "Epoch 16/20\n",
      "1097/1097 [==============================] - 0s 279us/sample - loss: 0.7191 - accuracy: 0.5096 - val_loss: 0.6994 - val_accuracy: 0.5236\n",
      "Epoch 17/20\n",
      "1097/1097 [==============================] - 0s 226us/sample - loss: 0.7519 - accuracy: 0.4540 - val_loss: 0.6994 - val_accuracy: 0.5236\n",
      "Epoch 18/20\n",
      "1097/1097 [==============================] - 0s 251us/sample - loss: 0.7347 - accuracy: 0.4859 - val_loss: 0.6994 - val_accuracy: 0.5236\n",
      "Epoch 19/20\n",
      "1097/1097 [==============================] - 0s 306us/sample - loss: 0.7423 - accuracy: 0.4686 - val_loss: 0.6994 - val_accuracy: 0.5236\n",
      "Epoch 20/20\n",
      "1097/1097 [==============================] - 0s 242us/sample - loss: 0.7344 - accuracy: 0.4740 - val_loss: 0.6994 - val_accuracy: 0.5236\n"
     ]
    },
    {
     "data": {
      "text/plain": [
       "<tensorflow.python.keras.callbacks.History at 0x156ae5e10>"
      ]
     },
     "execution_count": 81,
     "metadata": {},
     "output_type": "execute_result"
    }
   ],
   "source": [
    "model = basic_dropout_model_pt4()\n",
    "model.fit(x_train, t_train, validation_data=(x_test, t_test), epochs=20, batch_size=64)"
   ]
  },
  {
   "cell_type": "markdown",
   "metadata": {},
   "source": [
    "**Remarks:** The range of results here seem similarly wide to those from the architecture with dropout ratio 0.25 in the 2nd (last) hidden layer, so it's not clear if they're substantively different."
   ]
  },
  {
   "cell_type": "markdown",
   "metadata": {},
   "source": [
    "### Dropout ratio 0.2 for both hidden layers"
   ]
  },
  {
   "cell_type": "code",
   "execution_count": 82,
   "metadata": {},
   "outputs": [],
   "source": [
    "def all_dropout_model():\n",
    "    return get_model([10, 10, 1], ['sigmoid'] * 3, 'binary_crossentropy', 'Adadelta', ['accuracy'],\n",
    "                     dropout=[0.2, 0.2, 0])"
   ]
  },
  {
   "cell_type": "code",
   "execution_count": 458,
   "metadata": {},
   "outputs": [
    {
     "name": "stdout",
     "output_type": "stream",
     "text": [
      "[0.44363636 0.28363636 0.60583943 0.37956205 0.45985401]\n",
      "Accuracy: 43.45% (10.57%)\n"
     ]
    }
   ],
   "source": [
    "estimator = KerasClassifier(build_fn=all_dropout_model, epochs=20, batch_size=64, verbose=0)\n",
    "kfold = StratifiedKFold(n_splits=5, shuffle=True)\n",
    "results = cross_val_score(estimator, x.values, t.values, cv=kfold)\n",
    "print(results)\n",
    "print(\"Accuracy: %.2f%% (%.2f%%)\" % (results.mean()*100, results.std()*100))"
   ]
  },
  {
   "cell_type": "code",
   "execution_count": 459,
   "metadata": {},
   "outputs": [
    {
     "name": "stdout",
     "output_type": "stream",
     "text": [
      "Train on 1097 samples, validate on 275 samples\n",
      "Epoch 1/10\n",
      "1097/1097 [==============================] - 12s 11ms/sample - loss: 0.8541 - accuracy: 0.4458 - val_loss: 0.8543 - val_accuracy: 0.4436\n",
      "Epoch 2/10\n",
      "1097/1097 [==============================] - 0s 179us/sample - loss: 0.8597 - accuracy: 0.4467 - val_loss: 0.8542 - val_accuracy: 0.4436\n",
      "Epoch 3/10\n",
      "1097/1097 [==============================] - 0s 183us/sample - loss: 0.8580 - accuracy: 0.4448 - val_loss: 0.8540 - val_accuracy: 0.4436\n",
      "Epoch 4/10\n",
      "1097/1097 [==============================] - 0s 186us/sample - loss: 0.8604 - accuracy: 0.4467 - val_loss: 0.8539 - val_accuracy: 0.4436\n",
      "Epoch 5/10\n",
      "1097/1097 [==============================] - 0s 178us/sample - loss: 0.8645 - accuracy: 0.4448 - val_loss: 0.8537 - val_accuracy: 0.4436\n",
      "Epoch 6/10\n",
      "1097/1097 [==============================] - 0s 207us/sample - loss: 0.8517 - accuracy: 0.4458 - val_loss: 0.8536 - val_accuracy: 0.4436\n",
      "Epoch 7/10\n",
      "1097/1097 [==============================] - 0s 172us/sample - loss: 0.8586 - accuracy: 0.4448 - val_loss: 0.8534 - val_accuracy: 0.4436\n",
      "Epoch 8/10\n",
      "1097/1097 [==============================] - 0s 179us/sample - loss: 0.8569 - accuracy: 0.4439 - val_loss: 0.8533 - val_accuracy: 0.4436\n",
      "Epoch 9/10\n",
      "1097/1097 [==============================] - 0s 180us/sample - loss: 0.8613 - accuracy: 0.4448 - val_loss: 0.8531 - val_accuracy: 0.4436\n",
      "Epoch 10/10\n",
      "1097/1097 [==============================] - 0s 232us/sample - loss: 0.8623 - accuracy: 0.4476 - val_loss: 0.8529 - val_accuracy: 0.4436\n"
     ]
    },
    {
     "data": {
      "text/plain": [
       "<tensorflow.python.keras.callbacks.History at 0x1aad74160>"
      ]
     },
     "execution_count": 459,
     "metadata": {},
     "output_type": "execute_result"
    }
   ],
   "source": [
    "model = all_dropout_model()\n",
    "model.fit(x_train, t_train, validation_data=(x_test, t_test), epochs=20, batch_size=64)"
   ]
  },
  {
   "cell_type": "markdown",
   "metadata": {},
   "source": [
    "**Remarks:** The results again seem to vary widely, and it's unclear whether this architecture is substantively different."
   ]
  },
  {
   "cell_type": "markdown",
   "metadata": {},
   "source": [
    "## Using relu instead of sigmoid activation in hidden layers"
   ]
  },
  {
   "cell_type": "code",
   "execution_count": 83,
   "metadata": {},
   "outputs": [],
   "source": [
    "def basic_relu_model():\n",
    "    return get_model([10, 10, 1], ['relu', 'relu', 'sigmoid'], 'binary_crossentropy', 'Adadelta', ['accuracy'],\n",
    "                     dropout=[0, 0.25, 0])"
   ]
  },
  {
   "cell_type": "code",
   "execution_count": 461,
   "metadata": {},
   "outputs": [
    {
     "name": "stdout",
     "output_type": "stream",
     "text": [
      "[0.43636364 0.22909091 0.56569344 0.50729924 0.67518246]\n",
      "Accuracy: 48.27% (14.90%)\n"
     ]
    }
   ],
   "source": [
    "estimator = KerasClassifier(build_fn=basic_relu_model, epochs=20, batch_size=64, verbose=0)\n",
    "kfold = StratifiedKFold(n_splits=5, shuffle=True)\n",
    "results = cross_val_score(estimator, x.values, t.values, cv=kfold)\n",
    "print(results)\n",
    "print(\"Accuracy: %.2f%% (%.2f%%)\" % (results.mean()*100, results.std()*100))"
   ]
  },
  {
   "cell_type": "code",
   "execution_count": 462,
   "metadata": {},
   "outputs": [
    {
     "name": "stdout",
     "output_type": "stream",
     "text": [
      "Train on 1097 samples, validate on 275 samples\n",
      "Epoch 1/10\n",
      "1097/1097 [==============================] - 2s 2ms/sample - loss: 0.6906 - accuracy: 0.5278 - val_loss: 0.6949 - val_accuracy: 0.5491\n",
      "Epoch 2/10\n",
      "1097/1097 [==============================] - 0s 195us/sample - loss: 0.6937 - accuracy: 0.5232 - val_loss: 0.6947 - val_accuracy: 0.5491\n",
      "Epoch 3/10\n",
      "1097/1097 [==============================] - 0s 210us/sample - loss: 0.6946 - accuracy: 0.5287 - val_loss: 0.6945 - val_accuracy: 0.5491\n",
      "Epoch 4/10\n",
      "1097/1097 [==============================] - 0s 203us/sample - loss: 0.6969 - accuracy: 0.5251 - val_loss: 0.6944 - val_accuracy: 0.5491\n",
      "Epoch 5/10\n",
      "1097/1097 [==============================] - 0s 182us/sample - loss: 0.6986 - accuracy: 0.5160 - val_loss: 0.6942 - val_accuracy: 0.5491\n",
      "Epoch 6/10\n",
      "1097/1097 [==============================] - 0s 314us/sample - loss: 0.6942 - accuracy: 0.5141 - val_loss: 0.6940 - val_accuracy: 0.5527\n",
      "Epoch 7/10\n",
      "1097/1097 [==============================] - 0s 247us/sample - loss: 0.6942 - accuracy: 0.5351 - val_loss: 0.6938 - val_accuracy: 0.5527\n",
      "Epoch 8/10\n",
      "1097/1097 [==============================] - 0s 182us/sample - loss: 0.7014 - accuracy: 0.5251 - val_loss: 0.6937 - val_accuracy: 0.5527\n",
      "Epoch 9/10\n",
      "1097/1097 [==============================] - 0s 205us/sample - loss: 0.6954 - accuracy: 0.5333 - val_loss: 0.6935 - val_accuracy: 0.5527\n",
      "Epoch 10/10\n",
      "1097/1097 [==============================] - 0s 299us/sample - loss: 0.6928 - accuracy: 0.5415 - val_loss: 0.6933 - val_accuracy: 0.5527\n"
     ]
    },
    {
     "data": {
      "text/plain": [
       "<tensorflow.python.keras.callbacks.History at 0x16be133c8>"
      ]
     },
     "execution_count": 462,
     "metadata": {},
     "output_type": "execute_result"
    }
   ],
   "source": [
    "model = basic_relu_model()\n",
    "model.fit(x_train, t_train, validation_data=(x_test, t_test), epochs=20, batch_size=64)"
   ]
  },
  {
   "cell_type": "markdown",
   "metadata": {},
   "source": [
    "**Remarks:** The results are substantially better than with 2 sigmoid-activation hidden layers."
   ]
  },
  {
   "cell_type": "markdown",
   "metadata": {},
   "source": [
    "## Varying network depth & width (hidden layer numbers & sizes)"
   ]
  },
  {
   "cell_type": "markdown",
   "metadata": {},
   "source": [
    "### Using sigmoid activations"
   ]
  },
  {
   "cell_type": "code",
   "execution_count": 84,
   "metadata": {},
   "outputs": [],
   "source": [
    "def bigger_sigmoid_model():\n",
    "    return get_model([40, 20, 1], ['sigmoid'] * 3, 'binary_crossentropy', 'Adadelta', ['accuracy'],\n",
    "                     dropout=[0, 0.25, 0])"
   ]
  },
  {
   "cell_type": "code",
   "execution_count": 539,
   "metadata": {},
   "outputs": [
    {
     "name": "stdout",
     "output_type": "stream",
     "text": [
      "[0.44363636 0.44363636 0.44525549 0.55474454 0.55474454]\n",
      "Accuracy: 48.84% (5.42%)\n"
     ]
    }
   ],
   "source": [
    "estimator = KerasClassifier(build_fn=bigger_sigmoid_model, epochs=20, batch_size=64, verbose=0)\n",
    "kfold = StratifiedKFold(n_splits=5, shuffle=True)\n",
    "results = cross_val_score(estimator, x.values, t.values, cv=kfold)\n",
    "print(results)\n",
    "print(\"Accuracy: %.2f%% (%.2f%%)\" % (results.mean()*100, results.std()*100))"
   ]
  },
  {
   "cell_type": "code",
   "execution_count": 540,
   "metadata": {},
   "outputs": [
    {
     "name": "stdout",
     "output_type": "stream",
     "text": [
      "Train on 1097 samples, validate on 275 samples\n",
      "Epoch 1/10\n",
      "1097/1097 [==============================] - 2s 2ms/sample - loss: 0.7107 - accuracy: 0.5269 - val_loss: 0.6934 - val_accuracy: 0.5564\n",
      "Epoch 2/10\n",
      "1097/1097 [==============================] - 0s 184us/sample - loss: 0.7072 - accuracy: 0.5542 - val_loss: 0.6933 - val_accuracy: 0.5564\n",
      "Epoch 3/10\n",
      "1097/1097 [==============================] - 0s 199us/sample - loss: 0.7208 - accuracy: 0.5314 - val_loss: 0.6932 - val_accuracy: 0.5564\n",
      "Epoch 4/10\n",
      "1097/1097 [==============================] - 0s 230us/sample - loss: 0.7095 - accuracy: 0.5479 - val_loss: 0.6932 - val_accuracy: 0.5564\n",
      "Epoch 5/10\n",
      "1097/1097 [==============================] - 0s 203us/sample - loss: 0.7076 - accuracy: 0.5324 - val_loss: 0.6931 - val_accuracy: 0.5564\n",
      "Epoch 6/10\n",
      "1097/1097 [==============================] - 0s 187us/sample - loss: 0.7001 - accuracy: 0.5415 - val_loss: 0.6930 - val_accuracy: 0.5564\n",
      "Epoch 7/10\n",
      "1097/1097 [==============================] - 0s 183us/sample - loss: 0.7166 - accuracy: 0.5406 - val_loss: 0.6930 - val_accuracy: 0.5564\n",
      "Epoch 8/10\n",
      "1097/1097 [==============================] - 0s 184us/sample - loss: 0.7178 - accuracy: 0.5324 - val_loss: 0.6929 - val_accuracy: 0.5564\n",
      "Epoch 9/10\n",
      "1097/1097 [==============================] - 0s 301us/sample - loss: 0.7078 - accuracy: 0.5451 - val_loss: 0.6929 - val_accuracy: 0.5564\n",
      "Epoch 10/10\n",
      "1097/1097 [==============================] - 0s 187us/sample - loss: 0.7184 - accuracy: 0.5305 - val_loss: 0.6928 - val_accuracy: 0.5564\n"
     ]
    },
    {
     "data": {
      "text/plain": [
       "<tensorflow.python.keras.callbacks.History at 0x1c35b5b70>"
      ]
     },
     "execution_count": 540,
     "metadata": {},
     "output_type": "execute_result"
    }
   ],
   "source": [
    "model = bigger_sigmoid_model()\n",
    "model.fit(x_train, t_train, validation_data=(x_test, t_test), epochs=20, batch_size=64)"
   ]
  },
  {
   "cell_type": "markdown",
   "metadata": {},
   "source": [
    "**Remarks:** Still not substantially better than the same model with 10 units per hidden layer. Also tried (60, 20), but the gains seem small relative to the increase in model complexity."
   ]
  },
  {
   "cell_type": "markdown",
   "metadata": {},
   "source": [
    "### Using ReLu activations"
   ]
  },
  {
   "cell_type": "code",
   "execution_count": 85,
   "metadata": {},
   "outputs": [],
   "source": [
    "def bigger_relu_model():\n",
    "    return get_model([40, 20, 1], ['relu', 'relu', 'sigmoid'], 'binary_crossentropy', 'Adadelta', ['accuracy'],\n",
    "                     dropout=[0, 0.25, 0])"
   ]
  },
  {
   "cell_type": "code",
   "execution_count": 543,
   "metadata": {},
   "outputs": [
    {
     "name": "stdout",
     "output_type": "stream",
     "text": [
      "[0.38545454 0.46909091 0.66423357 0.69343066 0.55474454]\n",
      "Accuracy: 55.34% (11.59%)\n"
     ]
    }
   ],
   "source": [
    "estimator = KerasClassifier(build_fn=bigger_relu_model, epochs=20, batch_size=64, verbose=0)\n",
    "kfold = StratifiedKFold(n_splits=5, shuffle=True)\n",
    "results = cross_val_score(estimator, x.values, t.values, cv=kfold)\n",
    "print(results)\n",
    "print(\"Accuracy: %.2f%% (%.2f%%)\" % (results.mean()*100, results.std()*100))"
   ]
  },
  {
   "cell_type": "code",
   "execution_count": 544,
   "metadata": {},
   "outputs": [
    {
     "name": "stdout",
     "output_type": "stream",
     "text": [
      "Train on 1097 samples, validate on 275 samples\n",
      "Epoch 1/10\n",
      "1097/1097 [==============================] - 2s 1ms/sample - loss: 0.6929 - accuracy: 0.5552 - val_loss: 0.6860 - val_accuracy: 0.5564\n",
      "Epoch 2/10\n",
      "1097/1097 [==============================] - 0s 228us/sample - loss: 0.6972 - accuracy: 0.5469 - val_loss: 0.6856 - val_accuracy: 0.5564\n",
      "Epoch 3/10\n",
      "1097/1097 [==============================] - 0s 187us/sample - loss: 0.6986 - accuracy: 0.5506 - val_loss: 0.6853 - val_accuracy: 0.5564\n",
      "Epoch 4/10\n",
      "1097/1097 [==============================] - 0s 187us/sample - loss: 0.6952 - accuracy: 0.5561 - val_loss: 0.6850 - val_accuracy: 0.5564\n",
      "Epoch 5/10\n",
      "1097/1097 [==============================] - 0s 190us/sample - loss: 0.6978 - accuracy: 0.5606 - val_loss: 0.6847 - val_accuracy: 0.5564\n",
      "Epoch 6/10\n",
      "1097/1097 [==============================] - 0s 184us/sample - loss: 0.6984 - accuracy: 0.5506 - val_loss: 0.6844 - val_accuracy: 0.5564\n",
      "Epoch 7/10\n",
      "1097/1097 [==============================] - 0s 232us/sample - loss: 0.6959 - accuracy: 0.5570 - val_loss: 0.6840 - val_accuracy: 0.5564\n",
      "Epoch 8/10\n",
      "1097/1097 [==============================] - 0s 192us/sample - loss: 0.6948 - accuracy: 0.5469 - val_loss: 0.6837 - val_accuracy: 0.5564\n",
      "Epoch 9/10\n",
      "1097/1097 [==============================] - 0s 178us/sample - loss: 0.6986 - accuracy: 0.5488 - val_loss: 0.6834 - val_accuracy: 0.5564\n",
      "Epoch 10/10\n",
      "1097/1097 [==============================] - 0s 205us/sample - loss: 0.6949 - accuracy: 0.5552 - val_loss: 0.6830 - val_accuracy: 0.5564\n"
     ]
    },
    {
     "data": {
      "text/plain": [
       "<tensorflow.python.keras.callbacks.History at 0x1cb9ce390>"
      ]
     },
     "execution_count": 544,
     "metadata": {},
     "output_type": "execute_result"
    }
   ],
   "source": [
    "model = bigger_relu_model()\n",
    "model.fit(x_train, t_train, validation_data=(x_test, t_test), epochs=20, batch_size=64)"
   ]
  },
  {
   "cell_type": "code",
   "execution_count": 545,
   "metadata": {},
   "outputs": [],
   "source": [
    "def medium_relu_model():\n",
    "    return get_model([20, 20, 1], ['relu', 'relu', 'sigmoid'], 'binary_crossentropy', 'Adadelta', ['accuracy'],\n",
    "                     dropout=[0, 0.25, 0])"
   ]
  },
  {
   "cell_type": "code",
   "execution_count": 546,
   "metadata": {},
   "outputs": [
    {
     "name": "stdout",
     "output_type": "stream",
     "text": [
      "[0.43636364 0.42909092 0.41240877 0.60948902 0.59489053]\n",
      "Accuracy: 49.64% (8.68%)\n"
     ]
    }
   ],
   "source": [
    "estimator = KerasClassifier(build_fn=medium_relu_model, epochs=20, batch_size=64, verbose=0)\n",
    "kfold = StratifiedKFold(n_splits=5, shuffle=True)\n",
    "results = cross_val_score(estimator, x.values, t.values, cv=kfold)\n",
    "print(results)\n",
    "print(\"Accuracy: %.2f%% (%.2f%%)\" % (results.mean()*100, results.std()*100))"
   ]
  },
  {
   "cell_type": "code",
   "execution_count": 547,
   "metadata": {},
   "outputs": [
    {
     "name": "stdout",
     "output_type": "stream",
     "text": [
      "Train on 1097 samples, validate on 275 samples\n",
      "Epoch 1/10\n",
      "1097/1097 [==============================] - 2s 1ms/sample - loss: 0.6775 - accuracy: 0.5880 - val_loss: 0.6916 - val_accuracy: 0.5600\n",
      "Epoch 2/10\n",
      "1097/1097 [==============================] - 0s 183us/sample - loss: 0.6813 - accuracy: 0.5798 - val_loss: 0.6914 - val_accuracy: 0.5600\n",
      "Epoch 3/10\n",
      "1097/1097 [==============================] - 0s 182us/sample - loss: 0.6774 - accuracy: 0.5834 - val_loss: 0.6912 - val_accuracy: 0.5600\n",
      "Epoch 4/10\n",
      "1097/1097 [==============================] - 0s 380us/sample - loss: 0.6817 - accuracy: 0.5962 - val_loss: 0.6910 - val_accuracy: 0.5600\n",
      "Epoch 5/10\n",
      "1097/1097 [==============================] - 0s 281us/sample - loss: 0.6805 - accuracy: 0.5670 - val_loss: 0.6909 - val_accuracy: 0.5600\n",
      "Epoch 6/10\n",
      "1097/1097 [==============================] - 0s 224us/sample - loss: 0.6738 - accuracy: 0.5962 - val_loss: 0.6907 - val_accuracy: 0.5636\n",
      "Epoch 7/10\n",
      "1097/1097 [==============================] - 0s 276us/sample - loss: 0.6813 - accuracy: 0.5898 - val_loss: 0.6905 - val_accuracy: 0.5636\n",
      "Epoch 8/10\n",
      "1097/1097 [==============================] - 0s 272us/sample - loss: 0.6789 - accuracy: 0.5934 - val_loss: 0.6903 - val_accuracy: 0.5636\n",
      "Epoch 9/10\n",
      "1097/1097 [==============================] - 0s 200us/sample - loss: 0.6778 - accuracy: 0.5907 - val_loss: 0.6901 - val_accuracy: 0.5636\n",
      "Epoch 10/10\n",
      "1097/1097 [==============================] - 0s 194us/sample - loss: 0.6835 - accuracy: 0.5743 - val_loss: 0.6899 - val_accuracy: 0.5636\n"
     ]
    },
    {
     "data": {
      "text/plain": [
       "<tensorflow.python.keras.callbacks.History at 0x1d67f5d68>"
      ]
     },
     "execution_count": 547,
     "metadata": {},
     "output_type": "execute_result"
    }
   ],
   "source": [
    "model = medium_relu_model()\n",
    "model.fit(x_train, t_train, validation_data=(x_test, t_test), epochs=20, batch_size=64)"
   ]
  },
  {
   "cell_type": "markdown",
   "metadata": {},
   "source": [
    "**Remarks:** ReLu seems to vary dramatically in performance on this dataset. Over several runs (many omitted from the spreadsheet for consistency, and including more basic (10, 10) ReLu network runs), it shows both the highest and lowest accuracies seen so far. In fact, the limited training rounds I've run may suggest its performance is declining with increasing hidden layer units, which could be an indication of overfitting."
   ]
  },
  {
   "cell_type": "markdown",
   "metadata": {},
   "source": [
    "### Using both sigmoid and ReLu activations"
   ]
  },
  {
   "cell_type": "code",
   "execution_count": 490,
   "metadata": {},
   "outputs": [],
   "source": [
    "def relu_sigmoid_model():\n",
    "    return get_model([10, 20, 1], ['relu', 'sigmoid', 'sigmoid'], 'binary_crossentropy', 'Adadelta', ['accuracy'],\n",
    "                     dropout=[0, 0.25, 0])"
   ]
  },
  {
   "cell_type": "code",
   "execution_count": 497,
   "metadata": {},
   "outputs": [
    {
     "name": "stdout",
     "output_type": "stream",
     "text": [
      "[0.55636364 0.44363636 0.55474454 0.53649634 0.47080293]\n",
      "Accuracy: 51.24% (4.64%)\n"
     ]
    }
   ],
   "source": [
    "estimator = KerasClassifier(build_fn=relu_sigmoid_model, epochs=20, batch_size=64, verbose=0)\n",
    "kfold = StratifiedKFold(n_splits=5, shuffle=True)\n",
    "results = cross_val_score(estimator, x.values, t.values, cv=kfold)\n",
    "print(results)\n",
    "print(\"Accuracy: %.2f%% (%.2f%%)\" % (results.mean()*100, results.std()*100))"
   ]
  },
  {
   "cell_type": "code",
   "execution_count": 498,
   "metadata": {},
   "outputs": [
    {
     "name": "stdout",
     "output_type": "stream",
     "text": [
      "Train on 1097 samples, validate on 275 samples\n",
      "Epoch 1/10\n",
      "1097/1097 [==============================] - 1s 1ms/sample - loss: 0.7509 - accuracy: 0.4540 - val_loss: 0.7154 - val_accuracy: 0.4073\n",
      "Epoch 2/10\n",
      "1097/1097 [==============================] - 0s 181us/sample - loss: 0.7490 - accuracy: 0.4439 - val_loss: 0.7153 - val_accuracy: 0.4073\n",
      "Epoch 3/10\n",
      "1097/1097 [==============================] - 0s 177us/sample - loss: 0.7306 - accuracy: 0.5005 - val_loss: 0.7152 - val_accuracy: 0.4073\n",
      "Epoch 4/10\n",
      "1097/1097 [==============================] - 0s 209us/sample - loss: 0.7433 - accuracy: 0.4768 - val_loss: 0.7152 - val_accuracy: 0.4073\n",
      "Epoch 5/10\n",
      "1097/1097 [==============================] - 0s 231us/sample - loss: 0.7354 - accuracy: 0.4603 - val_loss: 0.7151 - val_accuracy: 0.4073\n",
      "Epoch 6/10\n",
      "1097/1097 [==============================] - 0s 208us/sample - loss: 0.7392 - accuracy: 0.4795 - val_loss: 0.7150 - val_accuracy: 0.4073\n",
      "Epoch 7/10\n",
      "1097/1097 [==============================] - 0s 182us/sample - loss: 0.7468 - accuracy: 0.4558 - val_loss: 0.7149 - val_accuracy: 0.4073\n",
      "Epoch 8/10\n",
      "1097/1097 [==============================] - 0s 155us/sample - loss: 0.7436 - accuracy: 0.4758 - val_loss: 0.7149 - val_accuracy: 0.4073\n",
      "Epoch 9/10\n",
      "1097/1097 [==============================] - 0s 155us/sample - loss: 0.7310 - accuracy: 0.4758 - val_loss: 0.7148 - val_accuracy: 0.4073\n",
      "Epoch 10/10\n",
      "1097/1097 [==============================] - 0s 161us/sample - loss: 0.7366 - accuracy: 0.4676 - val_loss: 0.7147 - val_accuracy: 0.4073\n"
     ]
    },
    {
     "data": {
      "text/plain": [
       "<tensorflow.python.keras.callbacks.History at 0x1ab810198>"
      ]
     },
     "execution_count": 498,
     "metadata": {},
     "output_type": "execute_result"
    }
   ],
   "source": [
    "model = relu_sigmoid_model()\n",
    "model.fit(x_train, t_train, validation_data=(x_test, t_test), epochs=20, batch_size=64)"
   ]
  },
  {
   "cell_type": "markdown",
   "metadata": {},
   "source": [
    "**Remarks:** This seems to be one of the most consistent of the networks tried, but again that's not obvious, and may be due to chance."
   ]
  },
  {
   "cell_type": "markdown",
   "metadata": {},
   "source": [
    "### Deeper sigmoid network"
   ]
  },
  {
   "cell_type": "markdown",
   "metadata": {},
   "source": [
    "#### Note: Results when spreadsheet was first created invalidated (though they shouldn't be much different) due to bug in get_model(). They have been struck out because with hindsight, this is obviously not the right model, and I don't want to redo the work just for the record"
   ]
  },
  {
   "cell_type": "code",
   "execution_count": 87,
   "metadata": {},
   "outputs": [],
   "source": [
    "def deeper_sigmoid_model():\n",
    "    return get_model([10, 10, 10, 1], ['sigmoid'] * 4, 'binary_crossentropy', 'Adadelta', ['accuracy'],\n",
    "                     dropout=[0.25, 0.25, 0.25, 0])"
   ]
  },
  {
   "cell_type": "code",
   "execution_count": 88,
   "metadata": {},
   "outputs": [
    {
     "name": "stdout",
     "output_type": "stream",
     "text": [
      "[0.44363636 0.44363636 0.44525549 0.55474454 0.44525549]\n",
      "Accuracy: 46.65% (4.41%)\n"
     ]
    }
   ],
   "source": [
    "estimator = KerasClassifier(build_fn=deeper_sigmoid_model, epochs=20, batch_size=64, verbose=0)\n",
    "kfold = StratifiedKFold(n_splits=5, shuffle=True)\n",
    "results = cross_val_score(estimator, x.values, t.values, cv=kfold)\n",
    "print(results)\n",
    "print(\"Accuracy: %.2f%% (%.2f%%)\" % (results.mean()*100, results.std()*100))"
   ]
  },
  {
   "cell_type": "code",
   "execution_count": 89,
   "metadata": {},
   "outputs": [
    {
     "name": "stdout",
     "output_type": "stream",
     "text": [
      "Train on 1097 samples, validate on 275 samples\n",
      "Epoch 1/20\n",
      "1097/1097 [==============================] - 3s 3ms/sample - loss: 0.8378 - accuracy: 0.4458 - val_loss: 0.8335 - val_accuracy: 0.4436\n",
      "Epoch 2/20\n",
      "1097/1097 [==============================] - 0s 260us/sample - loss: 0.8400 - accuracy: 0.4439 - val_loss: 0.8335 - val_accuracy: 0.4436\n",
      "Epoch 3/20\n",
      "1097/1097 [==============================] - 0s 267us/sample - loss: 0.8672 - accuracy: 0.4412 - val_loss: 0.8334 - val_accuracy: 0.4436\n",
      "Epoch 4/20\n",
      "1097/1097 [==============================] - 0s 279us/sample - loss: 0.8468 - accuracy: 0.4467 - val_loss: 0.8333 - val_accuracy: 0.4436\n",
      "Epoch 5/20\n",
      "1097/1097 [==============================] - 0s 261us/sample - loss: 0.8335 - accuracy: 0.4430 - val_loss: 0.8332 - val_accuracy: 0.4436\n",
      "Epoch 6/20\n",
      "1097/1097 [==============================] - 0s 315us/sample - loss: 0.8383 - accuracy: 0.4485 - val_loss: 0.8332 - val_accuracy: 0.4436\n",
      "Epoch 7/20\n",
      "1097/1097 [==============================] - 0s 303us/sample - loss: 0.8441 - accuracy: 0.4448 - val_loss: 0.8331 - val_accuracy: 0.4436\n",
      "Epoch 8/20\n",
      "1097/1097 [==============================] - 0s 275us/sample - loss: 0.8466 - accuracy: 0.4448 - val_loss: 0.8330 - val_accuracy: 0.4436\n",
      "Epoch 9/20\n",
      "1097/1097 [==============================] - 0s 264us/sample - loss: 0.8434 - accuracy: 0.4467 - val_loss: 0.8329 - val_accuracy: 0.4436\n",
      "Epoch 10/20\n",
      "1097/1097 [==============================] - 0s 295us/sample - loss: 0.8305 - accuracy: 0.4476 - val_loss: 0.8328 - val_accuracy: 0.4436\n",
      "Epoch 11/20\n",
      "1097/1097 [==============================] - 0s 307us/sample - loss: 0.8374 - accuracy: 0.4458 - val_loss: 0.8328 - val_accuracy: 0.4436\n",
      "Epoch 12/20\n",
      "1097/1097 [==============================] - 0s 283us/sample - loss: 0.8458 - accuracy: 0.4448 - val_loss: 0.8327 - val_accuracy: 0.4436\n",
      "Epoch 13/20\n",
      "1097/1097 [==============================] - 0s 347us/sample - loss: 0.8555 - accuracy: 0.4439 - val_loss: 0.8326 - val_accuracy: 0.4436\n",
      "Epoch 14/20\n",
      "1097/1097 [==============================] - 0s 258us/sample - loss: 0.8360 - accuracy: 0.4494 - val_loss: 0.8325 - val_accuracy: 0.4436\n",
      "Epoch 15/20\n",
      "1097/1097 [==============================] - 0s 270us/sample - loss: 0.8456 - accuracy: 0.4476 - val_loss: 0.8324 - val_accuracy: 0.4436\n",
      "Epoch 16/20\n",
      "1097/1097 [==============================] - 0s 268us/sample - loss: 0.8387 - accuracy: 0.4458 - val_loss: 0.8323 - val_accuracy: 0.4436\n",
      "Epoch 17/20\n",
      "1097/1097 [==============================] - 0s 335us/sample - loss: 0.8448 - accuracy: 0.4467 - val_loss: 0.8322 - val_accuracy: 0.4436\n",
      "Epoch 18/20\n",
      "1097/1097 [==============================] - 0s 293us/sample - loss: 0.8500 - accuracy: 0.4458 - val_loss: 0.8322 - val_accuracy: 0.4436\n",
      "Epoch 19/20\n",
      "1097/1097 [==============================] - 0s 280us/sample - loss: 0.8405 - accuracy: 0.4494 - val_loss: 0.8321 - val_accuracy: 0.4436\n",
      "Epoch 20/20\n",
      "1097/1097 [==============================] - 0s 345us/sample - loss: 0.8441 - accuracy: 0.4467 - val_loss: 0.8320 - val_accuracy: 0.4436\n"
     ]
    },
    {
     "data": {
      "text/plain": [
       "<tensorflow.python.keras.callbacks.History at 0x157fbf208>"
      ]
     },
     "execution_count": 89,
     "metadata": {},
     "output_type": "execute_result"
    }
   ],
   "source": [
    "model = deeper_sigmoid_model()\n",
    "model.fit(x_train, t_train, validation_data=(x_test, t_test), epochs=20, batch_size=64)"
   ]
  },
  {
   "cell_type": "markdown",
   "metadata": {},
   "source": [
    "### Deeper ReLu network"
   ]
  },
  {
   "cell_type": "code",
   "execution_count": 90,
   "metadata": {},
   "outputs": [],
   "source": [
    "def deeper_relu_model():\n",
    "    return get_model([10, 10, 10, 1], ['relu'] * 3 + ['sigmoid'], 'binary_crossentropy', 'Adadelta', ['accuracy'],\n",
    "                     dropout=[0.25, 0.25, 0.25, 0])"
   ]
  },
  {
   "cell_type": "code",
   "execution_count": 100,
   "metadata": {},
   "outputs": [
    {
     "name": "stdout",
     "output_type": "stream",
     "text": [
      "[0.67636365 0.51272726 0.54744524 0.35036495 0.44525549]\n",
      "Accuracy: 50.64% (10.83%)\n"
     ]
    }
   ],
   "source": [
    "estimator = KerasClassifier(build_fn=deeper_relu_model, epochs=20, batch_size=64, verbose=0)\n",
    "kfold = StratifiedKFold(n_splits=5, shuffle=True)\n",
    "results = cross_val_score(estimator, x.values, t.values, cv=kfold)\n",
    "print(results)\n",
    "print(\"Accuracy: %.2f%% (%.2f%%)\" % (results.mean()*100, results.std()*100))"
   ]
  },
  {
   "cell_type": "code",
   "execution_count": 101,
   "metadata": {},
   "outputs": [
    {
     "name": "stdout",
     "output_type": "stream",
     "text": [
      "Train on 1097 samples, validate on 275 samples\n",
      "Epoch 1/20\n",
      "1097/1097 [==============================] - 3s 2ms/sample - loss: 0.7203 - accuracy: 0.4239 - val_loss: 0.7106 - val_accuracy: 0.4182\n",
      "Epoch 2/20\n",
      "1097/1097 [==============================] - 0s 255us/sample - loss: 0.7208 - accuracy: 0.4284 - val_loss: 0.7105 - val_accuracy: 0.4182\n",
      "Epoch 3/20\n",
      "1097/1097 [==============================] - 0s 235us/sample - loss: 0.7181 - accuracy: 0.4394 - val_loss: 0.7105 - val_accuracy: 0.4182\n",
      "Epoch 4/20\n",
      "1097/1097 [==============================] - 0s 205us/sample - loss: 0.7208 - accuracy: 0.4339 - val_loss: 0.7105 - val_accuracy: 0.4182\n",
      "Epoch 5/20\n",
      "1097/1097 [==============================] - 0s 201us/sample - loss: 0.7139 - accuracy: 0.4430 - val_loss: 0.7104 - val_accuracy: 0.4182\n",
      "Epoch 6/20\n",
      "1097/1097 [==============================] - 0s 267us/sample - loss: 0.7113 - accuracy: 0.4686 - val_loss: 0.7104 - val_accuracy: 0.4182\n",
      "Epoch 7/20\n",
      "1097/1097 [==============================] - 0s 200us/sample - loss: 0.7183 - accuracy: 0.4403 - val_loss: 0.7103 - val_accuracy: 0.4182\n",
      "Epoch 8/20\n",
      "1097/1097 [==============================] - 0s 210us/sample - loss: 0.7163 - accuracy: 0.4248 - val_loss: 0.7103 - val_accuracy: 0.4182\n",
      "Epoch 9/20\n",
      "1097/1097 [==============================] - 0s 217us/sample - loss: 0.7154 - accuracy: 0.4303 - val_loss: 0.7103 - val_accuracy: 0.4182\n",
      "Epoch 10/20\n",
      "1097/1097 [==============================] - 0s 308us/sample - loss: 0.7178 - accuracy: 0.4357 - val_loss: 0.7102 - val_accuracy: 0.4182\n",
      "Epoch 11/20\n",
      "1097/1097 [==============================] - 0s 193us/sample - loss: 0.7134 - accuracy: 0.4485 - val_loss: 0.7102 - val_accuracy: 0.4182\n",
      "Epoch 12/20\n",
      "1097/1097 [==============================] - 0s 179us/sample - loss: 0.7161 - accuracy: 0.4294 - val_loss: 0.7101 - val_accuracy: 0.4182\n",
      "Epoch 13/20\n",
      "1097/1097 [==============================] - 0s 229us/sample - loss: 0.7182 - accuracy: 0.4175 - val_loss: 0.7101 - val_accuracy: 0.4182\n",
      "Epoch 14/20\n",
      "1097/1097 [==============================] - 0s 151us/sample - loss: 0.7125 - accuracy: 0.4622 - val_loss: 0.7101 - val_accuracy: 0.4182\n",
      "Epoch 15/20\n",
      "1097/1097 [==============================] - 0s 141us/sample - loss: 0.7158 - accuracy: 0.4540 - val_loss: 0.7100 - val_accuracy: 0.4182\n",
      "Epoch 16/20\n",
      "1097/1097 [==============================] - 0s 159us/sample - loss: 0.7165 - accuracy: 0.4467 - val_loss: 0.7100 - val_accuracy: 0.4182\n",
      "Epoch 17/20\n",
      "1097/1097 [==============================] - 0s 144us/sample - loss: 0.7123 - accuracy: 0.4458 - val_loss: 0.7099 - val_accuracy: 0.4182\n",
      "Epoch 18/20\n",
      "1097/1097 [==============================] - 0s 152us/sample - loss: 0.7125 - accuracy: 0.4576 - val_loss: 0.7099 - val_accuracy: 0.4182\n",
      "Epoch 19/20\n",
      "1097/1097 [==============================] - 0s 194us/sample - loss: 0.7152 - accuracy: 0.4448 - val_loss: 0.7099 - val_accuracy: 0.4182\n",
      "Epoch 20/20\n",
      "1097/1097 [==============================] - 0s 148us/sample - loss: 0.7163 - accuracy: 0.4376 - val_loss: 0.7098 - val_accuracy: 0.4182\n"
     ]
    },
    {
     "data": {
      "text/plain": [
       "<tensorflow.python.keras.callbacks.History at 0x165746908>"
      ]
     },
     "execution_count": 101,
     "metadata": {},
     "output_type": "execute_result"
    }
   ],
   "source": [
    "model = deeper_relu_model()\n",
    "model.fit(x_train, t_train, validation_data=(x_test, t_test), epochs=20, batch_size=64)"
   ]
  },
  {
   "cell_type": "markdown",
   "metadata": {},
   "source": [
    "### Remarks on results so far\n",
    "Overall, using sigmoid activation gives lower accuracies as well as variance, though dropout mitigates variance considerably in the case of ReLu. Going by the last two networks, using ReLu or a combination, along with dropout in most/all pre-output layers, seems to be a good move."
   ]
  },
  {
   "cell_type": "markdown",
   "metadata": {},
   "source": [
    "### Deeper ReLu network with dropout ratio 0.2 for input layer"
   ]
  },
  {
   "cell_type": "markdown",
   "metadata": {},
   "source": [
    "#### Note: Results when spreadsheet was first created also invalidated and struck out because with hindsight, this is obviously not the right model, and I don't want to redo the work just for the record"
   ]
  },
  {
   "cell_type": "code",
   "execution_count": 102,
   "metadata": {},
   "outputs": [],
   "source": [
    "def input_dropout_relu_model():\n",
    "    return get_model([10, 10, 10, 1], ['relu'] * 3 + ['sigmoid'], 'binary_crossentropy', 'Adadelta', ['accuracy'],\n",
    "                     dropout=[0.25, 0.25, 0.25, 0], input_dropout=0.2)"
   ]
  },
  {
   "cell_type": "code",
   "execution_count": 103,
   "metadata": {},
   "outputs": [
    {
     "name": "stdout",
     "output_type": "stream",
     "text": [
      "[0.37454545 0.16727273 0.55474454 0.54014599 0.47080293]\n",
      "Accuracy: 42.15% (14.22%)\n"
     ]
    }
   ],
   "source": [
    "estimator = KerasClassifier(build_fn=input_dropout_relu_model, epochs=20, batch_size=64, verbose=0)\n",
    "kfold = StratifiedKFold(n_splits=5, shuffle=True)\n",
    "results = cross_val_score(estimator, x.values, t.values, cv=kfold)\n",
    "print(results)\n",
    "print(\"Accuracy: %.2f%% (%.2f%%)\" % (results.mean()*100, results.std()*100))"
   ]
  },
  {
   "cell_type": "code",
   "execution_count": 104,
   "metadata": {},
   "outputs": [
    {
     "name": "stdout",
     "output_type": "stream",
     "text": [
      "Train on 1097 samples, validate on 275 samples\n",
      "Epoch 1/20\n",
      "1097/1097 [==============================] - 3s 2ms/sample - loss: 0.8852 - accuracy: 0.5278 - val_loss: 0.8649 - val_accuracy: 0.5564\n",
      "Epoch 2/20\n",
      "1097/1097 [==============================] - 0s 177us/sample - loss: 0.8611 - accuracy: 0.5251 - val_loss: 0.8648 - val_accuracy: 0.5564\n",
      "Epoch 3/20\n",
      "1097/1097 [==============================] - 0s 226us/sample - loss: 0.8941 - accuracy: 0.5068 - val_loss: 0.8647 - val_accuracy: 0.5564\n",
      "Epoch 4/20\n",
      "1097/1097 [==============================] - 0s 222us/sample - loss: 0.8628 - accuracy: 0.5314 - val_loss: 0.8646 - val_accuracy: 0.5564\n",
      "Epoch 5/20\n",
      "1097/1097 [==============================] - 0s 236us/sample - loss: 0.8844 - accuracy: 0.5251 - val_loss: 0.8645 - val_accuracy: 0.5564\n",
      "Epoch 6/20\n",
      "1097/1097 [==============================] - 0s 203us/sample - loss: 0.8626 - accuracy: 0.5196 - val_loss: 0.8644 - val_accuracy: 0.5564\n",
      "Epoch 7/20\n",
      "1097/1097 [==============================] - 0s 219us/sample - loss: 0.9050 - accuracy: 0.5059 - val_loss: 0.8642 - val_accuracy: 0.5564\n",
      "Epoch 8/20\n",
      "1097/1097 [==============================] - 1s 457us/sample - loss: 0.8805 - accuracy: 0.5160 - val_loss: 0.8641 - val_accuracy: 0.5564\n",
      "Epoch 9/20\n",
      "1097/1097 [==============================] - 0s 341us/sample - loss: 0.8622 - accuracy: 0.5342 - val_loss: 0.8640 - val_accuracy: 0.5564\n",
      "Epoch 10/20\n",
      "1097/1097 [==============================] - 0s 271us/sample - loss: 0.8869 - accuracy: 0.5169 - val_loss: 0.8639 - val_accuracy: 0.5564\n",
      "Epoch 11/20\n",
      "1097/1097 [==============================] - 0s 198us/sample - loss: 0.8637 - accuracy: 0.5278 - val_loss: 0.8638 - val_accuracy: 0.5564\n",
      "Epoch 12/20\n",
      "1097/1097 [==============================] - 0s 206us/sample - loss: 0.8641 - accuracy: 0.5123 - val_loss: 0.8637 - val_accuracy: 0.5564\n",
      "Epoch 13/20\n",
      "1097/1097 [==============================] - 0s 408us/sample - loss: 0.8775 - accuracy: 0.5041 - val_loss: 0.8636 - val_accuracy: 0.5564\n",
      "Epoch 14/20\n",
      "1097/1097 [==============================] - 1s 458us/sample - loss: 0.8891 - accuracy: 0.5378 - val_loss: 0.8635 - val_accuracy: 0.5564\n",
      "Epoch 15/20\n",
      "1097/1097 [==============================] - 0s 312us/sample - loss: 0.8803 - accuracy: 0.5242 - val_loss: 0.8633 - val_accuracy: 0.5564\n",
      "Epoch 16/20\n",
      "1097/1097 [==============================] - 1s 456us/sample - loss: 0.8503 - accuracy: 0.5242 - val_loss: 0.8632 - val_accuracy: 0.5564\n",
      "Epoch 17/20\n",
      "1097/1097 [==============================] - 0s 388us/sample - loss: 0.8769 - accuracy: 0.5260 - val_loss: 0.8631 - val_accuracy: 0.5564\n",
      "Epoch 18/20\n",
      "1097/1097 [==============================] - 0s 197us/sample - loss: 0.8649 - accuracy: 0.5324 - val_loss: 0.8630 - val_accuracy: 0.5564\n",
      "Epoch 19/20\n",
      "1097/1097 [==============================] - 0s 304us/sample - loss: 0.8689 - accuracy: 0.5214 - val_loss: 0.8629 - val_accuracy: 0.5564\n",
      "Epoch 20/20\n",
      "1097/1097 [==============================] - 0s 220us/sample - loss: 0.8885 - accuracy: 0.5169 - val_loss: 0.8628 - val_accuracy: 0.5564\n"
     ]
    },
    {
     "data": {
      "text/plain": [
       "<tensorflow.python.keras.callbacks.History at 0x161dea0b8>"
      ]
     },
     "execution_count": 104,
     "metadata": {},
     "output_type": "execute_result"
    }
   ],
   "source": [
    "model = input_dropout_relu_model()\n",
    "model.fit(x_train, t_train, validation_data=(x_test, t_test), epochs=20, batch_size=64)"
   ]
  },
  {
   "cell_type": "markdown",
   "metadata": {},
   "source": [
    "**Remarks:** Adding dropout for the input layer while keeping all other hyperparameters the same appears to hurt performance, maybe because the amount of exploitable information decreases overall, in the absence of an increased number of units in the hidden layers."
   ]
  },
  {
   "cell_type": "markdown",
   "metadata": {},
   "source": [
    "## Varying all of the above"
   ]
  },
  {
   "cell_type": "markdown",
   "metadata": {},
   "source": [
    "### Deeper, wider ReLu network with dropout ratio 0.2 for input layer"
   ]
  },
  {
   "cell_type": "markdown",
   "metadata": {},
   "source": [
    "#### Note: Results at spreadsheet creation also invalidated and struck out. (See another such model above for a bit more detail.)"
   ]
  },
  {
   "cell_type": "code",
   "execution_count": 105,
   "metadata": {},
   "outputs": [],
   "source": [
    "def relu_model_1():\n",
    "    return get_model([20, 20, 20, 1], ['relu'] * 3 + ['sigmoid'], 'binary_crossentropy', 'Adadelta', ['accuracy'],\n",
    "                     dropout=[0.5, 0.5, 0.5, 0], input_dropout=0.2)"
   ]
  },
  {
   "cell_type": "code",
   "execution_count": 106,
   "metadata": {},
   "outputs": [
    {
     "name": "stdout",
     "output_type": "stream",
     "text": [
      "[0.39636365 0.63999999 0.770073   0.26642334 0.47080293]\n",
      "Accuracy: 50.87% (17.79%)\n"
     ]
    }
   ],
   "source": [
    "estimator = KerasClassifier(build_fn=relu_model_1, epochs=20, batch_size=64, verbose=0)\n",
    "kfold = StratifiedKFold(n_splits=5, shuffle=True)\n",
    "results = cross_val_score(estimator, x.values, t.values, cv=kfold)\n",
    "print(results)\n",
    "print(\"Accuracy: %.2f%% (%.2f%%)\" % (results.mean()*100, results.std()*100))"
   ]
  },
  {
   "cell_type": "code",
   "execution_count": 107,
   "metadata": {},
   "outputs": [
    {
     "name": "stdout",
     "output_type": "stream",
     "text": [
      "Train on 1097 samples, validate on 275 samples\n",
      "Epoch 1/20\n",
      "1097/1097 [==============================] - 5s 5ms/sample - loss: 0.7603 - accuracy: 0.4850 - val_loss: 0.6872 - val_accuracy: 0.4618\n",
      "Epoch 2/20\n",
      "1097/1097 [==============================] - 0s 327us/sample - loss: 0.7643 - accuracy: 0.5032 - val_loss: 0.6872 - val_accuracy: 0.4618\n",
      "Epoch 3/20\n",
      "1097/1097 [==============================] - 0s 180us/sample - loss: 0.7626 - accuracy: 0.5087 - val_loss: 0.6871 - val_accuracy: 0.4618\n",
      "Epoch 4/20\n",
      "1097/1097 [==============================] - 0s 197us/sample - loss: 0.7510 - accuracy: 0.4932 - val_loss: 0.6871 - val_accuracy: 0.4618\n",
      "Epoch 5/20\n",
      "1097/1097 [==============================] - 0s 190us/sample - loss: 0.7700 - accuracy: 0.4950 - val_loss: 0.6871 - val_accuracy: 0.4618\n",
      "Epoch 6/20\n",
      "1097/1097 [==============================] - 0s 202us/sample - loss: 0.7503 - accuracy: 0.4950 - val_loss: 0.6870 - val_accuracy: 0.4618\n",
      "Epoch 7/20\n",
      "1097/1097 [==============================] - 0s 191us/sample - loss: 0.7483 - accuracy: 0.5141 - val_loss: 0.6870 - val_accuracy: 0.4618\n",
      "Epoch 8/20\n",
      "1097/1097 [==============================] - 0s 189us/sample - loss: 0.7450 - accuracy: 0.5132 - val_loss: 0.6870 - val_accuracy: 0.4618\n",
      "Epoch 9/20\n",
      "1097/1097 [==============================] - 0s 180us/sample - loss: 0.7712 - accuracy: 0.4877 - val_loss: 0.6869 - val_accuracy: 0.4618\n",
      "Epoch 10/20\n",
      "1097/1097 [==============================] - 0s 193us/sample - loss: 0.7557 - accuracy: 0.4895 - val_loss: 0.6869 - val_accuracy: 0.4618\n",
      "Epoch 11/20\n",
      "1097/1097 [==============================] - 0s 176us/sample - loss: 0.7318 - accuracy: 0.4968 - val_loss: 0.6868 - val_accuracy: 0.4618\n",
      "Epoch 12/20\n",
      "1097/1097 [==============================] - 0s 182us/sample - loss: 0.7523 - accuracy: 0.4977 - val_loss: 0.6868 - val_accuracy: 0.4618\n",
      "Epoch 13/20\n",
      "1097/1097 [==============================] - 0s 178us/sample - loss: 0.7567 - accuracy: 0.5251 - val_loss: 0.6868 - val_accuracy: 0.4691\n",
      "Epoch 14/20\n",
      "1097/1097 [==============================] - 0s 177us/sample - loss: 0.7464 - accuracy: 0.5223 - val_loss: 0.6867 - val_accuracy: 0.4691\n",
      "Epoch 15/20\n",
      "1097/1097 [==============================] - 0s 192us/sample - loss: 0.7467 - accuracy: 0.5232 - val_loss: 0.6867 - val_accuracy: 0.4691\n",
      "Epoch 16/20\n",
      "1097/1097 [==============================] - 0s 188us/sample - loss: 0.7609 - accuracy: 0.4731 - val_loss: 0.6867 - val_accuracy: 0.4691\n",
      "Epoch 17/20\n",
      "1097/1097 [==============================] - 0s 181us/sample - loss: 0.7367 - accuracy: 0.5041 - val_loss: 0.6866 - val_accuracy: 0.4691\n",
      "Epoch 18/20\n",
      "1097/1097 [==============================] - 0s 201us/sample - loss: 0.7538 - accuracy: 0.5123 - val_loss: 0.6866 - val_accuracy: 0.4727\n",
      "Epoch 19/20\n",
      "1097/1097 [==============================] - 0s 198us/sample - loss: 0.7645 - accuracy: 0.4913 - val_loss: 0.6866 - val_accuracy: 0.4727\n",
      "Epoch 20/20\n",
      "1097/1097 [==============================] - 0s 192us/sample - loss: 0.7484 - accuracy: 0.4913 - val_loss: 0.6865 - val_accuracy: 0.4727\n"
     ]
    },
    {
     "data": {
      "text/plain": [
       "<tensorflow.python.keras.callbacks.History at 0x169f2fe80>"
      ]
     },
     "execution_count": 107,
     "metadata": {},
     "output_type": "execute_result"
    }
   ],
   "source": [
    "model = relu_model_1()\n",
    "model.fit(x_train, t_train, validation_data=(x_test, t_test), epochs=20, batch_size=64)"
   ]
  },
  {
   "cell_type": "markdown",
   "metadata": {},
   "source": [
    "### \"Sandwich\" model: 2 ReLus followed by 1 sigmoid-activated hidden layer"
   ]
  },
  {
   "cell_type": "markdown",
   "metadata": {},
   "source": [
    "#### Note: Earlier results also invalidated and struck out."
   ]
  },
  {
   "cell_type": "code",
   "execution_count": 108,
   "metadata": {},
   "outputs": [],
   "source": [
    "def sandwich_model_1():\n",
    "    return get_model([10, 10, 10, 1], ['relu', 'relu', 'sigmoid', 'sigmoid'], 'binary_crossentropy', 'Adadelta',\n",
    "                     ['accuracy'], dropout=[0.25, 0.25, 0.25, 0])"
   ]
  },
  {
   "cell_type": "code",
   "execution_count": 109,
   "metadata": {},
   "outputs": [
    {
     "name": "stdout",
     "output_type": "stream",
     "text": [
      "[0.70545453 0.43272728 0.44525549 0.55474454 0.55474454]\n",
      "Accuracy: 53.86% (9.83%)\n"
     ]
    }
   ],
   "source": [
    "estimator = KerasClassifier(build_fn=sandwich_model_1, epochs=20, batch_size=64, verbose=0)\n",
    "kfold = StratifiedKFold(n_splits=5, shuffle=True)\n",
    "results = cross_val_score(estimator, x.values, t.values, cv=kfold)\n",
    "print(results)\n",
    "print(\"Accuracy: %.2f%% (%.2f%%)\" % (results.mean()*100, results.std()*100))"
   ]
  },
  {
   "cell_type": "code",
   "execution_count": 110,
   "metadata": {},
   "outputs": [
    {
     "name": "stdout",
     "output_type": "stream",
     "text": [
      "Train on 1097 samples, validate on 275 samples\n",
      "Epoch 1/20\n",
      "1097/1097 [==============================] - 2s 2ms/sample - loss: 0.7360 - accuracy: 0.5032 - val_loss: 0.7341 - val_accuracy: 0.4436\n",
      "Epoch 2/20\n",
      "1097/1097 [==============================] - 0s 196us/sample - loss: 0.7500 - accuracy: 0.4768 - val_loss: 0.7340 - val_accuracy: 0.4436\n",
      "Epoch 3/20\n",
      "1097/1097 [==============================] - 0s 203us/sample - loss: 0.7561 - accuracy: 0.4512 - val_loss: 0.7340 - val_accuracy: 0.4436\n",
      "Epoch 4/20\n",
      "1097/1097 [==============================] - 0s 207us/sample - loss: 0.7344 - accuracy: 0.5023 - val_loss: 0.7340 - val_accuracy: 0.4436\n",
      "Epoch 5/20\n",
      "1097/1097 [==============================] - 0s 209us/sample - loss: 0.7462 - accuracy: 0.4631 - val_loss: 0.7339 - val_accuracy: 0.4436\n",
      "Epoch 6/20\n",
      "1097/1097 [==============================] - 0s 201us/sample - loss: 0.7502 - accuracy: 0.4631 - val_loss: 0.7339 - val_accuracy: 0.4436\n",
      "Epoch 7/20\n",
      "1097/1097 [==============================] - 0s 202us/sample - loss: 0.7406 - accuracy: 0.4840 - val_loss: 0.7339 - val_accuracy: 0.4436\n",
      "Epoch 8/20\n",
      "1097/1097 [==============================] - 0s 214us/sample - loss: 0.7493 - accuracy: 0.4840 - val_loss: 0.7338 - val_accuracy: 0.4436\n",
      "Epoch 9/20\n",
      "1097/1097 [==============================] - 0s 195us/sample - loss: 0.7364 - accuracy: 0.4868 - val_loss: 0.7338 - val_accuracy: 0.4436\n",
      "Epoch 10/20\n",
      "1097/1097 [==============================] - 0s 224us/sample - loss: 0.7390 - accuracy: 0.4695 - val_loss: 0.7338 - val_accuracy: 0.4436\n",
      "Epoch 11/20\n",
      "1097/1097 [==============================] - 0s 199us/sample - loss: 0.7337 - accuracy: 0.4923 - val_loss: 0.7337 - val_accuracy: 0.4436\n",
      "Epoch 12/20\n",
      "1097/1097 [==============================] - 0s 194us/sample - loss: 0.7509 - accuracy: 0.4749 - val_loss: 0.7337 - val_accuracy: 0.4436\n",
      "Epoch 13/20\n",
      "1097/1097 [==============================] - 0s 200us/sample - loss: 0.7401 - accuracy: 0.4658 - val_loss: 0.7337 - val_accuracy: 0.4436\n",
      "Epoch 14/20\n",
      "1097/1097 [==============================] - 0s 231us/sample - loss: 0.7534 - accuracy: 0.4567 - val_loss: 0.7336 - val_accuracy: 0.4436\n",
      "Epoch 15/20\n",
      "1097/1097 [==============================] - 0s 207us/sample - loss: 0.7400 - accuracy: 0.4758 - val_loss: 0.7336 - val_accuracy: 0.4436\n",
      "Epoch 16/20\n",
      "1097/1097 [==============================] - 0s 195us/sample - loss: 0.7367 - accuracy: 0.4840 - val_loss: 0.7335 - val_accuracy: 0.4436\n",
      "Epoch 17/20\n",
      "1097/1097 [==============================] - 0s 216us/sample - loss: 0.7402 - accuracy: 0.4740 - val_loss: 0.7335 - val_accuracy: 0.4436\n",
      "Epoch 18/20\n",
      "1097/1097 [==============================] - 0s 207us/sample - loss: 0.7510 - accuracy: 0.4558 - val_loss: 0.7335 - val_accuracy: 0.4436\n",
      "Epoch 19/20\n",
      "1097/1097 [==============================] - 0s 203us/sample - loss: 0.7386 - accuracy: 0.4868 - val_loss: 0.7334 - val_accuracy: 0.4436\n",
      "Epoch 20/20\n",
      "1097/1097 [==============================] - 0s 206us/sample - loss: 0.7393 - accuracy: 0.4795 - val_loss: 0.7334 - val_accuracy: 0.4436\n"
     ]
    },
    {
     "data": {
      "text/plain": [
       "<tensorflow.python.keras.callbacks.History at 0x167e64588>"
      ]
     },
     "execution_count": 110,
     "metadata": {},
     "output_type": "execute_result"
    }
   ],
   "source": [
    "model = sandwich_model_1()\n",
    "model.fit(x_train, t_train, validation_data=(x_test, t_test), epochs=20, batch_size=64)"
   ]
  },
  {
   "cell_type": "markdown",
   "metadata": {},
   "source": [
    "### 4-hidden-layer ReLu network with dropout ratio 0.2 for input layer"
   ]
  },
  {
   "cell_type": "markdown",
   "metadata": {},
   "source": [
    "#### Note: Earlier results also invalidated and struck out."
   ]
  },
  {
   "cell_type": "code",
   "execution_count": 111,
   "metadata": {},
   "outputs": [],
   "source": [
    "def relu_model_4hlayers():\n",
    "    return get_model([10] * 4 + [1], ['relu'] * 4 + ['sigmoid'], 'binary_crossentropy', 'Adadelta', ['accuracy'],\n",
    "                     dropout=[0.25] * 4 + [0], input_dropout=0.2)"
   ]
  },
  {
   "cell_type": "code",
   "execution_count": 112,
   "metadata": {},
   "outputs": [
    {
     "name": "stdout",
     "output_type": "stream",
     "text": [
      "[0.49818182 0.39636365 0.32846716 0.66058391 0.44525549]\n",
      "Accuracy: 46.58% (11.23%)\n"
     ]
    }
   ],
   "source": [
    "estimator = KerasClassifier(build_fn=relu_model_4hlayers, epochs=20, batch_size=64, verbose=0)\n",
    "kfold = StratifiedKFold(n_splits=5, shuffle=True)\n",
    "results = cross_val_score(estimator, x.values, t.values, cv=kfold)\n",
    "print(results)\n",
    "print(\"Accuracy: %.2f%% (%.2f%%)\" % (results.mean()*100, results.std()*100))"
   ]
  },
  {
   "cell_type": "code",
   "execution_count": 113,
   "metadata": {},
   "outputs": [
    {
     "name": "stdout",
     "output_type": "stream",
     "text": [
      "Train on 1097 samples, validate on 275 samples\n",
      "Epoch 1/20\n",
      "1097/1097 [==============================] - 8s 7ms/sample - loss: 0.7714 - accuracy: 0.4467 - val_loss: 0.7271 - val_accuracy: 0.4436\n",
      "Epoch 2/20\n",
      "1097/1097 [==============================] - 0s 361us/sample - loss: 0.7737 - accuracy: 0.4439 - val_loss: 0.7270 - val_accuracy: 0.4436\n",
      "Epoch 3/20\n",
      "1097/1097 [==============================] - 0s 232us/sample - loss: 0.7813 - accuracy: 0.4531 - val_loss: 0.7270 - val_accuracy: 0.4436\n",
      "Epoch 4/20\n",
      "1097/1097 [==============================] - 0s 249us/sample - loss: 0.7746 - accuracy: 0.4558 - val_loss: 0.7269 - val_accuracy: 0.4436\n",
      "Epoch 5/20\n",
      "1097/1097 [==============================] - 0s 266us/sample - loss: 0.7682 - accuracy: 0.4448 - val_loss: 0.7269 - val_accuracy: 0.4436\n",
      "Epoch 6/20\n",
      "1097/1097 [==============================] - 0s 400us/sample - loss: 0.7705 - accuracy: 0.4430 - val_loss: 0.7268 - val_accuracy: 0.4436\n",
      "Epoch 7/20\n",
      "1097/1097 [==============================] - 0s 220us/sample - loss: 0.7597 - accuracy: 0.4312 - val_loss: 0.7268 - val_accuracy: 0.4436\n",
      "Epoch 8/20\n",
      "1097/1097 [==============================] - 0s 395us/sample - loss: 0.7747 - accuracy: 0.4549 - val_loss: 0.7267 - val_accuracy: 0.4436\n",
      "Epoch 9/20\n",
      "1097/1097 [==============================] - 1s 646us/sample - loss: 0.7746 - accuracy: 0.4494 - val_loss: 0.7267 - val_accuracy: 0.4436\n",
      "Epoch 10/20\n",
      "1097/1097 [==============================] - 0s 258us/sample - loss: 0.7646 - accuracy: 0.4695 - val_loss: 0.7266 - val_accuracy: 0.4436\n",
      "Epoch 11/20\n",
      "1097/1097 [==============================] - 0s 368us/sample - loss: 0.7777 - accuracy: 0.4439 - val_loss: 0.7266 - val_accuracy: 0.4436\n",
      "Epoch 12/20\n",
      "1097/1097 [==============================] - 0s 312us/sample - loss: 0.7715 - accuracy: 0.4394 - val_loss: 0.7265 - val_accuracy: 0.4436\n",
      "Epoch 13/20\n",
      "1097/1097 [==============================] - 0s 422us/sample - loss: 0.7650 - accuracy: 0.4613 - val_loss: 0.7265 - val_accuracy: 0.4436\n",
      "Epoch 14/20\n",
      "1097/1097 [==============================] - 0s 410us/sample - loss: 0.7764 - accuracy: 0.4448 - val_loss: 0.7264 - val_accuracy: 0.4436\n",
      "Epoch 15/20\n",
      "1097/1097 [==============================] - 0s 316us/sample - loss: 0.7674 - accuracy: 0.4549 - val_loss: 0.7264 - val_accuracy: 0.4436\n",
      "Epoch 16/20\n",
      "1097/1097 [==============================] - 0s 302us/sample - loss: 0.7666 - accuracy: 0.4385 - val_loss: 0.7263 - val_accuracy: 0.4436\n",
      "Epoch 17/20\n",
      "1097/1097 [==============================] - 0s 260us/sample - loss: 0.7815 - accuracy: 0.4366 - val_loss: 0.7263 - val_accuracy: 0.4436\n",
      "Epoch 18/20\n",
      "1097/1097 [==============================] - 0s 331us/sample - loss: 0.7696 - accuracy: 0.4403 - val_loss: 0.7262 - val_accuracy: 0.4436\n",
      "Epoch 19/20\n",
      "1097/1097 [==============================] - 0s 329us/sample - loss: 0.7684 - accuracy: 0.4512 - val_loss: 0.7262 - val_accuracy: 0.4436\n",
      "Epoch 20/20\n",
      "1097/1097 [==============================] - 0s 251us/sample - loss: 0.7702 - accuracy: 0.4448 - val_loss: 0.7262 - val_accuracy: 0.4436\n"
     ]
    },
    {
     "data": {
      "text/plain": [
       "<tensorflow.python.keras.callbacks.History at 0x16d9360f0>"
      ]
     },
     "execution_count": 113,
     "metadata": {},
     "output_type": "execute_result"
    }
   ],
   "source": [
    "model = relu_model_4hlayers()\n",
    "model.fit(x_train, t_train, validation_data=(x_test, t_test), epochs=20, batch_size=64)"
   ]
  },
  {
   "cell_type": "markdown",
   "metadata": {},
   "source": [
    "### \"Sandwich\" model 2: ReLu, sigmoid, ReLu hidden layers"
   ]
  },
  {
   "cell_type": "markdown",
   "metadata": {},
   "source": [
    "#### Note: Earlier results also invalidated and struck out."
   ]
  },
  {
   "cell_type": "code",
   "execution_count": 115,
   "metadata": {},
   "outputs": [],
   "source": [
    "def sandwich_model_2():\n",
    "    return get_model([20, 20, 20, 1], ['relu', 'sigmoid', 'relu', 'sigmoid'], 'binary_crossentropy', 'Adadelta',\n",
    "                     ['accuracy'], dropout=[0.25, 0.25, 0.25, 0], input_dropout=0.2)"
   ]
  },
  {
   "cell_type": "code",
   "execution_count": 121,
   "metadata": {},
   "outputs": [
    {
     "name": "stdout",
     "output_type": "stream",
     "text": [
      "[0.32727271 0.55636364 0.44525549 0.55474454 0.55474454]\n",
      "Accuracy: 48.77% (9.08%)\n"
     ]
    }
   ],
   "source": [
    "estimator = KerasClassifier(build_fn=sandwich_model_2, epochs=20, batch_size=64, verbose=0)\n",
    "kfold = StratifiedKFold(n_splits=5, shuffle=True)\n",
    "results = cross_val_score(estimator, x.values, t.values, cv=kfold)\n",
    "print(results)\n",
    "print(\"Accuracy: %.2f%% (%.2f%%)\" % (results.mean()*100, results.std()*100))"
   ]
  },
  {
   "cell_type": "code",
   "execution_count": 122,
   "metadata": {},
   "outputs": [
    {
     "name": "stdout",
     "output_type": "stream",
     "text": [
      "Train on 1097 samples, validate on 275 samples\n",
      "Epoch 1/20\n",
      "1097/1097 [==============================] - 3s 2ms/sample - loss: 0.7772 - accuracy: 0.4485 - val_loss: 0.7571 - val_accuracy: 0.4436\n",
      "Epoch 2/20\n",
      "1097/1097 [==============================] - 0s 225us/sample - loss: 0.7826 - accuracy: 0.4531 - val_loss: 0.7570 - val_accuracy: 0.4436\n",
      "Epoch 3/20\n",
      "1097/1097 [==============================] - 0s 254us/sample - loss: 0.7839 - accuracy: 0.4521 - val_loss: 0.7568 - val_accuracy: 0.4436\n",
      "Epoch 4/20\n",
      "1097/1097 [==============================] - 0s 231us/sample - loss: 0.7863 - accuracy: 0.4494 - val_loss: 0.7567 - val_accuracy: 0.4436\n",
      "Epoch 5/20\n",
      "1097/1097 [==============================] - 0s 225us/sample - loss: 0.7710 - accuracy: 0.4494 - val_loss: 0.7566 - val_accuracy: 0.4436\n",
      "Epoch 6/20\n",
      "1097/1097 [==============================] - 0s 226us/sample - loss: 0.7813 - accuracy: 0.4503 - val_loss: 0.7564 - val_accuracy: 0.4436\n",
      "Epoch 7/20\n",
      "1097/1097 [==============================] - 0s 212us/sample - loss: 0.7895 - accuracy: 0.4458 - val_loss: 0.7563 - val_accuracy: 0.4436\n",
      "Epoch 8/20\n",
      "1097/1097 [==============================] - 0s 215us/sample - loss: 0.7901 - accuracy: 0.4448 - val_loss: 0.7562 - val_accuracy: 0.4436\n",
      "Epoch 9/20\n",
      "1097/1097 [==============================] - 0s 246us/sample - loss: 0.7840 - accuracy: 0.4467 - val_loss: 0.7560 - val_accuracy: 0.4436\n",
      "Epoch 10/20\n",
      "1097/1097 [==============================] - 0s 226us/sample - loss: 0.7826 - accuracy: 0.4476 - val_loss: 0.7559 - val_accuracy: 0.4436\n",
      "Epoch 11/20\n",
      "1097/1097 [==============================] - 0s 332us/sample - loss: 0.7757 - accuracy: 0.4503 - val_loss: 0.7557 - val_accuracy: 0.4436\n",
      "Epoch 12/20\n",
      "1097/1097 [==============================] - 0s 240us/sample - loss: 0.7832 - accuracy: 0.4476 - val_loss: 0.7556 - val_accuracy: 0.4436\n",
      "Epoch 13/20\n",
      "1097/1097 [==============================] - 0s 332us/sample - loss: 0.7829 - accuracy: 0.4485 - val_loss: 0.7555 - val_accuracy: 0.4436\n",
      "Epoch 14/20\n",
      "1097/1097 [==============================] - 0s 317us/sample - loss: 0.7887 - accuracy: 0.4458 - val_loss: 0.7553 - val_accuracy: 0.4436\n",
      "Epoch 15/20\n",
      "1097/1097 [==============================] - 0s 210us/sample - loss: 0.7787 - accuracy: 0.4512 - val_loss: 0.7552 - val_accuracy: 0.4436\n",
      "Epoch 16/20\n",
      "1097/1097 [==============================] - 0s 214us/sample - loss: 0.7802 - accuracy: 0.4540 - val_loss: 0.7551 - val_accuracy: 0.4436\n",
      "Epoch 17/20\n",
      "1097/1097 [==============================] - 0s 208us/sample - loss: 0.7866 - accuracy: 0.4458 - val_loss: 0.7549 - val_accuracy: 0.4436\n",
      "Epoch 18/20\n",
      "1097/1097 [==============================] - 0s 220us/sample - loss: 0.7778 - accuracy: 0.4549 - val_loss: 0.7548 - val_accuracy: 0.4436\n",
      "Epoch 19/20\n",
      "1097/1097 [==============================] - 0s 239us/sample - loss: 0.7919 - accuracy: 0.4476 - val_loss: 0.7546 - val_accuracy: 0.4436\n",
      "Epoch 20/20\n",
      "1097/1097 [==============================] - 0s 281us/sample - loss: 0.7904 - accuracy: 0.4448 - val_loss: 0.7545 - val_accuracy: 0.4436\n"
     ]
    },
    {
     "data": {
      "text/plain": [
       "<tensorflow.python.keras.callbacks.History at 0x16d503b00>"
      ]
     },
     "execution_count": 122,
     "metadata": {},
     "output_type": "execute_result"
    }
   ],
   "source": [
    "model = sandwich_model_2()\n",
    "model.fit(x_train, t_train, validation_data=(x_test, t_test), epochs=20, batch_size=64)"
   ]
  },
  {
   "cell_type": "markdown",
   "metadata": {},
   "source": [
    "### \"Sandwich\" model 3: 4 alternating ReLu-sigmoid hidden layers"
   ]
  },
  {
   "cell_type": "markdown",
   "metadata": {},
   "source": [
    "#### Note: Earlier results also invalidated and struck out."
   ]
  },
  {
   "cell_type": "code",
   "execution_count": 129,
   "metadata": {},
   "outputs": [],
   "source": [
    "def sandwich_model_3():\n",
    "    return get_model([20] * 4 + [1], ['relu', 'sigmoid', 'relu', 'relu', 'sigmoid'], 'binary_crossentropy',\n",
    "                     'Adadelta', ['accuracy'], dropout=[0.25] * 4 + [0], input_dropout=0.2)"
   ]
  },
  {
   "cell_type": "code",
   "execution_count": 130,
   "metadata": {},
   "outputs": [
    {
     "name": "stdout",
     "output_type": "stream",
     "text": [
      "[0.55636364 0.40363637 0.25547445 0.44525549 0.53284669]\n",
      "Accuracy: 43.87% (10.73%)\n"
     ]
    }
   ],
   "source": [
    "estimator = KerasClassifier(build_fn=sandwich_model_3, epochs=20, batch_size=64, verbose=0)\n",
    "kfold = StratifiedKFold(n_splits=5, shuffle=True)\n",
    "results = cross_val_score(estimator, x.values, t.values, cv=kfold)\n",
    "print(results)\n",
    "print(\"Accuracy: %.2f%% (%.2f%%)\" % (results.mean()*100, results.std()*100))"
   ]
  },
  {
   "cell_type": "code",
   "execution_count": 131,
   "metadata": {},
   "outputs": [
    {
     "name": "stdout",
     "output_type": "stream",
     "text": [
      "Train on 1097 samples, validate on 275 samples\n",
      "Epoch 1/20\n",
      "1097/1097 [==============================] - 4s 4ms/sample - loss: 0.6870 - accuracy: 0.5305 - val_loss: 0.6770 - val_accuracy: 0.5564\n",
      "Epoch 2/20\n",
      "1097/1097 [==============================] - 0s 265us/sample - loss: 0.6884 - accuracy: 0.5406 - val_loss: 0.6770 - val_accuracy: 0.5564\n",
      "Epoch 3/20\n",
      "1097/1097 [==============================] - 0s 292us/sample - loss: 0.6866 - accuracy: 0.5287 - val_loss: 0.6770 - val_accuracy: 0.5564\n",
      "Epoch 4/20\n",
      "1097/1097 [==============================] - 0s 323us/sample - loss: 0.6850 - accuracy: 0.5469 - val_loss: 0.6769 - val_accuracy: 0.5564\n",
      "Epoch 5/20\n",
      "1097/1097 [==============================] - 0s 261us/sample - loss: 0.6856 - accuracy: 0.5169 - val_loss: 0.6769 - val_accuracy: 0.5564\n",
      "Epoch 6/20\n",
      "1097/1097 [==============================] - 0s 289us/sample - loss: 0.6782 - accuracy: 0.5697 - val_loss: 0.6769 - val_accuracy: 0.5564\n",
      "Epoch 7/20\n",
      "1097/1097 [==============================] - 0s 291us/sample - loss: 0.6851 - accuracy: 0.5387 - val_loss: 0.6769 - val_accuracy: 0.5564\n",
      "Epoch 8/20\n",
      "1097/1097 [==============================] - 0s 324us/sample - loss: 0.6837 - accuracy: 0.5296 - val_loss: 0.6769 - val_accuracy: 0.5564\n",
      "Epoch 9/20\n",
      "1097/1097 [==============================] - 1s 481us/sample - loss: 0.6749 - accuracy: 0.5524 - val_loss: 0.6768 - val_accuracy: 0.5564\n",
      "Epoch 10/20\n",
      "1097/1097 [==============================] - 0s 358us/sample - loss: 0.6858 - accuracy: 0.5242 - val_loss: 0.6768 - val_accuracy: 0.5564\n",
      "Epoch 11/20\n",
      "1097/1097 [==============================] - 1s 748us/sample - loss: 0.6786 - accuracy: 0.5497 - val_loss: 0.6768 - val_accuracy: 0.5564\n",
      "Epoch 12/20\n",
      "1097/1097 [==============================] - 1s 484us/sample - loss: 0.6956 - accuracy: 0.5223 - val_loss: 0.6768 - val_accuracy: 0.5564\n",
      "Epoch 13/20\n",
      "1097/1097 [==============================] - 0s 400us/sample - loss: 0.6876 - accuracy: 0.5260 - val_loss: 0.6768 - val_accuracy: 0.5564\n",
      "Epoch 14/20\n",
      "1097/1097 [==============================] - 0s 237us/sample - loss: 0.6821 - accuracy: 0.5588 - val_loss: 0.6768 - val_accuracy: 0.5564\n",
      "Epoch 15/20\n",
      "1097/1097 [==============================] - 0s 279us/sample - loss: 0.6840 - accuracy: 0.5415 - val_loss: 0.6767 - val_accuracy: 0.5564\n",
      "Epoch 16/20\n",
      "1097/1097 [==============================] - 0s 230us/sample - loss: 0.6886 - accuracy: 0.5333 - val_loss: 0.6767 - val_accuracy: 0.5564\n",
      "Epoch 17/20\n",
      "1097/1097 [==============================] - 0s 224us/sample - loss: 0.6824 - accuracy: 0.5634 - val_loss: 0.6767 - val_accuracy: 0.5564\n",
      "Epoch 18/20\n",
      "1097/1097 [==============================] - 0s 250us/sample - loss: 0.6818 - accuracy: 0.5688 - val_loss: 0.6767 - val_accuracy: 0.5564\n",
      "Epoch 19/20\n",
      "1097/1097 [==============================] - 0s 342us/sample - loss: 0.6771 - accuracy: 0.5488 - val_loss: 0.6767 - val_accuracy: 0.5564\n",
      "Epoch 20/20\n",
      "1097/1097 [==============================] - 1s 635us/sample - loss: 0.6820 - accuracy: 0.5561 - val_loss: 0.6767 - val_accuracy: 0.5564\n"
     ]
    },
    {
     "data": {
      "text/plain": [
       "<tensorflow.python.keras.callbacks.History at 0x1766f3780>"
      ]
     },
     "execution_count": 131,
     "metadata": {},
     "output_type": "execute_result"
    }
   ],
   "source": [
    "model = sandwich_model_3()\n",
    "model.fit(x_train, t_train, validation_data=(x_test, t_test), epochs=20, batch_size=64)"
   ]
  },
  {
   "cell_type": "markdown",
   "metadata": {},
   "source": [
    "## With other optimisers"
   ]
  },
  {
   "cell_type": "markdown",
   "metadata": {},
   "source": [
    "**Note:** Still here for legacy reasons, i.e. its precedents looked promising when this notebook was first created. It does do pretty well, but as we will see, it's not optimal in terms of performance as well as architecture."
   ]
  },
  {
   "cell_type": "code",
   "execution_count": 133,
   "metadata": {},
   "outputs": [],
   "source": [
    "def sandwich_model_rmsprop():\n",
    "    return get_model([20] * 4 + [1], ['relu', 'sigmoid', 'relu', 'relu', 'sigmoid'], 'binary_crossentropy',\n",
    "                     'RMSprop', ['accuracy'], dropout=[0.25] * 4 + [0], input_dropout=0.2)"
   ]
  },
  {
   "cell_type": "code",
   "execution_count": 140,
   "metadata": {},
   "outputs": [
    {
     "name": "stdout",
     "output_type": "stream",
     "text": [
      "[0.98545456 0.99272728 0.95255476 0.94525546 0.96715331]\n",
      "Accuracy: 96.86% (1.83%)\n"
     ]
    }
   ],
   "source": [
    "estimator = KerasClassifier(build_fn=sandwich_model_rmsprop, epochs=20, batch_size=64, verbose=0)\n",
    "kfold = StratifiedKFold(n_splits=5, shuffle=True)\n",
    "results = cross_val_score(estimator, x.values, t.values, cv=kfold)\n",
    "print(results)\n",
    "print(\"Accuracy: %.2f%% (%.2f%%)\" % (results.mean()*100, results.std()*100))"
   ]
  },
  {
   "cell_type": "code",
   "execution_count": 141,
   "metadata": {},
   "outputs": [
    {
     "name": "stdout",
     "output_type": "stream",
     "text": [
      "Train on 1097 samples, validate on 275 samples\n",
      "Epoch 1/20\n",
      "1097/1097 [==============================] - 5s 4ms/sample - loss: 0.6885 - accuracy: 0.5314 - val_loss: 0.6633 - val_accuracy: 0.5564\n",
      "Epoch 2/20\n",
      "1097/1097 [==============================] - 0s 343us/sample - loss: 0.6847 - accuracy: 0.5333 - val_loss: 0.6467 - val_accuracy: 0.5564\n",
      "Epoch 3/20\n",
      "1097/1097 [==============================] - 0s 453us/sample - loss: 0.6656 - accuracy: 0.5907 - val_loss: 0.6259 - val_accuracy: 0.6073\n",
      "Epoch 4/20\n",
      "1097/1097 [==============================] - 0s 289us/sample - loss: 0.6572 - accuracy: 0.5943 - val_loss: 0.5934 - val_accuracy: 0.8145\n",
      "Epoch 5/20\n",
      "1097/1097 [==============================] - 0s 284us/sample - loss: 0.6343 - accuracy: 0.6272 - val_loss: 0.5541 - val_accuracy: 0.8764\n",
      "Epoch 6/20\n",
      "1097/1097 [==============================] - 0s 440us/sample - loss: 0.6048 - accuracy: 0.6609 - val_loss: 0.5124 - val_accuracy: 0.8909\n",
      "Epoch 7/20\n",
      "1097/1097 [==============================] - 1s 548us/sample - loss: 0.5809 - accuracy: 0.7056 - val_loss: 0.4659 - val_accuracy: 0.9091\n",
      "Epoch 8/20\n",
      "1097/1097 [==============================] - 0s 362us/sample - loss: 0.5491 - accuracy: 0.7238 - val_loss: 0.4081 - val_accuracy: 0.9236\n",
      "Epoch 9/20\n",
      "1097/1097 [==============================] - 1s 475us/sample - loss: 0.5154 - accuracy: 0.7539 - val_loss: 0.3559 - val_accuracy: 0.9200\n",
      "Epoch 10/20\n",
      "1097/1097 [==============================] - 0s 411us/sample - loss: 0.4826 - accuracy: 0.7758 - val_loss: 0.3129 - val_accuracy: 0.9273\n",
      "Epoch 11/20\n",
      "1097/1097 [==============================] - 1s 475us/sample - loss: 0.4565 - accuracy: 0.7858 - val_loss: 0.2809 - val_accuracy: 0.9382\n",
      "Epoch 12/20\n",
      "1097/1097 [==============================] - 1s 536us/sample - loss: 0.4387 - accuracy: 0.7912 - val_loss: 0.2597 - val_accuracy: 0.9200\n",
      "Epoch 13/20\n",
      "1097/1097 [==============================] - 0s 406us/sample - loss: 0.4343 - accuracy: 0.7976 - val_loss: 0.2377 - val_accuracy: 0.9309\n",
      "Epoch 14/20\n",
      "1097/1097 [==============================] - 0s 344us/sample - loss: 0.3748 - accuracy: 0.8514 - val_loss: 0.2150 - val_accuracy: 0.9236\n",
      "Epoch 15/20\n",
      "1097/1097 [==============================] - 0s 415us/sample - loss: 0.3899 - accuracy: 0.8286 - val_loss: 0.2003 - val_accuracy: 0.9236\n",
      "Epoch 16/20\n",
      "1097/1097 [==============================] - 0s 311us/sample - loss: 0.3497 - accuracy: 0.8514 - val_loss: 0.1825 - val_accuracy: 0.9345\n",
      "Epoch 17/20\n",
      "1097/1097 [==============================] - 0s 394us/sample - loss: 0.3814 - accuracy: 0.8459 - val_loss: 0.1759 - val_accuracy: 0.9345\n",
      "Epoch 18/20\n",
      "1097/1097 [==============================] - 0s 344us/sample - loss: 0.3644 - accuracy: 0.8523 - val_loss: 0.1740 - val_accuracy: 0.9382\n",
      "Epoch 19/20\n",
      "1097/1097 [==============================] - 0s 334us/sample - loss: 0.3266 - accuracy: 0.8596 - val_loss: 0.1746 - val_accuracy: 0.9309\n",
      "Epoch 20/20\n",
      "1097/1097 [==============================] - 0s 364us/sample - loss: 0.3498 - accuracy: 0.8605 - val_loss: 0.1649 - val_accuracy: 0.9382\n"
     ]
    },
    {
     "data": {
      "text/plain": [
       "<tensorflow.python.keras.callbacks.History at 0x17d9e4208>"
      ]
     },
     "execution_count": 141,
     "metadata": {},
     "output_type": "execute_result"
    }
   ],
   "source": [
    "model = sandwich_model_rmsprop()\n",
    "model.fit(x_train, t_train, validation_data=(x_test, t_test), epochs=20, batch_size=64)"
   ]
  },
  {
   "cell_type": "markdown",
   "metadata": {},
   "source": [
    "**Remarks: I CAN'T BELIEVE THIS. **For this dataset, of all hyperparameters varied, optimiser choice has had the largest impact by far on accuracy. But I'm glad I can call it a day... for now (edited 5 June)."
   ]
  },
  {
   "cell_type": "markdown",
   "metadata": {},
   "source": [
    "### With normalised data"
   ]
  },
  {
   "cell_type": "markdown",
   "metadata": {},
   "source": [
    "Turns out I normalised the data but forgot to use it in the cross-validation harness. Thankfully, the features seem to be on very similar scales, so that may not be an issue at all. Regardless, I suppose I should repeat the last exercise with normalised data (and use raw data instead for the train/test split) to at least see how different the results may be."
   ]
  },
  {
   "cell_type": "code",
   "execution_count": 147,
   "metadata": {},
   "outputs": [
    {
     "name": "stdout",
     "output_type": "stream",
     "text": [
      "[0.93818182 0.9309091  0.90875912 0.95255476 0.9817518 ]\n",
      "Accuracy: 94.24% (2.42%)\n"
     ]
    }
   ],
   "source": [
    "estimator = KerasClassifier(build_fn=sandwich_model_rmsprop, epochs=20, batch_size=64, verbose=0)\n",
    "kfold = StratifiedKFold(n_splits=5, shuffle=True)\n",
    "results = cross_val_score(estimator, StandardScaler().fit_transform(x), t.values, cv=kfold)\n",
    "print(results)\n",
    "print(\"Accuracy: %.2f%% (%.2f%%)\" % (results.mean()*100, results.std()*100))"
   ]
  },
  {
   "cell_type": "markdown",
   "metadata": {},
   "source": [
    "Since I was so economical in allocating/naming variables, I'll be lazy and use a different split instead of computing the raw data from the standardised..."
   ]
  },
  {
   "cell_type": "code",
   "execution_count": 143,
   "metadata": {},
   "outputs": [],
   "source": [
    "x_train, x_test, t_train, t_test = train_test_split(x, t, test_size=0.2, random_state=42, stratify=t)"
   ]
  },
  {
   "cell_type": "code",
   "execution_count": 148,
   "metadata": {},
   "outputs": [
    {
     "name": "stdout",
     "output_type": "stream",
     "text": [
      "Train on 1097 samples, validate on 275 samples\n",
      "Epoch 1/20\n",
      "1097/1097 [==============================] - 6s 5ms/sample - loss: 0.6743 - accuracy: 0.5825 - val_loss: 0.6246 - val_accuracy: 0.7600\n",
      "Epoch 2/20\n",
      "1097/1097 [==============================] - 0s 374us/sample - loss: 0.6375 - accuracy: 0.6563 - val_loss: 0.5826 - val_accuracy: 0.7709\n",
      "Epoch 3/20\n",
      "1097/1097 [==============================] - 0s 354us/sample - loss: 0.6161 - accuracy: 0.6563 - val_loss: 0.5297 - val_accuracy: 0.7964\n",
      "Epoch 4/20\n",
      "1097/1097 [==============================] - 1s 491us/sample - loss: 0.5803 - accuracy: 0.6892 - val_loss: 0.4702 - val_accuracy: 0.8364\n",
      "Epoch 5/20\n",
      "1097/1097 [==============================] - 0s 282us/sample - loss: 0.5305 - accuracy: 0.7566 - val_loss: 0.3879 - val_accuracy: 0.9236\n",
      "Epoch 6/20\n",
      "1097/1097 [==============================] - 0s 240us/sample - loss: 0.5024 - accuracy: 0.7639 - val_loss: 0.3238 - val_accuracy: 0.9491\n",
      "Epoch 7/20\n",
      "1097/1097 [==============================] - 0s 240us/sample - loss: 0.4849 - accuracy: 0.7876 - val_loss: 0.2725 - val_accuracy: 0.9600\n",
      "Epoch 8/20\n",
      "1097/1097 [==============================] - 0s 288us/sample - loss: 0.4412 - accuracy: 0.8140 - val_loss: 0.2239 - val_accuracy: 0.9636\n",
      "Epoch 9/20\n",
      "1097/1097 [==============================] - 0s 242us/sample - loss: 0.4093 - accuracy: 0.8332 - val_loss: 0.1971 - val_accuracy: 0.9600\n",
      "Epoch 10/20\n",
      "1097/1097 [==============================] - 0s 355us/sample - loss: 0.3780 - accuracy: 0.8450 - val_loss: 0.1662 - val_accuracy: 0.9636\n",
      "Epoch 11/20\n",
      "1097/1097 [==============================] - 0s 386us/sample - loss: 0.3955 - accuracy: 0.8350 - val_loss: 0.1560 - val_accuracy: 0.9782\n",
      "Epoch 12/20\n",
      "1097/1097 [==============================] - 0s 350us/sample - loss: 0.3746 - accuracy: 0.8523 - val_loss: 0.1495 - val_accuracy: 0.9527\n",
      "Epoch 13/20\n",
      "1097/1097 [==============================] - 0s 307us/sample - loss: 0.3590 - accuracy: 0.8551 - val_loss: 0.1371 - val_accuracy: 0.9527\n",
      "Epoch 14/20\n",
      "1097/1097 [==============================] - 1s 490us/sample - loss: 0.3518 - accuracy: 0.8532 - val_loss: 0.1313 - val_accuracy: 0.9600\n",
      "Epoch 15/20\n",
      "1097/1097 [==============================] - 0s 427us/sample - loss: 0.3473 - accuracy: 0.8614 - val_loss: 0.1270 - val_accuracy: 0.9600\n",
      "Epoch 16/20\n",
      "1097/1097 [==============================] - 1s 471us/sample - loss: 0.3515 - accuracy: 0.8642 - val_loss: 0.1205 - val_accuracy: 0.9673\n",
      "Epoch 17/20\n",
      "1097/1097 [==============================] - 1s 504us/sample - loss: 0.3209 - accuracy: 0.8715 - val_loss: 0.1190 - val_accuracy: 0.9673\n",
      "Epoch 18/20\n",
      "1097/1097 [==============================] - 0s 331us/sample - loss: 0.3261 - accuracy: 0.8733 - val_loss: 0.1282 - val_accuracy: 0.9527\n",
      "Epoch 19/20\n",
      "1097/1097 [==============================] - 0s 282us/sample - loss: 0.3268 - accuracy: 0.8605 - val_loss: 0.1219 - val_accuracy: 0.9600\n",
      "Epoch 20/20\n",
      "1097/1097 [==============================] - 0s 448us/sample - loss: 0.3316 - accuracy: 0.8551 - val_loss: 0.1147 - val_accuracy: 0.9673\n"
     ]
    },
    {
     "data": {
      "text/plain": [
       "<tensorflow.python.keras.callbacks.History at 0x1889b7080>"
      ]
     },
     "execution_count": 148,
     "metadata": {},
     "output_type": "execute_result"
    }
   ],
   "source": [
    "model = sandwich_model_rmsprop()\n",
    "model.fit(x_train.values, t_train.values, validation_data=(x_test.values, t_test.values), epochs=20, batch_size=64)"
   ]
  },
  {
   "cell_type": "markdown",
   "metadata": {},
   "source": [
    "**Remarks:** Interestingly, accuracy is consistently lower using normalised data for training, evaluated using 5-fold CV. When I was starting on this assignment, I didn't think that would be the case, since normalisation is merely a linear transformation of each feature. However, as I realised after the last training runs, since the features are transformed only _individually_, that could distort the _joint_ distributions of the feature values, perhaps resulting in a loss of valuable information that would explain this behaviour."
   ]
  },
  {
   "cell_type": "markdown",
   "metadata": {},
   "source": [
    "## Continuing: all models from here on use RMSprop for optimisation"
   ]
  },
  {
   "cell_type": "markdown",
   "metadata": {},
   "source": [
    "#### Reallocating train/test split data"
   ]
  },
  {
   "cell_type": "code",
   "execution_count": 157,
   "metadata": {},
   "outputs": [],
   "source": [
    "x_train, x_test, t_train, t_test = train_test_split(x, t, test_size=0.2, random_state=42, stratify=t)"
   ]
  },
  {
   "cell_type": "code",
   "execution_count": 158,
   "metadata": {},
   "outputs": [],
   "source": [
    "scaler = StandardScaler()\n",
    "x_train = scaler.fit_transform(x_train)\n",
    "x_test = scaler.fit_transform(x_test)"
   ]
  },
  {
   "cell_type": "code",
   "execution_count": 159,
   "metadata": {},
   "outputs": [],
   "source": [
    "t_train, t_test = t_train.values, t_test.values"
   ]
  },
  {
   "cell_type": "markdown",
   "metadata": {},
   "source": [
    "### Baseline model"
   ]
  },
  {
   "cell_type": "code",
   "execution_count": 160,
   "metadata": {},
   "outputs": [],
   "source": [
    "def basic_rmsprop_model():\n",
    "    return get_model([10, 10, 1], ['sigmoid'] * 3, 'binary_crossentropy', 'RMSprop', ['accuracy'])"
   ]
  },
  {
   "cell_type": "code",
   "execution_count": 162,
   "metadata": {},
   "outputs": [
    {
     "name": "stdout",
     "output_type": "stream",
     "text": [
      "[0.97818184 0.82181817 0.93430656 0.85036498 0.93065691]\n",
      "Accuracy: 90.31% (5.79%)\n"
     ]
    }
   ],
   "source": [
    "estimator = KerasClassifier(build_fn=basic_rmsprop_model, epochs=20, batch_size=64, verbose=0)\n",
    "kfold = StratifiedKFold(n_splits=5, shuffle=True)\n",
    "results = cross_val_score(estimator, x.values, t.values, cv=kfold)\n",
    "print(results)\n",
    "print(\"Accuracy: %.2f%% (%.2f%%)\" % (results.mean()*100, results.std()*100))"
   ]
  },
  {
   "cell_type": "code",
   "execution_count": 164,
   "metadata": {},
   "outputs": [
    {
     "name": "stdout",
     "output_type": "stream",
     "text": [
      "Train on 1097 samples, validate on 275 samples\n",
      "Epoch 1/20\n",
      "1097/1097 [==============================] - 2s 2ms/sample - loss: 0.7162 - accuracy: 0.5552 - val_loss: 0.6954 - val_accuracy: 0.5564\n",
      "Epoch 2/20\n",
      "1097/1097 [==============================] - 0s 108us/sample - loss: 0.6889 - accuracy: 0.5552 - val_loss: 0.6783 - val_accuracy: 0.5564\n",
      "Epoch 3/20\n",
      "1097/1097 [==============================] - 0s 107us/sample - loss: 0.6737 - accuracy: 0.5552 - val_loss: 0.6647 - val_accuracy: 0.5564\n",
      "Epoch 4/20\n",
      "1097/1097 [==============================] - 0s 104us/sample - loss: 0.6611 - accuracy: 0.5552 - val_loss: 0.6535 - val_accuracy: 0.5564\n",
      "Epoch 5/20\n",
      "1097/1097 [==============================] - 0s 107us/sample - loss: 0.6513 - accuracy: 0.5552 - val_loss: 0.6444 - val_accuracy: 0.5564\n",
      "Epoch 6/20\n",
      "1097/1097 [==============================] - 0s 146us/sample - loss: 0.6427 - accuracy: 0.5752 - val_loss: 0.6363 - val_accuracy: 0.6000\n",
      "Epoch 7/20\n",
      "1097/1097 [==============================] - 0s 123us/sample - loss: 0.6342 - accuracy: 0.6299 - val_loss: 0.6270 - val_accuracy: 0.6400\n",
      "Epoch 8/20\n",
      "1097/1097 [==============================] - 0s 113us/sample - loss: 0.6251 - accuracy: 0.6691 - val_loss: 0.6175 - val_accuracy: 0.6727\n",
      "Epoch 9/20\n",
      "1097/1097 [==============================] - 0s 112us/sample - loss: 0.6157 - accuracy: 0.6755 - val_loss: 0.6083 - val_accuracy: 0.7345\n",
      "Epoch 10/20\n",
      "1097/1097 [==============================] - 0s 119us/sample - loss: 0.6067 - accuracy: 0.7384 - val_loss: 0.5986 - val_accuracy: 0.7673\n",
      "Epoch 11/20\n",
      "1097/1097 [==============================] - 0s 119us/sample - loss: 0.5970 - accuracy: 0.7657 - val_loss: 0.5882 - val_accuracy: 0.7782\n",
      "Epoch 12/20\n",
      "1097/1097 [==============================] - 0s 112us/sample - loss: 0.5864 - accuracy: 0.7803 - val_loss: 0.5774 - val_accuracy: 0.7964\n",
      "Epoch 13/20\n",
      "1097/1097 [==============================] - 0s 120us/sample - loss: 0.5753 - accuracy: 0.7894 - val_loss: 0.5651 - val_accuracy: 0.8327\n",
      "Epoch 14/20\n",
      "1097/1097 [==============================] - 0s 159us/sample - loss: 0.5633 - accuracy: 0.8004 - val_loss: 0.5528 - val_accuracy: 0.8327\n",
      "Epoch 15/20\n",
      "1097/1097 [==============================] - 0s 112us/sample - loss: 0.5508 - accuracy: 0.8067 - val_loss: 0.5403 - val_accuracy: 0.8473\n",
      "Epoch 16/20\n",
      "1097/1097 [==============================] - 0s 119us/sample - loss: 0.5386 - accuracy: 0.8159 - val_loss: 0.5280 - val_accuracy: 0.8436\n",
      "Epoch 17/20\n",
      "1097/1097 [==============================] - 0s 113us/sample - loss: 0.5259 - accuracy: 0.8250 - val_loss: 0.5140 - val_accuracy: 0.8509\n",
      "Epoch 18/20\n",
      "1097/1097 [==============================] - 0s 110us/sample - loss: 0.5119 - accuracy: 0.8377 - val_loss: 0.5003 - val_accuracy: 0.8545\n",
      "Epoch 19/20\n",
      "1097/1097 [==============================] - 0s 118us/sample - loss: 0.4983 - accuracy: 0.8423 - val_loss: 0.4861 - val_accuracy: 0.8545\n",
      "Epoch 20/20\n",
      "1097/1097 [==============================] - 0s 125us/sample - loss: 0.4840 - accuracy: 0.8569 - val_loss: 0.4718 - val_accuracy: 0.8545\n"
     ]
    },
    {
     "data": {
      "text/plain": [
       "<tensorflow.python.keras.callbacks.History at 0x18af82d68>"
      ]
     },
     "execution_count": 164,
     "metadata": {},
     "output_type": "execute_result"
    }
   ],
   "source": [
    "model = basic_rmsprop_model()\n",
    "model.fit(x_train, t_train, validation_data=(x_test, t_test), epochs=20, batch_size=64)"
   ]
  },
  {
   "cell_type": "markdown",
   "metadata": {},
   "source": [
    "### Baseline (2-hidden-layer) model with ReLu hidden activations"
   ]
  },
  {
   "cell_type": "code",
   "execution_count": 165,
   "metadata": {},
   "outputs": [],
   "source": [
    "def basic_relu_rmsprop_model():\n",
    "    return get_model([10, 10, 1], ['relu', 'relu', 'sigmoid'], 'binary_crossentropy', 'RMSprop', ['accuracy'])"
   ]
  },
  {
   "cell_type": "code",
   "execution_count": 54,
   "metadata": {},
   "outputs": [
    {
     "name": "stdout",
     "output_type": "stream",
     "text": [
      "[1.         0.98909092 1.         1.         1.        ]\n",
      "Accuracy: 99.78% (0.44%)\n"
     ]
    }
   ],
   "source": [
    "estimator = KerasClassifier(build_fn=basic_relu_rmsprop_model, epochs=20, batch_size=64, verbose=0)\n",
    "kfold = StratifiedKFold(n_splits=5, shuffle=True)\n",
    "results = cross_val_score(estimator, x.values, t.values, cv=kfold)\n",
    "print(results)\n",
    "print(\"Accuracy: %.2f%% (%.2f%%)\" % (results.mean()*100, results.std()*100))"
   ]
  },
  {
   "cell_type": "code",
   "execution_count": 55,
   "metadata": {},
   "outputs": [
    {
     "name": "stdout",
     "output_type": "stream",
     "text": [
      "Train on 1097 samples, validate on 275 samples\n",
      "Epoch 1/20\n",
      "1097/1097 [==============================] - 2s 1ms/sample - loss: 0.6788 - accuracy: 0.6126 - val_loss: 0.6482 - val_accuracy: 0.7491\n",
      "Epoch 2/20\n",
      "1097/1097 [==============================] - 0s 173us/sample - loss: 0.6164 - accuracy: 0.8551 - val_loss: 0.5867 - val_accuracy: 0.8800\n",
      "Epoch 3/20\n",
      "1097/1097 [==============================] - 0s 191us/sample - loss: 0.5521 - accuracy: 0.8915 - val_loss: 0.5182 - val_accuracy: 0.9018\n",
      "Epoch 4/20\n",
      "1097/1097 [==============================] - 0s 167us/sample - loss: 0.4818 - accuracy: 0.9280 - val_loss: 0.4446 - val_accuracy: 0.9127\n",
      "Epoch 5/20\n",
      "1097/1097 [==============================] - 0s 175us/sample - loss: 0.4107 - accuracy: 0.9380 - val_loss: 0.3734 - val_accuracy: 0.9418\n",
      "Epoch 6/20\n",
      "1097/1097 [==============================] - 0s 185us/sample - loss: 0.3407 - accuracy: 0.9590 - val_loss: 0.3031 - val_accuracy: 0.9673\n",
      "Epoch 7/20\n",
      "1097/1097 [==============================] - 0s 313us/sample - loss: 0.2745 - accuracy: 0.9626 - val_loss: 0.2384 - val_accuracy: 0.9709\n",
      "Epoch 8/20\n",
      "1097/1097 [==============================] - 0s 145us/sample - loss: 0.2158 - accuracy: 0.9663 - val_loss: 0.1849 - val_accuracy: 0.9745\n",
      "Epoch 9/20\n",
      "1097/1097 [==============================] - 0s 145us/sample - loss: 0.1672 - accuracy: 0.9717 - val_loss: 0.1430 - val_accuracy: 0.9709\n",
      "Epoch 10/20\n",
      "1097/1097 [==============================] - 0s 145us/sample - loss: 0.1296 - accuracy: 0.9763 - val_loss: 0.1122 - val_accuracy: 0.9745\n",
      "Epoch 11/20\n",
      "1097/1097 [==============================] - 0s 141us/sample - loss: 0.1003 - accuracy: 0.9772 - val_loss: 0.0884 - val_accuracy: 0.9745\n",
      "Epoch 12/20\n",
      "1097/1097 [==============================] - 0s 142us/sample - loss: 0.0792 - accuracy: 0.9772 - val_loss: 0.0711 - val_accuracy: 0.9745\n",
      "Epoch 13/20\n",
      "1097/1097 [==============================] - 0s 141us/sample - loss: 0.0648 - accuracy: 0.9772 - val_loss: 0.0580 - val_accuracy: 0.9818\n",
      "Epoch 14/20\n",
      "1097/1097 [==============================] - 0s 175us/sample - loss: 0.0543 - accuracy: 0.9818 - val_loss: 0.0499 - val_accuracy: 0.9855\n",
      "Epoch 15/20\n",
      "1097/1097 [==============================] - 0s 153us/sample - loss: 0.0468 - accuracy: 0.9854 - val_loss: 0.0440 - val_accuracy: 0.9855\n",
      "Epoch 16/20\n",
      "1097/1097 [==============================] - 0s 146us/sample - loss: 0.0408 - accuracy: 0.9881 - val_loss: 0.0385 - val_accuracy: 0.9855\n",
      "Epoch 17/20\n",
      "1097/1097 [==============================] - 0s 147us/sample - loss: 0.0359 - accuracy: 0.9891 - val_loss: 0.0336 - val_accuracy: 0.9891\n",
      "Epoch 18/20\n",
      "1097/1097 [==============================] - 0s 142us/sample - loss: 0.0317 - accuracy: 0.9936 - val_loss: 0.0307 - val_accuracy: 0.9891\n",
      "Epoch 19/20\n",
      "1097/1097 [==============================] - 0s 145us/sample - loss: 0.0284 - accuracy: 0.9927 - val_loss: 0.0271 - val_accuracy: 0.9927\n",
      "Epoch 20/20\n",
      "1097/1097 [==============================] - 0s 150us/sample - loss: 0.0254 - accuracy: 0.9936 - val_loss: 0.0242 - val_accuracy: 0.9927\n"
     ]
    },
    {
     "data": {
      "text/plain": [
       "<tensorflow.python.keras.callbacks.History at 0x153924a90>"
      ]
     },
     "execution_count": 55,
     "metadata": {},
     "output_type": "execute_result"
    }
   ],
   "source": [
    "model = relu_test_model()\n",
    "model.fit(x_train, t_train, validation_data=(x_test, t_test), epochs=20)"
   ]
  },
  {
   "cell_type": "markdown",
   "metadata": {},
   "source": [
    "**Remarks:** Using ReLu instead of sigmoid activation in the baseline (2 10-unit hidden layer network) model results in consistently higher accuracy."
   ]
  },
  {
   "cell_type": "markdown",
   "metadata": {},
   "source": [
    "### Single ReLu-activation hidden layer model"
   ]
  },
  {
   "cell_type": "code",
   "execution_count": 184,
   "metadata": {},
   "outputs": [],
   "source": [
    "def relu_1layer_rmsprop_model():\n",
    "    return get_model([10, 1], ['relu', 'sigmoid'], 'binary_crossentropy', 'RMSprop', ['accuracy'])"
   ]
  },
  {
   "cell_type": "code",
   "execution_count": 172,
   "metadata": {},
   "outputs": [
    {
     "name": "stdout",
     "output_type": "stream",
     "text": [
      "[0.97090912 0.97818184 0.99270076 0.99270076 0.93795621]\n",
      "Accuracy: 97.45% (2.01%)\n"
     ]
    }
   ],
   "source": [
    "estimator = KerasClassifier(build_fn=relu_1layer_rmsprop_model, epochs=20, batch_size=64, verbose=0)\n",
    "kfold = StratifiedKFold(n_splits=5, shuffle=True)\n",
    "results = cross_val_score(estimator, x.values, t.values, cv=kfold)\n",
    "print(results)\n",
    "print(\"Accuracy: %.2f%% (%.2f%%)\" % (results.mean()*100, results.std()*100))"
   ]
  },
  {
   "cell_type": "code",
   "execution_count": 174,
   "metadata": {},
   "outputs": [
    {
     "name": "stdout",
     "output_type": "stream",
     "text": [
      "Train on 1097 samples, validate on 275 samples\n",
      "Epoch 1/20\n",
      "1097/1097 [==============================] - 2s 1ms/sample - loss: 0.6848 - accuracy: 0.5333 - val_loss: 0.6583 - val_accuracy: 0.5600\n",
      "Epoch 2/20\n",
      "1097/1097 [==============================] - 0s 144us/sample - loss: 0.6357 - accuracy: 0.5998 - val_loss: 0.6142 - val_accuracy: 0.6582\n",
      "Epoch 3/20\n",
      "1097/1097 [==============================] - 0s 147us/sample - loss: 0.5937 - accuracy: 0.7129 - val_loss: 0.5735 - val_accuracy: 0.7273\n",
      "Epoch 4/20\n",
      "1097/1097 [==============================] - 0s 185us/sample - loss: 0.5547 - accuracy: 0.7985 - val_loss: 0.5362 - val_accuracy: 0.8545\n",
      "Epoch 5/20\n",
      "1097/1097 [==============================] - 0s 154us/sample - loss: 0.5169 - accuracy: 0.8541 - val_loss: 0.4975 - val_accuracy: 0.8909\n",
      "Epoch 6/20\n",
      "1097/1097 [==============================] - 0s 145us/sample - loss: 0.4786 - accuracy: 0.8788 - val_loss: 0.4600 - val_accuracy: 0.9164\n",
      "Epoch 7/20\n",
      "1097/1097 [==============================] - 0s 157us/sample - loss: 0.4417 - accuracy: 0.8915 - val_loss: 0.4237 - val_accuracy: 0.9164\n",
      "Epoch 8/20\n",
      "1097/1097 [==============================] - 0s 149us/sample - loss: 0.4058 - accuracy: 0.8997 - val_loss: 0.3887 - val_accuracy: 0.9200\n",
      "Epoch 9/20\n",
      "1097/1097 [==============================] - 0s 151us/sample - loss: 0.3707 - accuracy: 0.9043 - val_loss: 0.3545 - val_accuracy: 0.9236\n",
      "Epoch 10/20\n",
      "1097/1097 [==============================] - 0s 161us/sample - loss: 0.3361 - accuracy: 0.9225 - val_loss: 0.3215 - val_accuracy: 0.9345\n",
      "Epoch 11/20\n",
      "1097/1097 [==============================] - 0s 212us/sample - loss: 0.3035 - accuracy: 0.9307 - val_loss: 0.2897 - val_accuracy: 0.9418\n",
      "Epoch 12/20\n",
      "1097/1097 [==============================] - 0s 168us/sample - loss: 0.2725 - accuracy: 0.9380 - val_loss: 0.2609 - val_accuracy: 0.9382\n",
      "Epoch 13/20\n",
      "1097/1097 [==============================] - 0s 155us/sample - loss: 0.2444 - accuracy: 0.9435 - val_loss: 0.2343 - val_accuracy: 0.9382\n",
      "Epoch 14/20\n",
      "1097/1097 [==============================] - 0s 152us/sample - loss: 0.2197 - accuracy: 0.9444 - val_loss: 0.2112 - val_accuracy: 0.9418\n",
      "Epoch 15/20\n",
      "1097/1097 [==============================] - 0s 165us/sample - loss: 0.1978 - accuracy: 0.9490 - val_loss: 0.1902 - val_accuracy: 0.9491\n",
      "Epoch 16/20\n",
      "1097/1097 [==============================] - 0s 166us/sample - loss: 0.1777 - accuracy: 0.9517 - val_loss: 0.1711 - val_accuracy: 0.9527\n",
      "Epoch 17/20\n",
      "1097/1097 [==============================] - 0s 160us/sample - loss: 0.1599 - accuracy: 0.9553 - val_loss: 0.1550 - val_accuracy: 0.9600\n",
      "Epoch 18/20\n",
      "1097/1097 [==============================] - 0s 156us/sample - loss: 0.1443 - accuracy: 0.9581 - val_loss: 0.1405 - val_accuracy: 0.9600\n",
      "Epoch 19/20\n",
      "1097/1097 [==============================] - 0s 168us/sample - loss: 0.1316 - accuracy: 0.9635 - val_loss: 0.1285 - val_accuracy: 0.9600\n",
      "Epoch 20/20\n",
      "1097/1097 [==============================] - 0s 172us/sample - loss: 0.1199 - accuracy: 0.9644 - val_loss: 0.1170 - val_accuracy: 0.9600\n"
     ]
    },
    {
     "data": {
      "text/plain": [
       "<tensorflow.python.keras.callbacks.History at 0x15c7cd160>"
      ]
     },
     "execution_count": 174,
     "metadata": {},
     "output_type": "execute_result"
    }
   ],
   "source": [
    "model = relu_1layer_rmsprop_model()\n",
    "model.fit(x_train, t_train, validation_data=(x_test, t_test), epochs=20)"
   ]
  },
  {
   "cell_type": "markdown",
   "metadata": {},
   "source": [
    "**Remarks:** Performance is consistently slightly lower than that of the same network with 1 more 10-unit hidden layer. It appears that the network learns better (or at least faster) with another layer. However, might dropout improve performance further, in this network or with 2 hidden layers?"
   ]
  },
  {
   "cell_type": "markdown",
   "metadata": {},
   "source": [
    "### Single ReLu-activation hidden layer model with dropout"
   ]
  },
  {
   "cell_type": "code",
   "execution_count": 186,
   "metadata": {},
   "outputs": [],
   "source": [
    "def relu_1layer_rmsprop_dropout_model():\n",
    "    return get_model([10, 1], ['relu', 'sigmoid'], 'binary_crossentropy', 'RMSprop', ['accuracy'], dropout=[0.25, 0])\n",
    "                     # input_dropout=0.2)"
   ]
  },
  {
   "cell_type": "code",
   "execution_count": 181,
   "metadata": {},
   "outputs": [
    {
     "name": "stdout",
     "output_type": "stream",
     "text": [
      "[0.94545454 0.9672727  0.94160587 0.94890511 0.91240877]\n",
      "Accuracy: 94.31% (1.77%)\n"
     ]
    }
   ],
   "source": [
    "estimator = KerasClassifier(build_fn=relu_1layer_rmsprop_dropout_model, epochs=20, batch_size=64, verbose=0)\n",
    "kfold = StratifiedKFold(n_splits=5, shuffle=True)\n",
    "results = cross_val_score(estimator, x.values, t.values, cv=kfold)\n",
    "print(results)\n",
    "print(\"Accuracy: %.2f%% (%.2f%%)\" % (results.mean()*100, results.std()*100))"
   ]
  },
  {
   "cell_type": "code",
   "execution_count": 183,
   "metadata": {},
   "outputs": [
    {
     "name": "stdout",
     "output_type": "stream",
     "text": [
      "Train on 1097 samples, validate on 275 samples\n",
      "Epoch 1/20\n",
      "1097/1097 [==============================] - 2s 2ms/sample - loss: 0.7884 - accuracy: 0.5041 - val_loss: 0.7434 - val_accuracy: 0.5382\n",
      "Epoch 2/20\n",
      "1097/1097 [==============================] - 0s 124us/sample - loss: 0.7482 - accuracy: 0.5524 - val_loss: 0.7061 - val_accuracy: 0.5455\n",
      "Epoch 3/20\n",
      "1097/1097 [==============================] - 0s 117us/sample - loss: 0.7094 - accuracy: 0.5497 - val_loss: 0.6737 - val_accuracy: 0.5564\n",
      "Epoch 4/20\n",
      "1097/1097 [==============================] - 0s 118us/sample - loss: 0.6844 - accuracy: 0.5670 - val_loss: 0.6432 - val_accuracy: 0.5636\n",
      "Epoch 5/20\n",
      "1097/1097 [==============================] - 0s 108us/sample - loss: 0.6500 - accuracy: 0.5697 - val_loss: 0.6150 - val_accuracy: 0.6291\n",
      "Epoch 6/20\n",
      "1097/1097 [==============================] - 0s 114us/sample - loss: 0.6176 - accuracy: 0.6044 - val_loss: 0.5892 - val_accuracy: 0.6764\n",
      "Epoch 7/20\n",
      "1097/1097 [==============================] - 0s 107us/sample - loss: 0.5892 - accuracy: 0.6609 - val_loss: 0.5665 - val_accuracy: 0.6982\n",
      "Epoch 8/20\n",
      "1097/1097 [==============================] - 0s 117us/sample - loss: 0.5701 - accuracy: 0.6837 - val_loss: 0.5442 - val_accuracy: 0.7127\n",
      "Epoch 9/20\n",
      "1097/1097 [==============================] - 0s 117us/sample - loss: 0.5517 - accuracy: 0.7083 - val_loss: 0.5236 - val_accuracy: 0.7345\n",
      "Epoch 10/20\n",
      "1097/1097 [==============================] - 0s 191us/sample - loss: 0.5287 - accuracy: 0.7402 - val_loss: 0.5047 - val_accuracy: 0.7527\n",
      "Epoch 11/20\n",
      "1097/1097 [==============================] - 0s 157us/sample - loss: 0.5105 - accuracy: 0.7621 - val_loss: 0.4866 - val_accuracy: 0.7855\n",
      "Epoch 12/20\n",
      "1097/1097 [==============================] - 0s 160us/sample - loss: 0.4956 - accuracy: 0.7949 - val_loss: 0.4698 - val_accuracy: 0.8036\n",
      "Epoch 13/20\n",
      "1097/1097 [==============================] - 0s 135us/sample - loss: 0.4830 - accuracy: 0.8149 - val_loss: 0.4540 - val_accuracy: 0.8400\n",
      "Epoch 14/20\n",
      "1097/1097 [==============================] - 0s 141us/sample - loss: 0.4675 - accuracy: 0.8432 - val_loss: 0.4390 - val_accuracy: 0.8691\n",
      "Epoch 15/20\n",
      "1097/1097 [==============================] - 0s 113us/sample - loss: 0.4524 - accuracy: 0.8614 - val_loss: 0.4251 - val_accuracy: 0.8836\n",
      "Epoch 16/20\n",
      "1097/1097 [==============================] - 0s 110us/sample - loss: 0.4312 - accuracy: 0.8733 - val_loss: 0.4111 - val_accuracy: 0.9018\n",
      "Epoch 17/20\n",
      "1097/1097 [==============================] - 0s 128us/sample - loss: 0.4193 - accuracy: 0.8742 - val_loss: 0.3980 - val_accuracy: 0.9200\n",
      "Epoch 18/20\n",
      "1097/1097 [==============================] - 0s 134us/sample - loss: 0.4069 - accuracy: 0.8842 - val_loss: 0.3870 - val_accuracy: 0.9309\n",
      "Epoch 19/20\n",
      "1097/1097 [==============================] - 0s 129us/sample - loss: 0.3980 - accuracy: 0.8943 - val_loss: 0.3747 - val_accuracy: 0.9382\n",
      "Epoch 20/20\n",
      "1097/1097 [==============================] - 0s 127us/sample - loss: 0.3860 - accuracy: 0.9015 - val_loss: 0.3631 - val_accuracy: 0.9418\n"
     ]
    },
    {
     "data": {
      "text/plain": [
       "<tensorflow.python.keras.callbacks.History at 0x194d217b8>"
      ]
     },
     "execution_count": 183,
     "metadata": {},
     "output_type": "execute_result"
    }
   ],
   "source": [
    "model = relu_1layer_rmsprop_dropout_model()\n",
    "model.fit(x_train, t_train, validation_data=(x_test, t_test), epochs=20, batch_size=64)"
   ]
  },
  {
   "cell_type": "markdown",
   "metadata": {},
   "source": [
    "**Remarks:** Performance is consistently yet lower than that of the same network without dropout. It appears that the loss of information cancels out the reduction of overfitting (if that's occurring at all—maybe overfitting is minimal in this 1-layer network even without dropout)."
   ]
  },
  {
   "cell_type": "markdown",
   "metadata": {},
   "source": [
    "### Smaller ReLu-activation 2-hidden-layer model"
   ]
  },
  {
   "cell_type": "code",
   "execution_count": 203,
   "metadata": {},
   "outputs": [],
   "source": [
    "def relu_smaller_2layer_rmsp_model():\n",
    "    return get_model([8, 4, 1], ['relu', 'relu', 'sigmoid'], 'binary_crossentropy', 'RMSprop', ['accuracy'])\n",
    "                     # dropout=[0.25, 0]), input_dropout=0.2)"
   ]
  },
  {
   "cell_type": "code",
   "execution_count": 196,
   "metadata": {},
   "outputs": [
    {
     "name": "stdout",
     "output_type": "stream",
     "text": [
      "[0.98545456 0.99272728 0.97445256 0.94890511 0.96350366]\n",
      "Accuracy: 97.30% (1.56%)\n"
     ]
    }
   ],
   "source": [
    "estimator = KerasClassifier(build_fn=relu_smaller_2layer_rmsp_model, epochs=20, batch_size=64, verbose=0)\n",
    "kfold = StratifiedKFold(n_splits=5, shuffle=True)\n",
    "results = cross_val_score(estimator, x.values, t.values, cv=kfold)\n",
    "print(results)\n",
    "print(\"Accuracy: %.2f%% (%.2f%%)\" % (results.mean()*100, results.std()*100))"
   ]
  },
  {
   "cell_type": "code",
   "execution_count": 197,
   "metadata": {},
   "outputs": [
    {
     "name": "stdout",
     "output_type": "stream",
     "text": [
      "Train on 1097 samples, validate on 275 samples\n",
      "Epoch 1/20\n",
      "1097/1097 [==============================] - 7s 6ms/sample - loss: 0.6063 - accuracy: 0.7065 - val_loss: 0.5635 - val_accuracy: 0.7345\n",
      "Epoch 2/20\n",
      "1097/1097 [==============================] - 0s 113us/sample - loss: 0.5618 - accuracy: 0.7402 - val_loss: 0.5276 - val_accuracy: 0.7709\n",
      "Epoch 3/20\n",
      "1097/1097 [==============================] - 0s 120us/sample - loss: 0.5263 - accuracy: 0.7821 - val_loss: 0.4927 - val_accuracy: 0.8291\n",
      "Epoch 4/20\n",
      "1097/1097 [==============================] - 0s 113us/sample - loss: 0.4913 - accuracy: 0.8095 - val_loss: 0.4588 - val_accuracy: 0.8436\n",
      "Epoch 5/20\n",
      "1097/1097 [==============================] - 0s 111us/sample - loss: 0.4568 - accuracy: 0.8268 - val_loss: 0.4264 - val_accuracy: 0.8545\n",
      "Epoch 6/20\n",
      "1097/1097 [==============================] - 0s 125us/sample - loss: 0.4244 - accuracy: 0.8551 - val_loss: 0.3965 - val_accuracy: 0.8727\n",
      "Epoch 7/20\n",
      "1097/1097 [==============================] - 0s 128us/sample - loss: 0.3938 - accuracy: 0.8906 - val_loss: 0.3664 - val_accuracy: 0.9018\n",
      "Epoch 8/20\n",
      "1097/1097 [==============================] - 0s 119us/sample - loss: 0.3635 - accuracy: 0.9107 - val_loss: 0.3377 - val_accuracy: 0.9309\n",
      "Epoch 9/20\n",
      "1097/1097 [==============================] - 0s 114us/sample - loss: 0.3343 - accuracy: 0.9280 - val_loss: 0.3101 - val_accuracy: 0.9491\n",
      "Epoch 10/20\n",
      "1097/1097 [==============================] - 0s 114us/sample - loss: 0.3064 - accuracy: 0.9398 - val_loss: 0.2840 - val_accuracy: 0.9600\n",
      "Epoch 11/20\n",
      "1097/1097 [==============================] - 0s 109us/sample - loss: 0.2790 - accuracy: 0.9480 - val_loss: 0.2591 - val_accuracy: 0.9636\n",
      "Epoch 12/20\n",
      "1097/1097 [==============================] - 0s 109us/sample - loss: 0.2540 - accuracy: 0.9508 - val_loss: 0.2367 - val_accuracy: 0.9709\n",
      "Epoch 13/20\n",
      "1097/1097 [==============================] - 0s 111us/sample - loss: 0.2307 - accuracy: 0.9517 - val_loss: 0.2157 - val_accuracy: 0.9709\n",
      "Epoch 14/20\n",
      "1097/1097 [==============================] - 0s 111us/sample - loss: 0.2093 - accuracy: 0.9590 - val_loss: 0.1961 - val_accuracy: 0.9709\n",
      "Epoch 15/20\n",
      "1097/1097 [==============================] - 0s 108us/sample - loss: 0.1895 - accuracy: 0.9635 - val_loss: 0.1774 - val_accuracy: 0.9673\n",
      "Epoch 16/20\n",
      "1097/1097 [==============================] - 0s 115us/sample - loss: 0.1716 - accuracy: 0.9635 - val_loss: 0.1603 - val_accuracy: 0.9673\n",
      "Epoch 17/20\n",
      "1097/1097 [==============================] - 0s 159us/sample - loss: 0.1554 - accuracy: 0.9644 - val_loss: 0.1447 - val_accuracy: 0.9673\n",
      "Epoch 18/20\n",
      "1097/1097 [==============================] - 0s 149us/sample - loss: 0.1404 - accuracy: 0.9699 - val_loss: 0.1312 - val_accuracy: 0.9782\n",
      "Epoch 19/20\n",
      "1097/1097 [==============================] - 0s 107us/sample - loss: 0.1269 - accuracy: 0.9745 - val_loss: 0.1183 - val_accuracy: 0.9818\n",
      "Epoch 20/20\n",
      "1097/1097 [==============================] - 0s 108us/sample - loss: 0.1145 - accuracy: 0.9745 - val_loss: 0.1066 - val_accuracy: 0.9855\n"
     ]
    },
    {
     "data": {
      "text/plain": [
       "<tensorflow.python.keras.callbacks.History at 0x19dcd85f8>"
      ]
     },
     "execution_count": 197,
     "metadata": {},
     "output_type": "execute_result"
    }
   ],
   "source": [
    "model = relu_smaller_2layer_rmsp_model()\n",
    "model.fit(x_train, t_train, validation_data=(x_test, t_test), epochs=20, batch_size=64)"
   ]
  },
  {
   "cell_type": "markdown",
   "metadata": {},
   "source": [
    "**Remarks:** Performance is consistently slightly lower than that the single 10-unit hidden layer network without dropout."
   ]
  },
  {
   "cell_type": "markdown",
   "metadata": {},
   "source": [
    "### 2-hidden-layer model with ReLu hidden activations and dropout"
   ]
  },
  {
   "cell_type": "code",
   "execution_count": 213,
   "metadata": {},
   "outputs": [],
   "source": [
    "def relu_rmsp_dropout_model():\n",
    "    return get_model([10, 10, 1], ['relu', 'relu', 'sigmoid'], 'binary_crossentropy', 'RMSprop', ['accuracy'],\n",
    "                     dropout=[0, 0.25, 0])"
   ]
  },
  {
   "cell_type": "code",
   "execution_count": 226,
   "metadata": {},
   "outputs": [
    {
     "name": "stdout",
     "output_type": "stream",
     "text": [
      "[0.97818184 0.98909092 0.99270076 0.99270076 0.97810221]\n",
      "Accuracy: 98.62% (0.67%)\n"
     ]
    }
   ],
   "source": [
    "estimator = KerasClassifier(build_fn=relu_rmsp_dropout_model, epochs=20, batch_size=64, verbose=0)\n",
    "kfold = StratifiedKFold(n_splits=5, shuffle=True)\n",
    "results = cross_val_score(estimator, x.values, t.values, cv=kfold)\n",
    "print(results)\n",
    "print(\"Accuracy: %.2f%% (%.2f%%)\" % (results.mean()*100, results.std()*100))"
   ]
  },
  {
   "cell_type": "code",
   "execution_count": 227,
   "metadata": {},
   "outputs": [
    {
     "name": "stdout",
     "output_type": "stream",
     "text": [
      "Train on 1097 samples, validate on 275 samples\n",
      "Epoch 1/20\n",
      "1097/1097 [==============================] - 2s 2ms/sample - loss: 0.6469 - accuracy: 0.5916 - val_loss: 0.6121 - val_accuracy: 0.6036\n",
      "Epoch 2/20\n",
      "1097/1097 [==============================] - 0s 156us/sample - loss: 0.6001 - accuracy: 0.6673 - val_loss: 0.5742 - val_accuracy: 0.6836\n",
      "Epoch 3/20\n",
      "1097/1097 [==============================] - 0s 149us/sample - loss: 0.5670 - accuracy: 0.7074 - val_loss: 0.5370 - val_accuracy: 0.7527\n",
      "Epoch 4/20\n",
      "1097/1097 [==============================] - 0s 159us/sample - loss: 0.5327 - accuracy: 0.7612 - val_loss: 0.5009 - val_accuracy: 0.8509\n",
      "Epoch 5/20\n",
      "1097/1097 [==============================] - 0s 135us/sample - loss: 0.5026 - accuracy: 0.8259 - val_loss: 0.4655 - val_accuracy: 0.8945\n",
      "Epoch 6/20\n",
      "1097/1097 [==============================] - 0s 140us/sample - loss: 0.4670 - accuracy: 0.8405 - val_loss: 0.4329 - val_accuracy: 0.9018\n",
      "Epoch 7/20\n",
      "1097/1097 [==============================] - 0s 159us/sample - loss: 0.4340 - accuracy: 0.8587 - val_loss: 0.4005 - val_accuracy: 0.9091\n",
      "Epoch 8/20\n",
      "1097/1097 [==============================] - 0s 156us/sample - loss: 0.4056 - accuracy: 0.8687 - val_loss: 0.3698 - val_accuracy: 0.9164\n",
      "Epoch 9/20\n",
      "1097/1097 [==============================] - 0s 163us/sample - loss: 0.3705 - accuracy: 0.8970 - val_loss: 0.3401 - val_accuracy: 0.9200\n",
      "Epoch 10/20\n",
      "1097/1097 [==============================] - 0s 156us/sample - loss: 0.3457 - accuracy: 0.8997 - val_loss: 0.3118 - val_accuracy: 0.9309\n",
      "Epoch 11/20\n",
      "1097/1097 [==============================] - 0s 154us/sample - loss: 0.3187 - accuracy: 0.9143 - val_loss: 0.2835 - val_accuracy: 0.9491\n",
      "Epoch 12/20\n",
      "1097/1097 [==============================] - 0s 145us/sample - loss: 0.2877 - accuracy: 0.9180 - val_loss: 0.2566 - val_accuracy: 0.9564\n",
      "Epoch 13/20\n",
      "1097/1097 [==============================] - 0s 175us/sample - loss: 0.2628 - accuracy: 0.9353 - val_loss: 0.2295 - val_accuracy: 0.9564\n",
      "Epoch 14/20\n",
      "1097/1097 [==============================] - 0s 231us/sample - loss: 0.2375 - accuracy: 0.9462 - val_loss: 0.2061 - val_accuracy: 0.9673\n",
      "Epoch 15/20\n",
      "1097/1097 [==============================] - 0s 217us/sample - loss: 0.2205 - accuracy: 0.9426 - val_loss: 0.1840 - val_accuracy: 0.9636\n",
      "Epoch 16/20\n",
      "1097/1097 [==============================] - 0s 219us/sample - loss: 0.1964 - accuracy: 0.9462 - val_loss: 0.1640 - val_accuracy: 0.9564\n",
      "Epoch 17/20\n",
      "1097/1097 [==============================] - 0s 197us/sample - loss: 0.1761 - accuracy: 0.9508 - val_loss: 0.1473 - val_accuracy: 0.9636\n",
      "Epoch 18/20\n",
      "1097/1097 [==============================] - 0s 156us/sample - loss: 0.1647 - accuracy: 0.9581 - val_loss: 0.1311 - val_accuracy: 0.9745\n",
      "Epoch 19/20\n",
      "1097/1097 [==============================] - 0s 157us/sample - loss: 0.1440 - accuracy: 0.9626 - val_loss: 0.1178 - val_accuracy: 0.9782\n",
      "Epoch 20/20\n",
      "1097/1097 [==============================] - 0s 140us/sample - loss: 0.1356 - accuracy: 0.9690 - val_loss: 0.1055 - val_accuracy: 0.9782\n"
     ]
    },
    {
     "data": {
      "text/plain": [
       "<tensorflow.python.keras.callbacks.History at 0x187ea0320>"
      ]
     },
     "execution_count": 227,
     "metadata": {},
     "output_type": "execute_result"
    }
   ],
   "source": [
    "model = relu_rmsp_dropout_model()\n",
    "model.fit(x_train, t_train, validation_data=(x_test, t_test), epochs=20, batch_size=64)"
   ]
  },
  {
   "cell_type": "markdown",
   "metadata": {},
   "source": [
    "**Remarks:** Dropout results in accuracy consistently just barely below that of the same network without dropout. I doubt fiddling with the ratio and layer(s) it applies to will do much. Also tried with 25 epochs; it seems to start overfitting before the 25th epoch or soon after. 20 should suffice."
   ]
  },
  {
   "cell_type": "markdown",
   "metadata": {},
   "source": [
    "### 2-hidden-layer model with ReLu hidden activations and SGD"
   ]
  },
  {
   "cell_type": "code",
   "execution_count": 232,
   "metadata": {},
   "outputs": [],
   "source": [
    "def relu_sgd_model():\n",
    "    return get_model([10, 10, 1], ['relu', 'relu', 'sigmoid'], 'binary_crossentropy', 'sgd', ['accuracy'])"
   ]
  },
  {
   "cell_type": "code",
   "execution_count": 237,
   "metadata": {},
   "outputs": [
    {
     "name": "stdout",
     "output_type": "stream",
     "text": [
      "[0.97818184 0.99272728 0.94890511 0.98540145 0.97810221]\n",
      "Accuracy: 97.67% (1.49%)\n"
     ]
    }
   ],
   "source": [
    "estimator = KerasClassifier(build_fn=relu_sgd_model, epochs=20, batch_size=64, verbose=0)\n",
    "kfold = StratifiedKFold(n_splits=5, shuffle=True)\n",
    "results = cross_val_score(estimator, x.values, t.values, cv=kfold)\n",
    "print(results)\n",
    "print(\"Accuracy: %.2f%% (%.2f%%)\" % (results.mean()*100, results.std()*100))"
   ]
  },
  {
   "cell_type": "code",
   "execution_count": 238,
   "metadata": {},
   "outputs": [
    {
     "name": "stdout",
     "output_type": "stream",
     "text": [
      "Train on 1097 samples, validate on 275 samples\n",
      "Epoch 1/20\n",
      "1097/1097 [==============================] - 1s 1ms/sample - loss: 0.7294 - accuracy: 0.5542 - val_loss: 0.7123 - val_accuracy: 0.5600\n",
      "Epoch 2/20\n",
      "1097/1097 [==============================] - 0s 139us/sample - loss: 0.7016 - accuracy: 0.5816 - val_loss: 0.6862 - val_accuracy: 0.5927\n",
      "Epoch 3/20\n",
      "1097/1097 [==============================] - 0s 162us/sample - loss: 0.6778 - accuracy: 0.5998 - val_loss: 0.6663 - val_accuracy: 0.6182\n",
      "Epoch 4/20\n",
      "1097/1097 [==============================] - 0s 153us/sample - loss: 0.6590 - accuracy: 0.6226 - val_loss: 0.6485 - val_accuracy: 0.6255\n",
      "Epoch 5/20\n",
      "1097/1097 [==============================] - 0s 166us/sample - loss: 0.6419 - accuracy: 0.6527 - val_loss: 0.6333 - val_accuracy: 0.6400\n",
      "Epoch 6/20\n",
      "1097/1097 [==============================] - 0s 149us/sample - loss: 0.6271 - accuracy: 0.6718 - val_loss: 0.6196 - val_accuracy: 0.6509\n",
      "Epoch 7/20\n",
      "1097/1097 [==============================] - 0s 203us/sample - loss: 0.6135 - accuracy: 0.6901 - val_loss: 0.6078 - val_accuracy: 0.6545\n",
      "Epoch 8/20\n",
      "1097/1097 [==============================] - 0s 265us/sample - loss: 0.6013 - accuracy: 0.6983 - val_loss: 0.5964 - val_accuracy: 0.6727\n",
      "Epoch 9/20\n",
      "1097/1097 [==============================] - 0s 139us/sample - loss: 0.5895 - accuracy: 0.7065 - val_loss: 0.5848 - val_accuracy: 0.6764\n",
      "Epoch 10/20\n",
      "1097/1097 [==============================] - 0s 139us/sample - loss: 0.5776 - accuracy: 0.7174 - val_loss: 0.5740 - val_accuracy: 0.6727\n",
      "Epoch 11/20\n",
      "1097/1097 [==============================] - 0s 142us/sample - loss: 0.5662 - accuracy: 0.7293 - val_loss: 0.5634 - val_accuracy: 0.6945\n",
      "Epoch 12/20\n",
      "1097/1097 [==============================] - 0s 210us/sample - loss: 0.5551 - accuracy: 0.7320 - val_loss: 0.5528 - val_accuracy: 0.6945\n",
      "Epoch 13/20\n",
      "1097/1097 [==============================] - 0s 175us/sample - loss: 0.5439 - accuracy: 0.7320 - val_loss: 0.5428 - val_accuracy: 0.6909\n",
      "Epoch 14/20\n",
      "1097/1097 [==============================] - 0s 283us/sample - loss: 0.5334 - accuracy: 0.7384 - val_loss: 0.5323 - val_accuracy: 0.7018\n",
      "Epoch 15/20\n",
      "1097/1097 [==============================] - 0s 137us/sample - loss: 0.5224 - accuracy: 0.7420 - val_loss: 0.5224 - val_accuracy: 0.7091\n",
      "Epoch 16/20\n",
      "1097/1097 [==============================] - 0s 181us/sample - loss: 0.5119 - accuracy: 0.7502 - val_loss: 0.5122 - val_accuracy: 0.7200\n",
      "Epoch 17/20\n",
      "1097/1097 [==============================] - 0s 134us/sample - loss: 0.5012 - accuracy: 0.7630 - val_loss: 0.5024 - val_accuracy: 0.7309\n",
      "Epoch 18/20\n",
      "1097/1097 [==============================] - 0s 142us/sample - loss: 0.4907 - accuracy: 0.7694 - val_loss: 0.4925 - val_accuracy: 0.7309\n",
      "Epoch 19/20\n",
      "1097/1097 [==============================] - 0s 225us/sample - loss: 0.4803 - accuracy: 0.7849 - val_loss: 0.4828 - val_accuracy: 0.7527\n",
      "Epoch 20/20\n",
      "1097/1097 [==============================] - 0s 145us/sample - loss: 0.4699 - accuracy: 0.7967 - val_loss: 0.4730 - val_accuracy: 0.7709\n"
     ]
    },
    {
     "data": {
      "text/plain": [
       "<tensorflow.python.keras.callbacks.History at 0x1a7d1d710>"
      ]
     },
     "execution_count": 238,
     "metadata": {},
     "output_type": "execute_result"
    }
   ],
   "source": [
    "model = relu_sgd_model()\n",
    "model.fit(x_train, t_train, validation_data=(x_test, t_test), epochs=20, batch_size=64)"
   ]
  },
  {
   "cell_type": "markdown",
   "metadata": {},
   "source": [
    "**Remarks:** Results are no better or slightly worse than any of the other 2-hidden-layer ReLu models. Looks like ReLu-activated 10-unit double-hidden-layer without dropout is the optimal network for this problem."
   ]
  },
  {
   "cell_type": "markdown",
   "metadata": {},
   "source": [
    "## With other activation functions"
   ]
  },
  {
   "cell_type": "markdown",
   "metadata": {},
   "source": [
    "I could try other activations, e.g. softplus and elu, but the above seems quite enough."
   ]
  },
  {
   "cell_type": "markdown",
   "metadata": {},
   "source": [
    "# Conclusion\n",
    "Highest-accuracy network (# units and dropout ratios parenthesised):  \n",
    "Input (4, 0) -> ReLu (10, 0) -> ReLu (10, 0) -> Sigmoid (1, 0)  \n",
    "Optimiser: RMSprop"
   ]
  },
  {
   "cell_type": "code",
   "execution_count": 240,
   "metadata": {},
   "outputs": [
    {
     "name": "stdout",
     "output_type": "stream",
     "text": [
      "Mean 5-fold CV accuracy over 4 rounds of training: 99.58%\n"
     ]
    }
   ],
   "source": [
    "print('Mean 5-fold CV accuracy over 4 rounds of training: %.2f%%' % ((99.64 + 99.56 + 99.34 + 99.78) / 4))"
   ]
  }
 ],
 "metadata": {
  "kernelspec": {
   "display_name": "py36",
   "language": "python",
   "name": "py36"
  },
  "language_info": {
   "codemirror_mode": {
    "name": "ipython",
    "version": 3
   },
   "file_extension": ".py",
   "mimetype": "text/x-python",
   "name": "python",
   "nbconvert_exporter": "python",
   "pygments_lexer": "ipython3",
   "version": "3.6.7"
  }
 },
 "nbformat": 4,
 "nbformat_minor": 2
}
