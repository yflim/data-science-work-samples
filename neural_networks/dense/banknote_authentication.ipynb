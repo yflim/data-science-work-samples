{
 "cells": [
  {
   "cell_type": "code",
   "execution_count": 1,
   "metadata": {},
   "outputs": [],
   "source": [
    "import numpy as np\n",
    "import pandas as pd\n",
    "import seaborn as sns\n",
    "from sklearn.model_selection import cross_val_score, StratifiedKFold, train_test_split\n",
    "from sklearn.preprocessing import LabelEncoder, StandardScaler\n",
    "import tensorflow as tf\n",
    "from tensorflow import keras\n",
    "from tensorflow.keras import layers\n",
    "from tensorflow.keras.wrappers.scikit_learn import KerasClassifier"
   ]
  },
  {
   "cell_type": "markdown",
   "metadata": {},
   "source": [
    "Summary spreadsheet at https://docs.google.com/spreadsheets/d/1AYr4MBbA2CfVrwCyadqdoyQdSvFyMFH6nwrLvn63aB0/edit?usp=sharing"
   ]
  },
  {
   "cell_type": "markdown",
   "metadata": {},
   "source": [
    "# Prepare data"
   ]
  },
  {
   "cell_type": "markdown",
   "metadata": {},
   "source": [
    "Dataset from https://archive.ics.uci.edu/ml/datasets/banknote+authentication"
   ]
  },
  {
   "cell_type": "code",
   "execution_count": 3,
   "metadata": {},
   "outputs": [],
   "source": [
    "data = pd.read_csv('../../data/banknote_authentication.txt', header=None)\n",
    "data_shuffled = data.values\n",
    "np.random.shuffle(data_shuffled)\n",
    "data = pd.DataFrame(data_shuffled, index=data.index, columns=data.columns)"
   ]
  },
  {
   "cell_type": "code",
   "execution_count": 4,
   "metadata": {},
   "outputs": [
    {
     "data": {
      "text/html": [
       "<div>\n",
       "<style scoped>\n",
       "    .dataframe tbody tr th:only-of-type {\n",
       "        vertical-align: middle;\n",
       "    }\n",
       "\n",
       "    .dataframe tbody tr th {\n",
       "        vertical-align: top;\n",
       "    }\n",
       "\n",
       "    .dataframe thead th {\n",
       "        text-align: right;\n",
       "    }\n",
       "</style>\n",
       "<table border=\"1\" class=\"dataframe\">\n",
       "  <thead>\n",
       "    <tr style=\"text-align: right;\">\n",
       "      <th></th>\n",
       "      <th>0</th>\n",
       "      <th>1</th>\n",
       "      <th>2</th>\n",
       "      <th>3</th>\n",
       "      <th>4</th>\n",
       "    </tr>\n",
       "  </thead>\n",
       "  <tbody>\n",
       "    <tr>\n",
       "      <th>count</th>\n",
       "      <td>1372.000000</td>\n",
       "      <td>1372.000000</td>\n",
       "      <td>1372.000000</td>\n",
       "      <td>1372.000000</td>\n",
       "      <td>1372.000000</td>\n",
       "    </tr>\n",
       "    <tr>\n",
       "      <th>mean</th>\n",
       "      <td>0.433735</td>\n",
       "      <td>1.922353</td>\n",
       "      <td>1.397627</td>\n",
       "      <td>-1.191657</td>\n",
       "      <td>0.444606</td>\n",
       "    </tr>\n",
       "    <tr>\n",
       "      <th>std</th>\n",
       "      <td>2.842763</td>\n",
       "      <td>5.869047</td>\n",
       "      <td>4.310030</td>\n",
       "      <td>2.101013</td>\n",
       "      <td>0.497103</td>\n",
       "    </tr>\n",
       "    <tr>\n",
       "      <th>min</th>\n",
       "      <td>-7.042100</td>\n",
       "      <td>-13.773100</td>\n",
       "      <td>-5.286100</td>\n",
       "      <td>-8.548200</td>\n",
       "      <td>0.000000</td>\n",
       "    </tr>\n",
       "    <tr>\n",
       "      <th>25%</th>\n",
       "      <td>-1.773000</td>\n",
       "      <td>-1.708200</td>\n",
       "      <td>-1.574975</td>\n",
       "      <td>-2.413450</td>\n",
       "      <td>0.000000</td>\n",
       "    </tr>\n",
       "    <tr>\n",
       "      <th>50%</th>\n",
       "      <td>0.496180</td>\n",
       "      <td>2.319650</td>\n",
       "      <td>0.616630</td>\n",
       "      <td>-0.586650</td>\n",
       "      <td>0.000000</td>\n",
       "    </tr>\n",
       "    <tr>\n",
       "      <th>75%</th>\n",
       "      <td>2.821475</td>\n",
       "      <td>6.814625</td>\n",
       "      <td>3.179250</td>\n",
       "      <td>0.394810</td>\n",
       "      <td>1.000000</td>\n",
       "    </tr>\n",
       "    <tr>\n",
       "      <th>max</th>\n",
       "      <td>6.824800</td>\n",
       "      <td>12.951600</td>\n",
       "      <td>17.927400</td>\n",
       "      <td>2.449500</td>\n",
       "      <td>1.000000</td>\n",
       "    </tr>\n",
       "  </tbody>\n",
       "</table>\n",
       "</div>"
      ],
      "text/plain": [
       "                 0            1            2            3            4\n",
       "count  1372.000000  1372.000000  1372.000000  1372.000000  1372.000000\n",
       "mean      0.433735     1.922353     1.397627    -1.191657     0.444606\n",
       "std       2.842763     5.869047     4.310030     2.101013     0.497103\n",
       "min      -7.042100   -13.773100    -5.286100    -8.548200     0.000000\n",
       "25%      -1.773000    -1.708200    -1.574975    -2.413450     0.000000\n",
       "50%       0.496180     2.319650     0.616630    -0.586650     0.000000\n",
       "75%       2.821475     6.814625     3.179250     0.394810     1.000000\n",
       "max       6.824800    12.951600    17.927400     2.449500     1.000000"
      ]
     },
     "execution_count": 4,
     "metadata": {},
     "output_type": "execute_result"
    }
   ],
   "source": [
    "data.describe()"
   ]
  },
  {
   "cell_type": "code",
   "execution_count": 3,
   "metadata": {},
   "outputs": [],
   "source": [
    "x, t = data.loc[:,0:3], data.loc[:,4]"
   ]
  },
  {
   "cell_type": "code",
   "execution_count": 4,
   "metadata": {},
   "outputs": [
    {
     "data": {
      "text/plain": [
       "0.0    762\n",
       "1.0    610\n",
       "Name: 4, dtype: int64"
      ]
     },
     "execution_count": 4,
     "metadata": {},
     "output_type": "execute_result"
    }
   ],
   "source": [
    "t.value_counts()"
   ]
  },
  {
   "cell_type": "code",
   "execution_count": 269,
   "metadata": {},
   "outputs": [
    {
     "data": {
      "text/plain": [
       "<seaborn.axisgrid.PairGrid at 0x15fa94438>"
      ]
     },
     "execution_count": 269,
     "metadata": {},
     "output_type": "execute_result"
    },
    {
     "data": {
      "image/png": "[encoded data removed]",
      "text/plain": [
       "<Figure size 762.375x720 with 20 Axes>"
      ]
     },
     "metadata": {
      "needs_background": "light"
     },
     "output_type": "display_data"
    }
   ],
   "source": [
    "sns.pairplot(data, hue=4, plot_kws={'alpha': 0.1})"
   ]
  },
  {
   "cell_type": "markdown",
   "metadata": {},
   "source": [
    "### Train/test split"
   ]
  },
  {
   "cell_type": "markdown",
   "metadata": {},
   "source": [
    "Use an initial 80/20 train/test split, then proceed to 5-fold CV. "
   ]
  },
  {
   "cell_type": "code",
   "execution_count": 5,
   "metadata": {},
   "outputs": [],
   "source": [
    "x_train, x_test, t_train, t_test = train_test_split(x, t, test_size=0.2, random_state=42, stratify=t)"
   ]
  },
  {
   "cell_type": "code",
   "execution_count": 6,
   "metadata": {},
   "outputs": [],
   "source": [
    "scaler = StandardScaler()\n",
    "x_train = scaler.fit_transform(x_train)\n",
    "x_test = scaler.fit_transform(x_test)"
   ]
  },
  {
   "cell_type": "code",
   "execution_count": 7,
   "metadata": {},
   "outputs": [],
   "source": [
    "t_train, t_test = t_train.values, t_test.values"
   ]
  },
  {
   "cell_type": "markdown",
   "metadata": {},
   "source": [
    "#### Note on train/test split vs. cross-validation\n",
    "Going from a train-test split to cross-validation seems arbitrary to me, so I'll go with both throughout (train-test split to show learning or lackthereof within a training run) instead for hyperparameter selection."
   ]
  },
  {
   "cell_type": "markdown",
   "metadata": {},
   "source": [
    "###  Dummy class (\"one-hot\") encoding\n",
    "Appears to be unnecessary: see e.g. https://www.tensorflow.org/tutorials/keras/classification."
   ]
  },
  {
   "cell_type": "markdown",
   "metadata": {},
   "source": [
    "# Keras sequential model for classification"
   ]
  },
  {
   "cell_type": "markdown",
   "metadata": {},
   "source": [
    "Implement a classifier with 2 dense hidden layers and a dropout layer before the final softmax output layer, something like this:  \n",
    "Input -> Hidden -> Hidden -> Dropout -> Softmax\n",
    "\n",
    "Start with a dropout ratio of 0.25, Adadelta as optimizer, and 10 epochs of training."
   ]
  },
  {
   "cell_type": "markdown",
   "metadata": {},
   "source": [
    "**Note:** I run most of the following multiple times (more than reflected in spreadsheet), so the associated remarks aren't based on what may just be flukes."
   ]
  },
  {
   "cell_type": "markdown",
   "metadata": {},
   "source": [
    "## Model builder"
   ]
  },
  {
   "cell_type": "code",
   "execution_count": 9,
   "metadata": {},
   "outputs": [],
   "source": [
    "def get_model(n_layers, layer_sizes, activations, loss, optimizer, metrics, dropout=None, input_dropout=None):\n",
    "    model = keras.Sequential()\n",
    "    if dropout is None:\n",
    "        dropout = [None] * n_layers\n",
    "    if input_dropout:\n",
    "        model.add(layers.Dropout(input_dropout))\n",
    "    for i in range(n_layers):\n",
    "        model.add(layers.Dense(layer_sizes[i], activation=activations[i]))\n",
    "        if dropout[i]:\n",
    "            model.add(layers.Dropout(dropout[i]))\n",
    "    model.compile(loss=loss, optimizer=optimizer, metrics=metrics)\n",
    "    return model"
   ]
  },
  {
   "cell_type": "markdown",
   "metadata": {},
   "source": [
    "**Note:** \n",
    "1. Calling this from per-model \"constructors\" instead of directly because the workaround for an error-free workflow with its args passed to KerasClassifier() is ugly.\n",
    "2. Also, I didn't check very carefully, but there seems to be no way to access the model model constructed and wrapped by KerasClassifier(), so the models (NNs) used for train/test and CV are distinct."
   ]
  },
  {
   "cell_type": "markdown",
   "metadata": {},
   "source": [
    "## Without dropout"
   ]
  },
  {
   "cell_type": "code",
   "execution_count": 447,
   "metadata": {},
   "outputs": [],
   "source": [
    "def baseline_model():\n",
    "    return get_model(3, [10, 10, 1], ['sigmoid'] * 3, 'binary_crossentropy', 'Adadelta', ['accuracy'])"
   ]
  },
  {
   "cell_type": "code",
   "execution_count": 533,
   "metadata": {},
   "outputs": [
    {
     "name": "stdout",
     "output_type": "stream",
     "text": [
      "[0.44363636 0.54909092 0.55474454 0.55474454 0.44525549]\n",
      "Accuracy: 50.95% (5.32%)\n"
     ]
    }
   ],
   "source": [
    "estimator = KerasClassifier(build_fn=baseline_model, epochs=10, batch_size=32, verbose=0)\n",
    "kfold = StratifiedKFold(n_splits=5, shuffle=True)\n",
    "results = cross_val_score(estimator, x.values, t.values, cv=kfold)\n",
    "print(results)\n",
    "print(\"Accuracy: %.2f%% (%.2f%%)\" % (results.mean()*100, results.std()*100))"
   ]
  },
  {
   "cell_type": "code",
   "execution_count": 534,
   "metadata": {},
   "outputs": [
    {
     "name": "stdout",
     "output_type": "stream",
     "text": [
      "Train on 1097 samples, validate on 275 samples\n",
      "Epoch 1/10\n",
      "1097/1097 [==============================] - 1s 1ms/sample - loss: 0.9979 - accuracy: 0.5552 - val_loss: 0.9930 - val_accuracy: 0.5564\n",
      "Epoch 2/10\n",
      "1097/1097 [==============================] - 0s 205us/sample - loss: 0.9976 - accuracy: 0.5552 - val_loss: 0.9927 - val_accuracy: 0.5564\n",
      "Epoch 3/10\n",
      "1097/1097 [==============================] - 0s 172us/sample - loss: 0.9974 - accuracy: 0.5552 - val_loss: 0.9925 - val_accuracy: 0.5564\n",
      "Epoch 4/10\n",
      "1097/1097 [==============================] - 0s 177us/sample - loss: 0.9972 - accuracy: 0.5552 - val_loss: 0.9923 - val_accuracy: 0.5564\n",
      "Epoch 5/10\n",
      "1097/1097 [==============================] - 0s 196us/sample - loss: 0.9969 - accuracy: 0.5552 - val_loss: 0.9920 - val_accuracy: 0.5564\n",
      "Epoch 6/10\n",
      "1097/1097 [==============================] - 0s 185us/sample - loss: 0.9967 - accuracy: 0.5552 - val_loss: 0.9918 - val_accuracy: 0.5564\n",
      "Epoch 7/10\n",
      "1097/1097 [==============================] - 1s 487us/sample - loss: 0.9964 - accuracy: 0.5552 - val_loss: 0.9915 - val_accuracy: 0.5564\n",
      "Epoch 8/10\n",
      "1097/1097 [==============================] - 0s 246us/sample - loss: 0.9962 - accuracy: 0.5552 - val_loss: 0.9913 - val_accuracy: 0.5564\n",
      "Epoch 9/10\n",
      "1097/1097 [==============================] - 0s 282us/sample - loss: 0.9959 - accuracy: 0.5552 - val_loss: 0.9910 - val_accuracy: 0.5564\n",
      "Epoch 10/10\n",
      "1097/1097 [==============================] - 0s 397us/sample - loss: 0.9957 - accuracy: 0.5552 - val_loss: 0.9908 - val_accuracy: 0.5564\n"
     ]
    },
    {
     "data": {
      "text/plain": [
       "<tensorflow.python.keras.callbacks.History at 0x189225fd0>"
      ]
     },
     "execution_count": 534,
     "metadata": {},
     "output_type": "execute_result"
    }
   ],
   "source": [
    "model = baseline_model()\n",
    "model.fit(x_train, t_train, validation_data=(x_test, t_test), epochs=10) # default batch size: 32"
   ]
  },
  {
   "cell_type": "markdown",
   "metadata": {},
   "source": [
    "**Remarks:** Train/test and CV results are similar. They stink. Not only is accuracy low, it doesn't even improve from the first epoch to the last."
   ]
  },
  {
   "cell_type": "markdown",
   "metadata": {},
   "source": [
    "## With dropout"
   ]
  },
  {
   "cell_type": "markdown",
   "metadata": {},
   "source": [
    "### In 2nd hidden layer: dropout ratio 0.25"
   ]
  },
  {
   "cell_type": "code",
   "execution_count": 535,
   "metadata": {},
   "outputs": [],
   "source": [
    "def basic_dropout_model():\n",
    "    return get_model(3, [10, 10, 1], ['sigmoid'] * 3, 'binary_crossentropy', 'Adadelta', ['accuracy'],\n",
    "                     dropout=[0, 0.25, 0])"
   ]
  },
  {
   "cell_type": "code",
   "execution_count": 536,
   "metadata": {},
   "outputs": [
    {
     "name": "stdout",
     "output_type": "stream",
     "text": [
      "[0.44363636 0.55636364 0.44525549 0.48175183 0.44525549]\n",
      "Accuracy: 47.45% (4.34%)\n"
     ]
    }
   ],
   "source": [
    "estimator = KerasClassifier(build_fn=basic_dropout_model, epochs=10, batch_size=32, verbose=0)\n",
    "kfold = StratifiedKFold(n_splits=5, shuffle=True)\n",
    "results = cross_val_score(estimator, x.values, t.values, cv=kfold)\n",
    "print(results)\n",
    "print(\"Accuracy: %.2f%% (%.2f%%)\" % (results.mean()*100, results.std()*100))"
   ]
  },
  {
   "cell_type": "code",
   "execution_count": 537,
   "metadata": {},
   "outputs": [
    {
     "name": "stdout",
     "output_type": "stream",
     "text": [
      "Train on 1097 samples, validate on 275 samples\n",
      "Epoch 1/10\n",
      "1097/1097 [==============================] - 2s 2ms/sample - loss: 0.7045 - accuracy: 0.5360 - val_loss: 0.6858 - val_accuracy: 0.5564\n",
      "Epoch 2/10\n",
      "1097/1097 [==============================] - 0s 186us/sample - loss: 0.7198 - accuracy: 0.4986 - val_loss: 0.6858 - val_accuracy: 0.5564\n",
      "Epoch 3/10\n",
      "1097/1097 [==============================] - 0s 217us/sample - loss: 0.7021 - accuracy: 0.5606 - val_loss: 0.6858 - val_accuracy: 0.5564\n",
      "Epoch 4/10\n",
      "1097/1097 [==============================] - 0s 179us/sample - loss: 0.7071 - accuracy: 0.5351 - val_loss: 0.6857 - val_accuracy: 0.5564\n",
      "Epoch 5/10\n",
      "1097/1097 [==============================] - 0s 186us/sample - loss: 0.7052 - accuracy: 0.5397 - val_loss: 0.6857 - val_accuracy: 0.5564\n",
      "Epoch 6/10\n",
      "1097/1097 [==============================] - 0s 182us/sample - loss: 0.7086 - accuracy: 0.5369 - val_loss: 0.6857 - val_accuracy: 0.5564\n",
      "Epoch 7/10\n",
      "1097/1097 [==============================] - 0s 205us/sample - loss: 0.7067 - accuracy: 0.5314 - val_loss: 0.6857 - val_accuracy: 0.5564\n",
      "Epoch 8/10\n",
      "1097/1097 [==============================] - 0s 182us/sample - loss: 0.7004 - accuracy: 0.5479 - val_loss: 0.6857 - val_accuracy: 0.5564\n",
      "Epoch 9/10\n",
      "1097/1097 [==============================] - 0s 184us/sample - loss: 0.6999 - accuracy: 0.5397 - val_loss: 0.6856 - val_accuracy: 0.5564\n",
      "Epoch 10/10\n",
      "1097/1097 [==============================] - 0s 182us/sample - loss: 0.7040 - accuracy: 0.5242 - val_loss: 0.6856 - val_accuracy: 0.5564\n"
     ]
    },
    {
     "data": {
      "text/plain": [
       "<tensorflow.python.keras.callbacks.History at 0x1a9dd8fd0>"
      ]
     },
     "execution_count": 537,
     "metadata": {},
     "output_type": "execute_result"
    }
   ],
   "source": [
    "model = basic_dropout_model()\n",
    "model.fit(x_train, t_train, validation_data=(x_test, t_test), epochs=10) # default batch size: 32"
   ]
  },
  {
   "cell_type": "markdown",
   "metadata": {},
   "source": [
    "**Remarks:** The results are better, but they're still not good."
   ]
  },
  {
   "cell_type": "markdown",
   "metadata": {},
   "source": [
    "### In 2nd hidden layer: dropout ratio 0.4"
   ]
  },
  {
   "cell_type": "code",
   "execution_count": 454,
   "metadata": {},
   "outputs": [],
   "source": [
    "def basic_dropout_model_pt4():\n",
    "    return get_model(3, [10, 10, 1], ['sigmoid'] * 3, 'binary_crossentropy', 'Adadelta', ['accuracy'],\n",
    "                     dropout=[0, 0.4, 0])"
   ]
  },
  {
   "cell_type": "code",
   "execution_count": 455,
   "metadata": {},
   "outputs": [
    {
     "name": "stdout",
     "output_type": "stream",
     "text": [
      "[0.44363636 0.5090909  0.44525549 0.55474454 0.55474454]\n",
      "Accuracy: 50.15% (4.95%)\n"
     ]
    }
   ],
   "source": [
    "estimator = KerasClassifier(build_fn=basic_dropout_model_pt4, epochs=10, batch_size=32, verbose=0)\n",
    "kfold = StratifiedKFold(n_splits=5, shuffle=True)\n",
    "results = cross_val_score(estimator, x.values, t.values, cv=kfold)\n",
    "print(results)\n",
    "print(\"Accuracy: %.2f%% (%.2f%%)\" % (results.mean()*100, results.std()*100))"
   ]
  },
  {
   "cell_type": "code",
   "execution_count": 456,
   "metadata": {},
   "outputs": [
    {
     "name": "stdout",
     "output_type": "stream",
     "text": [
      "Train on 1097 samples, validate on 275 samples\n",
      "Epoch 1/10\n",
      "1097/1097 [==============================] - 1s 1ms/sample - loss: 1.2271 - accuracy: 0.4448 - val_loss: 1.1855 - val_accuracy: 0.4436\n",
      "Epoch 2/10\n",
      "1097/1097 [==============================] - 0s 185us/sample - loss: 1.2100 - accuracy: 0.4476 - val_loss: 1.1852 - val_accuracy: 0.4436\n",
      "Epoch 3/10\n",
      "1097/1097 [==============================] - 0s 352us/sample - loss: 1.2016 - accuracy: 0.4448 - val_loss: 1.1850 - val_accuracy: 0.4436\n",
      "Epoch 4/10\n",
      "1097/1097 [==============================] - 0s 244us/sample - loss: 1.2235 - accuracy: 0.4448 - val_loss: 1.1847 - val_accuracy: 0.4436\n",
      "Epoch 5/10\n",
      "1097/1097 [==============================] - 0s 250us/sample - loss: 1.1889 - accuracy: 0.4448 - val_loss: 1.1844 - val_accuracy: 0.4436\n",
      "Epoch 6/10\n",
      "1097/1097 [==============================] - 0s 213us/sample - loss: 1.1899 - accuracy: 0.4439 - val_loss: 1.1841 - val_accuracy: 0.4436\n",
      "Epoch 7/10\n",
      "1097/1097 [==============================] - 0s 320us/sample - loss: 1.1882 - accuracy: 0.4448 - val_loss: 1.1838 - val_accuracy: 0.4436\n",
      "Epoch 8/10\n",
      "1097/1097 [==============================] - 0s 340us/sample - loss: 1.2327 - accuracy: 0.4448 - val_loss: 1.1835 - val_accuracy: 0.4436\n",
      "Epoch 9/10\n",
      "1097/1097 [==============================] - 0s 328us/sample - loss: 1.2103 - accuracy: 0.4439 - val_loss: 1.1831 - val_accuracy: 0.4436\n",
      "Epoch 10/10\n",
      "1097/1097 [==============================] - 0s 253us/sample - loss: 1.2099 - accuracy: 0.4458 - val_loss: 1.1828 - val_accuracy: 0.4436\n"
     ]
    },
    {
     "data": {
      "text/plain": [
       "<tensorflow.python.keras.callbacks.History at 0x1a6e2c400>"
      ]
     },
     "execution_count": 456,
     "metadata": {},
     "output_type": "execute_result"
    }
   ],
   "source": [
    "model = basic_dropout_model_pt4()\n",
    "model.fit(x_train, t_train, validation_data=(x_test, t_test), epochs=10) # default batch size: 32"
   ]
  },
  {
   "cell_type": "markdown",
   "metadata": {},
   "source": [
    "**Remarks:** The range of results here seem similarly wide to those from the architecture with dropout ratio 0.25 in the 2nd (last) hidden layer, so it's not clear if they're substantively different."
   ]
  },
  {
   "cell_type": "markdown",
   "metadata": {},
   "source": [
    "### Dropout ratio 0.2 for both hidden layers"
   ]
  },
  {
   "cell_type": "code",
   "execution_count": 457,
   "metadata": {},
   "outputs": [],
   "source": [
    "def all_dropout_model():\n",
    "    return get_model(3, [10, 10, 1], ['sigmoid'] * 3, 'binary_crossentropy', 'Adadelta', ['accuracy'],\n",
    "                     dropout=[0.2, 0.2, 0])"
   ]
  },
  {
   "cell_type": "code",
   "execution_count": 458,
   "metadata": {},
   "outputs": [
    {
     "name": "stdout",
     "output_type": "stream",
     "text": [
      "[0.44363636 0.28363636 0.60583943 0.37956205 0.45985401]\n",
      "Accuracy: 43.45% (10.57%)\n"
     ]
    }
   ],
   "source": [
    "estimator = KerasClassifier(build_fn=all_dropout_model, epochs=10, batch_size=32, verbose=0)\n",
    "kfold = StratifiedKFold(n_splits=5, shuffle=True)\n",
    "results = cross_val_score(estimator, x.values, t.values, cv=kfold)\n",
    "print(results)\n",
    "print(\"Accuracy: %.2f%% (%.2f%%)\" % (results.mean()*100, results.std()*100))"
   ]
  },
  {
   "cell_type": "code",
   "execution_count": 459,
   "metadata": {},
   "outputs": [
    {
     "name": "stdout",
     "output_type": "stream",
     "text": [
      "Train on 1097 samples, validate on 275 samples\n",
      "Epoch 1/10\n",
      "1097/1097 [==============================] - 12s 11ms/sample - loss: 0.8541 - accuracy: 0.4458 - val_loss: 0.8543 - val_accuracy: 0.4436\n",
      "Epoch 2/10\n",
      "1097/1097 [==============================] - 0s 179us/sample - loss: 0.8597 - accuracy: 0.4467 - val_loss: 0.8542 - val_accuracy: 0.4436\n",
      "Epoch 3/10\n",
      "1097/1097 [==============================] - 0s 183us/sample - loss: 0.8580 - accuracy: 0.4448 - val_loss: 0.8540 - val_accuracy: 0.4436\n",
      "Epoch 4/10\n",
      "1097/1097 [==============================] - 0s 186us/sample - loss: 0.8604 - accuracy: 0.4467 - val_loss: 0.8539 - val_accuracy: 0.4436\n",
      "Epoch 5/10\n",
      "1097/1097 [==============================] - 0s 178us/sample - loss: 0.8645 - accuracy: 0.4448 - val_loss: 0.8537 - val_accuracy: 0.4436\n",
      "Epoch 6/10\n",
      "1097/1097 [==============================] - 0s 207us/sample - loss: 0.8517 - accuracy: 0.4458 - val_loss: 0.8536 - val_accuracy: 0.4436\n",
      "Epoch 7/10\n",
      "1097/1097 [==============================] - 0s 172us/sample - loss: 0.8586 - accuracy: 0.4448 - val_loss: 0.8534 - val_accuracy: 0.4436\n",
      "Epoch 8/10\n",
      "1097/1097 [==============================] - 0s 179us/sample - loss: 0.8569 - accuracy: 0.4439 - val_loss: 0.8533 - val_accuracy: 0.4436\n",
      "Epoch 9/10\n",
      "1097/1097 [==============================] - 0s 180us/sample - loss: 0.8613 - accuracy: 0.4448 - val_loss: 0.8531 - val_accuracy: 0.4436\n",
      "Epoch 10/10\n",
      "1097/1097 [==============================] - 0s 232us/sample - loss: 0.8623 - accuracy: 0.4476 - val_loss: 0.8529 - val_accuracy: 0.4436\n"
     ]
    },
    {
     "data": {
      "text/plain": [
       "<tensorflow.python.keras.callbacks.History at 0x1aad74160>"
      ]
     },
     "execution_count": 459,
     "metadata": {},
     "output_type": "execute_result"
    }
   ],
   "source": [
    "model = all_dropout_model()\n",
    "model.fit(x_train, t_train, validation_data=(x_test, t_test), epochs=10) # default batch size: 32"
   ]
  },
  {
   "cell_type": "markdown",
   "metadata": {},
   "source": [
    "**Remarks:** The results again seem to vary widely, and it's unclear whether this architecture is substantively different."
   ]
  },
  {
   "cell_type": "markdown",
   "metadata": {},
   "source": [
    "## Using relu instead of sigmoid activation in hidden layers"
   ]
  },
  {
   "cell_type": "code",
   "execution_count": 460,
   "metadata": {},
   "outputs": [],
   "source": [
    "def basic_relu_model():\n",
    "    return get_model(3, [10, 10, 1], ['relu', 'relu', 'sigmoid'], 'binary_crossentropy', 'Adadelta', ['accuracy'],\n",
    "                     dropout=[0, 0.25, 0])"
   ]
  },
  {
   "cell_type": "code",
   "execution_count": 461,
   "metadata": {},
   "outputs": [
    {
     "name": "stdout",
     "output_type": "stream",
     "text": [
      "[0.43636364 0.22909091 0.56569344 0.50729924 0.67518246]\n",
      "Accuracy: 48.27% (14.90%)\n"
     ]
    }
   ],
   "source": [
    "estimator = KerasClassifier(build_fn=basic_relu_model, epochs=10, batch_size=32, verbose=0)\n",
    "kfold = StratifiedKFold(n_splits=5, shuffle=True)\n",
    "results = cross_val_score(estimator, x.values, t.values, cv=kfold)\n",
    "print(results)\n",
    "print(\"Accuracy: %.2f%% (%.2f%%)\" % (results.mean()*100, results.std()*100))"
   ]
  },
  {
   "cell_type": "code",
   "execution_count": 462,
   "metadata": {},
   "outputs": [
    {
     "name": "stdout",
     "output_type": "stream",
     "text": [
      "Train on 1097 samples, validate on 275 samples\n",
      "Epoch 1/10\n",
      "1097/1097 [==============================] - 2s 2ms/sample - loss: 0.6906 - accuracy: 0.5278 - val_loss: 0.6949 - val_accuracy: 0.5491\n",
      "Epoch 2/10\n",
      "1097/1097 [==============================] - 0s 195us/sample - loss: 0.6937 - accuracy: 0.5232 - val_loss: 0.6947 - val_accuracy: 0.5491\n",
      "Epoch 3/10\n",
      "1097/1097 [==============================] - 0s 210us/sample - loss: 0.6946 - accuracy: 0.5287 - val_loss: 0.6945 - val_accuracy: 0.5491\n",
      "Epoch 4/10\n",
      "1097/1097 [==============================] - 0s 203us/sample - loss: 0.6969 - accuracy: 0.5251 - val_loss: 0.6944 - val_accuracy: 0.5491\n",
      "Epoch 5/10\n",
      "1097/1097 [==============================] - 0s 182us/sample - loss: 0.6986 - accuracy: 0.5160 - val_loss: 0.6942 - val_accuracy: 0.5491\n",
      "Epoch 6/10\n",
      "1097/1097 [==============================] - 0s 314us/sample - loss: 0.6942 - accuracy: 0.5141 - val_loss: 0.6940 - val_accuracy: 0.5527\n",
      "Epoch 7/10\n",
      "1097/1097 [==============================] - 0s 247us/sample - loss: 0.6942 - accuracy: 0.5351 - val_loss: 0.6938 - val_accuracy: 0.5527\n",
      "Epoch 8/10\n",
      "1097/1097 [==============================] - 0s 182us/sample - loss: 0.7014 - accuracy: 0.5251 - val_loss: 0.6937 - val_accuracy: 0.5527\n",
      "Epoch 9/10\n",
      "1097/1097 [==============================] - 0s 205us/sample - loss: 0.6954 - accuracy: 0.5333 - val_loss: 0.6935 - val_accuracy: 0.5527\n",
      "Epoch 10/10\n",
      "1097/1097 [==============================] - 0s 299us/sample - loss: 0.6928 - accuracy: 0.5415 - val_loss: 0.6933 - val_accuracy: 0.5527\n"
     ]
    },
    {
     "data": {
      "text/plain": [
       "<tensorflow.python.keras.callbacks.History at 0x16be133c8>"
      ]
     },
     "execution_count": 462,
     "metadata": {},
     "output_type": "execute_result"
    }
   ],
   "source": [
    "model = basic_relu_model()\n",
    "model.fit(x_train, t_train, validation_data=(x_test, t_test), epochs=10) # default batch size: 32"
   ]
  },
  {
   "cell_type": "markdown",
   "metadata": {},
   "source": [
    "**Remarks:** The results are substantially better than with 2 sigmoid-activation hidden layers."
   ]
  },
  {
   "cell_type": "markdown",
   "metadata": {},
   "source": [
    "## Varying network depth & width (hidden layer numbers & sizes)"
   ]
  },
  {
   "cell_type": "markdown",
   "metadata": {},
   "source": [
    "### Using sigmoid activations"
   ]
  },
  {
   "cell_type": "code",
   "execution_count": 538,
   "metadata": {},
   "outputs": [],
   "source": [
    "def bigger_sigmoid_model():\n",
    "    return get_model(3, [40, 20, 1], ['sigmoid'] * 3, 'binary_crossentropy', 'Adadelta', ['accuracy'],\n",
    "                     dropout=[0, 0.25, 0])"
   ]
  },
  {
   "cell_type": "code",
   "execution_count": 539,
   "metadata": {},
   "outputs": [
    {
     "name": "stdout",
     "output_type": "stream",
     "text": [
      "[0.44363636 0.44363636 0.44525549 0.55474454 0.55474454]\n",
      "Accuracy: 48.84% (5.42%)\n"
     ]
    }
   ],
   "source": [
    "estimator = KerasClassifier(build_fn=bigger_sigmoid_model, epochs=10, batch_size=32, verbose=0)\n",
    "kfold = StratifiedKFold(n_splits=5, shuffle=True)\n",
    "results = cross_val_score(estimator, x.values, t.values, cv=kfold)\n",
    "print(results)\n",
    "print(\"Accuracy: %.2f%% (%.2f%%)\" % (results.mean()*100, results.std()*100))"
   ]
  },
  {
   "cell_type": "code",
   "execution_count": 540,
   "metadata": {},
   "outputs": [
    {
     "name": "stdout",
     "output_type": "stream",
     "text": [
      "Train on 1097 samples, validate on 275 samples\n",
      "Epoch 1/10\n",
      "1097/1097 [==============================] - 2s 2ms/sample - loss: 0.7107 - accuracy: 0.5269 - val_loss: 0.6934 - val_accuracy: 0.5564\n",
      "Epoch 2/10\n",
      "1097/1097 [==============================] - 0s 184us/sample - loss: 0.7072 - accuracy: 0.5542 - val_loss: 0.6933 - val_accuracy: 0.5564\n",
      "Epoch 3/10\n",
      "1097/1097 [==============================] - 0s 199us/sample - loss: 0.7208 - accuracy: 0.5314 - val_loss: 0.6932 - val_accuracy: 0.5564\n",
      "Epoch 4/10\n",
      "1097/1097 [==============================] - 0s 230us/sample - loss: 0.7095 - accuracy: 0.5479 - val_loss: 0.6932 - val_accuracy: 0.5564\n",
      "Epoch 5/10\n",
      "1097/1097 [==============================] - 0s 203us/sample - loss: 0.7076 - accuracy: 0.5324 - val_loss: 0.6931 - val_accuracy: 0.5564\n",
      "Epoch 6/10\n",
      "1097/1097 [==============================] - 0s 187us/sample - loss: 0.7001 - accuracy: 0.5415 - val_loss: 0.6930 - val_accuracy: 0.5564\n",
      "Epoch 7/10\n",
      "1097/1097 [==============================] - 0s 183us/sample - loss: 0.7166 - accuracy: 0.5406 - val_loss: 0.6930 - val_accuracy: 0.5564\n",
      "Epoch 8/10\n",
      "1097/1097 [==============================] - 0s 184us/sample - loss: 0.7178 - accuracy: 0.5324 - val_loss: 0.6929 - val_accuracy: 0.5564\n",
      "Epoch 9/10\n",
      "1097/1097 [==============================] - 0s 301us/sample - loss: 0.7078 - accuracy: 0.5451 - val_loss: 0.6929 - val_accuracy: 0.5564\n",
      "Epoch 10/10\n",
      "1097/1097 [==============================] - 0s 187us/sample - loss: 0.7184 - accuracy: 0.5305 - val_loss: 0.6928 - val_accuracy: 0.5564\n"
     ]
    },
    {
     "data": {
      "text/plain": [
       "<tensorflow.python.keras.callbacks.History at 0x1c35b5b70>"
      ]
     },
     "execution_count": 540,
     "metadata": {},
     "output_type": "execute_result"
    }
   ],
   "source": [
    "model = bigger_sigmoid_model()\n",
    "model.fit(x_train, t_train, validation_data=(x_test, t_test), epochs=10) # default batch size: 32"
   ]
  },
  {
   "cell_type": "markdown",
   "metadata": {},
   "source": [
    "**Remarks:** Still not substantially better than the same model with 10 units per hidden layer. Also tried (60, 20), but the gains seem small relative to the increase in model complexity."
   ]
  },
  {
   "cell_type": "markdown",
   "metadata": {},
   "source": [
    "### Using ReLu activations"
   ]
  },
  {
   "cell_type": "code",
   "execution_count": 542,
   "metadata": {},
   "outputs": [],
   "source": [
    "def bigger_relu_model():\n",
    "    return get_model(3, [40, 20, 1], ['relu', 'relu', 'sigmoid'], 'binary_crossentropy', 'Adadelta', ['accuracy'],\n",
    "                     dropout=[0, 0.25, 0])"
   ]
  },
  {
   "cell_type": "code",
   "execution_count": 543,
   "metadata": {},
   "outputs": [
    {
     "name": "stdout",
     "output_type": "stream",
     "text": [
      "[0.38545454 0.46909091 0.66423357 0.69343066 0.55474454]\n",
      "Accuracy: 55.34% (11.59%)\n"
     ]
    }
   ],
   "source": [
    "estimator = KerasClassifier(build_fn=bigger_relu_model, epochs=10, batch_size=32, verbose=0)\n",
    "kfold = StratifiedKFold(n_splits=5, shuffle=True)\n",
    "results = cross_val_score(estimator, x.values, t.values, cv=kfold)\n",
    "print(results)\n",
    "print(\"Accuracy: %.2f%% (%.2f%%)\" % (results.mean()*100, results.std()*100))"
   ]
  },
  {
   "cell_type": "code",
   "execution_count": 544,
   "metadata": {},
   "outputs": [
    {
     "name": "stdout",
     "output_type": "stream",
     "text": [
      "Train on 1097 samples, validate on 275 samples\n",
      "Epoch 1/10\n",
      "1097/1097 [==============================] - 2s 1ms/sample - loss: 0.6929 - accuracy: 0.5552 - val_loss: 0.6860 - val_accuracy: 0.5564\n",
      "Epoch 2/10\n",
      "1097/1097 [==============================] - 0s 228us/sample - loss: 0.6972 - accuracy: 0.5469 - val_loss: 0.6856 - val_accuracy: 0.5564\n",
      "Epoch 3/10\n",
      "1097/1097 [==============================] - 0s 187us/sample - loss: 0.6986 - accuracy: 0.5506 - val_loss: 0.6853 - val_accuracy: 0.5564\n",
      "Epoch 4/10\n",
      "1097/1097 [==============================] - 0s 187us/sample - loss: 0.6952 - accuracy: 0.5561 - val_loss: 0.6850 - val_accuracy: 0.5564\n",
      "Epoch 5/10\n",
      "1097/1097 [==============================] - 0s 190us/sample - loss: 0.6978 - accuracy: 0.5606 - val_loss: 0.6847 - val_accuracy: 0.5564\n",
      "Epoch 6/10\n",
      "1097/1097 [==============================] - 0s 184us/sample - loss: 0.6984 - accuracy: 0.5506 - val_loss: 0.6844 - val_accuracy: 0.5564\n",
      "Epoch 7/10\n",
      "1097/1097 [==============================] - 0s 232us/sample - loss: 0.6959 - accuracy: 0.5570 - val_loss: 0.6840 - val_accuracy: 0.5564\n",
      "Epoch 8/10\n",
      "1097/1097 [==============================] - 0s 192us/sample - loss: 0.6948 - accuracy: 0.5469 - val_loss: 0.6837 - val_accuracy: 0.5564\n",
      "Epoch 9/10\n",
      "1097/1097 [==============================] - 0s 178us/sample - loss: 0.6986 - accuracy: 0.5488 - val_loss: 0.6834 - val_accuracy: 0.5564\n",
      "Epoch 10/10\n",
      "1097/1097 [==============================] - 0s 205us/sample - loss: 0.6949 - accuracy: 0.5552 - val_loss: 0.6830 - val_accuracy: 0.5564\n"
     ]
    },
    {
     "data": {
      "text/plain": [
       "<tensorflow.python.keras.callbacks.History at 0x1cb9ce390>"
      ]
     },
     "execution_count": 544,
     "metadata": {},
     "output_type": "execute_result"
    }
   ],
   "source": [
    "model = bigger_relu_model()\n",
    "model.fit(x_train, t_train, validation_data=(x_test, t_test), epochs=10) # default batch size: 32"
   ]
  },
  {
   "cell_type": "code",
   "execution_count": 545,
   "metadata": {},
   "outputs": [],
   "source": [
    "def medium_relu_model():\n",
    "    return get_model(3, [20, 20, 1], ['relu', 'relu', 'sigmoid'], 'binary_crossentropy', 'Adadelta', ['accuracy'],\n",
    "                     dropout=[0, 0.25, 0])"
   ]
  },
  {
   "cell_type": "code",
   "execution_count": 546,
   "metadata": {},
   "outputs": [
    {
     "name": "stdout",
     "output_type": "stream",
     "text": [
      "[0.43636364 0.42909092 0.41240877 0.60948902 0.59489053]\n",
      "Accuracy: 49.64% (8.68%)\n"
     ]
    }
   ],
   "source": [
    "estimator = KerasClassifier(build_fn=medium_relu_model, epochs=10, batch_size=32, verbose=0)\n",
    "kfold = StratifiedKFold(n_splits=5, shuffle=True)\n",
    "results = cross_val_score(estimator, x.values, t.values, cv=kfold)\n",
    "print(results)\n",
    "print(\"Accuracy: %.2f%% (%.2f%%)\" % (results.mean()*100, results.std()*100))"
   ]
  },
  {
   "cell_type": "code",
   "execution_count": 547,
   "metadata": {},
   "outputs": [
    {
     "name": "stdout",
     "output_type": "stream",
     "text": [
      "Train on 1097 samples, validate on 275 samples\n",
      "Epoch 1/10\n",
      "1097/1097 [==============================] - 2s 1ms/sample - loss: 0.6775 - accuracy: 0.5880 - val_loss: 0.6916 - val_accuracy: 0.5600\n",
      "Epoch 2/10\n",
      "1097/1097 [==============================] - 0s 183us/sample - loss: 0.6813 - accuracy: 0.5798 - val_loss: 0.6914 - val_accuracy: 0.5600\n",
      "Epoch 3/10\n",
      "1097/1097 [==============================] - 0s 182us/sample - loss: 0.6774 - accuracy: 0.5834 - val_loss: 0.6912 - val_accuracy: 0.5600\n",
      "Epoch 4/10\n",
      "1097/1097 [==============================] - 0s 380us/sample - loss: 0.6817 - accuracy: 0.5962 - val_loss: 0.6910 - val_accuracy: 0.5600\n",
      "Epoch 5/10\n",
      "1097/1097 [==============================] - 0s 281us/sample - loss: 0.6805 - accuracy: 0.5670 - val_loss: 0.6909 - val_accuracy: 0.5600\n",
      "Epoch 6/10\n",
      "1097/1097 [==============================] - 0s 224us/sample - loss: 0.6738 - accuracy: 0.5962 - val_loss: 0.6907 - val_accuracy: 0.5636\n",
      "Epoch 7/10\n",
      "1097/1097 [==============================] - 0s 276us/sample - loss: 0.6813 - accuracy: 0.5898 - val_loss: 0.6905 - val_accuracy: 0.5636\n",
      "Epoch 8/10\n",
      "1097/1097 [==============================] - 0s 272us/sample - loss: 0.6789 - accuracy: 0.5934 - val_loss: 0.6903 - val_accuracy: 0.5636\n",
      "Epoch 9/10\n",
      "1097/1097 [==============================] - 0s 200us/sample - loss: 0.6778 - accuracy: 0.5907 - val_loss: 0.6901 - val_accuracy: 0.5636\n",
      "Epoch 10/10\n",
      "1097/1097 [==============================] - 0s 194us/sample - loss: 0.6835 - accuracy: 0.5743 - val_loss: 0.6899 - val_accuracy: 0.5636\n"
     ]
    },
    {
     "data": {
      "text/plain": [
       "<tensorflow.python.keras.callbacks.History at 0x1d67f5d68>"
      ]
     },
     "execution_count": 547,
     "metadata": {},
     "output_type": "execute_result"
    }
   ],
   "source": [
    "model = medium_relu_model()\n",
    "model.fit(x_train, t_train, validation_data=(x_test, t_test), epochs=10) # default batch size: 32"
   ]
  },
  {
   "cell_type": "markdown",
   "metadata": {},
   "source": [
    "**Remarks:** ReLu seems to vary dramatically in performance on this dataset. Over several runs (many omitted from the spreadsheet for consistency, and including more basic (10, 10) ReLu network runs), it shows both the highest and lowest accuracies seen so far. In fact, the limited training rounds I've run may suggest its performance is declining with increasing hidden layer units, which could be an indication of overfitting."
   ]
  },
  {
   "cell_type": "markdown",
   "metadata": {},
   "source": [
    "### Using both sigmoid and ReLu activations"
   ]
  },
  {
   "cell_type": "code",
   "execution_count": 490,
   "metadata": {},
   "outputs": [],
   "source": [
    "def relu_sigmoid_model():\n",
    "    return get_model(3, [10, 20, 1], ['relu', 'sigmoid', 'sigmoid'], 'binary_crossentropy', 'Adadelta', ['accuracy'],\n",
    "                     dropout=[0, 0.25, 0])"
   ]
  },
  {
   "cell_type": "code",
   "execution_count": 497,
   "metadata": {},
   "outputs": [
    {
     "name": "stdout",
     "output_type": "stream",
     "text": [
      "[0.55636364 0.44363636 0.55474454 0.53649634 0.47080293]\n",
      "Accuracy: 51.24% (4.64%)\n"
     ]
    }
   ],
   "source": [
    "estimator = KerasClassifier(build_fn=relu_sigmoid_model, epochs=10, batch_size=32, verbose=0)\n",
    "kfold = StratifiedKFold(n_splits=5, shuffle=True)\n",
    "results = cross_val_score(estimator, x.values, t.values, cv=kfold)\n",
    "print(results)\n",
    "print(\"Accuracy: %.2f%% (%.2f%%)\" % (results.mean()*100, results.std()*100))"
   ]
  },
  {
   "cell_type": "code",
   "execution_count": 498,
   "metadata": {},
   "outputs": [
    {
     "name": "stdout",
     "output_type": "stream",
     "text": [
      "Train on 1097 samples, validate on 275 samples\n",
      "Epoch 1/10\n",
      "1097/1097 [==============================] - 1s 1ms/sample - loss: 0.7509 - accuracy: 0.4540 - val_loss: 0.7154 - val_accuracy: 0.4073\n",
      "Epoch 2/10\n",
      "1097/1097 [==============================] - 0s 181us/sample - loss: 0.7490 - accuracy: 0.4439 - val_loss: 0.7153 - val_accuracy: 0.4073\n",
      "Epoch 3/10\n",
      "1097/1097 [==============================] - 0s 177us/sample - loss: 0.7306 - accuracy: 0.5005 - val_loss: 0.7152 - val_accuracy: 0.4073\n",
      "Epoch 4/10\n",
      "1097/1097 [==============================] - 0s 209us/sample - loss: 0.7433 - accuracy: 0.4768 - val_loss: 0.7152 - val_accuracy: 0.4073\n",
      "Epoch 5/10\n",
      "1097/1097 [==============================] - 0s 231us/sample - loss: 0.7354 - accuracy: 0.4603 - val_loss: 0.7151 - val_accuracy: 0.4073\n",
      "Epoch 6/10\n",
      "1097/1097 [==============================] - 0s 208us/sample - loss: 0.7392 - accuracy: 0.4795 - val_loss: 0.7150 - val_accuracy: 0.4073\n",
      "Epoch 7/10\n",
      "1097/1097 [==============================] - 0s 182us/sample - loss: 0.7468 - accuracy: 0.4558 - val_loss: 0.7149 - val_accuracy: 0.4073\n",
      "Epoch 8/10\n",
      "1097/1097 [==============================] - 0s 155us/sample - loss: 0.7436 - accuracy: 0.4758 - val_loss: 0.7149 - val_accuracy: 0.4073\n",
      "Epoch 9/10\n",
      "1097/1097 [==============================] - 0s 155us/sample - loss: 0.7310 - accuracy: 0.4758 - val_loss: 0.7148 - val_accuracy: 0.4073\n",
      "Epoch 10/10\n",
      "1097/1097 [==============================] - 0s 161us/sample - loss: 0.7366 - accuracy: 0.4676 - val_loss: 0.7147 - val_accuracy: 0.4073\n"
     ]
    },
    {
     "data": {
      "text/plain": [
       "<tensorflow.python.keras.callbacks.History at 0x1ab810198>"
      ]
     },
     "execution_count": 498,
     "metadata": {},
     "output_type": "execute_result"
    }
   ],
   "source": [
    "model = relu_sigmoid_model()\n",
    "model.fit(x_train, t_train, validation_data=(x_test, t_test), epochs=10) # default batch size: 32"
   ]
  },
  {
   "cell_type": "markdown",
   "metadata": {},
   "source": [
    "**Remarks:** This seems to be one of the most consistent of the networks tried, but again that's not obvious, and may be due to chance."
   ]
  },
  {
   "cell_type": "markdown",
   "metadata": {},
   "source": [
    "### Deeper sigmoid network"
   ]
  },
  {
   "cell_type": "code",
   "execution_count": 558,
   "metadata": {},
   "outputs": [],
   "source": [
    "def deeper_sigmoid_model():\n",
    "    return get_model(3, [10, 10, 10, 1], ['sigmoid'] * 4, 'binary_crossentropy', 'Adadelta', ['accuracy'],\n",
    "                     dropout=[0.25, 0.25, 0.25, 0])"
   ]
  },
  {
   "cell_type": "code",
   "execution_count": 565,
   "metadata": {},
   "outputs": [
    {
     "name": "stdout",
     "output_type": "stream",
     "text": [
      "[0.51163638 0.49490911 0.49671531 0.48905116 0.48576644]\n",
      "Accuracy: 49.56% (0.89%)\n"
     ]
    }
   ],
   "source": [
    "estimator = KerasClassifier(build_fn=deeper_sigmoid_model, epochs=10, batch_size=32, verbose=0)\n",
    "kfold = StratifiedKFold(n_splits=5, shuffle=True)\n",
    "results = cross_val_score(estimator, x.values, t.values, cv=kfold)\n",
    "print(results)\n",
    "print(\"Accuracy: %.2f%% (%.2f%%)\" % (results.mean()*100, results.std()*100))"
   ]
  },
  {
   "cell_type": "code",
   "execution_count": 564,
   "metadata": {},
   "outputs": [
    {
     "name": "stdout",
     "output_type": "stream",
     "text": [
      "Train on 1097 samples, validate on 275 samples\n",
      "Epoch 1/10\n",
      "1097/1097 [==============================] - 2s 1ms/sample - loss: 2.3246 - accuracy: 0.5001 - val_loss: 0.7176 - val_accuracy: 0.4887\n",
      "Epoch 2/10\n",
      "1097/1097 [==============================] - 0s 186us/sample - loss: 2.3827 - accuracy: 0.4871 - val_loss: 0.7176 - val_accuracy: 0.4887\n",
      "Epoch 3/10\n",
      "1097/1097 [==============================] - 0s 186us/sample - loss: 2.2876 - accuracy: 0.4972 - val_loss: 0.7176 - val_accuracy: 0.4887\n",
      "Epoch 4/10\n",
      "1097/1097 [==============================] - 0s 186us/sample - loss: 2.4166 - accuracy: 0.4893 - val_loss: 0.7175 - val_accuracy: 0.4887\n",
      "Epoch 5/10\n",
      "1097/1097 [==============================] - 0s 211us/sample - loss: 2.3539 - accuracy: 0.4924 - val_loss: 0.7175 - val_accuracy: 0.4887\n",
      "Epoch 6/10\n",
      "1097/1097 [==============================] - 0s 190us/sample - loss: 2.4005 - accuracy: 0.4888 - val_loss: 0.7175 - val_accuracy: 0.4887\n",
      "Epoch 7/10\n",
      "1097/1097 [==============================] - 0s 181us/sample - loss: 2.3208 - accuracy: 0.4942 - val_loss: 0.7175 - val_accuracy: 0.4887\n",
      "Epoch 8/10\n",
      "1097/1097 [==============================] - 0s 185us/sample - loss: 2.3316 - accuracy: 0.4844 - val_loss: 0.7175 - val_accuracy: 0.4887\n",
      "Epoch 9/10\n",
      "1097/1097 [==============================] - 0s 189us/sample - loss: 2.4102 - accuracy: 0.4964 - val_loss: 0.7174 - val_accuracy: 0.4887\n",
      "Epoch 10/10\n",
      "1097/1097 [==============================] - 0s 239us/sample - loss: 2.4019 - accuracy: 0.4825 - val_loss: 0.7174 - val_accuracy: 0.4887\n"
     ]
    },
    {
     "data": {
      "text/plain": [
       "<tensorflow.python.keras.callbacks.History at 0x1d2a6f8d0>"
      ]
     },
     "execution_count": 564,
     "metadata": {},
     "output_type": "execute_result"
    }
   ],
   "source": [
    "model = deeper_sigmoid_model()\n",
    "model.fit(x_train, t_train, validation_data=(x_test, t_test), epochs=10) # default batch size: 32"
   ]
  },
  {
   "cell_type": "markdown",
   "metadata": {},
   "source": [
    "### Deeper ReLu network"
   ]
  },
  {
   "cell_type": "code",
   "execution_count": 557,
   "metadata": {},
   "outputs": [],
   "source": [
    "def deeper_relu_model():\n",
    "    return get_model(3, [10, 10, 10, 1], ['relu'] * 3 + ['sigmoid'], 'binary_crossentropy', 'Adadelta', ['accuracy'],\n",
    "                     dropout=[0.25, 0.25, 0.25, 0])"
   ]
  },
  {
   "cell_type": "code",
   "execution_count": 554,
   "metadata": {},
   "outputs": [
    {
     "name": "stdout",
     "output_type": "stream",
     "text": [
      "[0.40981823 0.53672731 0.44051096 0.53284675 0.510584  ]\n",
      "Accuracy: 48.61% (5.15%)\n"
     ]
    }
   ],
   "source": [
    "estimator = KerasClassifier(build_fn=deeper_relu_model, epochs=10, batch_size=32, verbose=0)\n",
    "kfold = StratifiedKFold(n_splits=5, shuffle=True)\n",
    "results = cross_val_score(estimator, x.values, t.values, cv=kfold)\n",
    "print(results)\n",
    "print(\"Accuracy: %.2f%% (%.2f%%)\" % (results.mean()*100, results.std()*100))"
   ]
  },
  {
   "cell_type": "code",
   "execution_count": 553,
   "metadata": {},
   "outputs": [
    {
     "name": "stdout",
     "output_type": "stream",
     "text": [
      "Train on 1097 samples, validate on 275 samples\n",
      "Epoch 1/10\n",
      "1097/1097 [==============================] - 2s 2ms/sample - loss: 4.7007 - accuracy: 0.5838 - val_loss: 3.8548 - val_accuracy: 0.5902\n",
      "Epoch 2/10\n",
      "1097/1097 [==============================] - 0s 357us/sample - loss: 4.7214 - accuracy: 0.5840 - val_loss: 3.8410 - val_accuracy: 0.5902\n",
      "Epoch 3/10\n",
      "1097/1097 [==============================] - 0s 423us/sample - loss: 4.7007 - accuracy: 0.5814 - val_loss: 3.8319 - val_accuracy: 0.5902\n",
      "Epoch 4/10\n",
      "1097/1097 [==============================] - 0s 185us/sample - loss: 4.6080 - accuracy: 0.5855 - val_loss: 3.8199 - val_accuracy: 0.5902\n",
      "Epoch 5/10\n",
      "1097/1097 [==============================] - 0s 223us/sample - loss: 4.7059 - accuracy: 0.5799 - val_loss: 3.8119 - val_accuracy: 0.5902\n",
      "Epoch 6/10\n",
      "1097/1097 [==============================] - 0s 205us/sample - loss: 4.5992 - accuracy: 0.5842 - val_loss: 3.8044 - val_accuracy: 0.5902\n",
      "Epoch 7/10\n",
      "1097/1097 [==============================] - 0s 185us/sample - loss: 4.6835 - accuracy: 0.5827 - val_loss: 3.7979 - val_accuracy: 0.5902\n",
      "Epoch 8/10\n",
      "1097/1097 [==============================] - 0s 185us/sample - loss: 4.6378 - accuracy: 0.5835 - val_loss: 3.7904 - val_accuracy: 0.5902\n",
      "Epoch 9/10\n",
      "1097/1097 [==============================] - 0s 179us/sample - loss: 4.6058 - accuracy: 0.5837 - val_loss: 3.7855 - val_accuracy: 0.5902\n",
      "Epoch 10/10\n",
      "1097/1097 [==============================] - 0s 225us/sample - loss: 4.6289 - accuracy: 0.5834 - val_loss: 3.7801 - val_accuracy: 0.5902\n"
     ]
    },
    {
     "data": {
      "text/plain": [
       "<tensorflow.python.keras.callbacks.History at 0x1c36a5198>"
      ]
     },
     "execution_count": 553,
     "metadata": {},
     "output_type": "execute_result"
    }
   ],
   "source": [
    "model = deeper_relu_model()\n",
    "model.fit(x_train, t_train, validation_data=(x_test, t_test), epochs=10) # default batch size: 32"
   ]
  },
  {
   "cell_type": "markdown",
   "metadata": {},
   "source": [
    "### Remarks on results so far\n",
    "Overall, using sigmoid activation gives lower accuracies as well as variance, though dropout mitigates variance considerably in the case of ReLu. Going by the last two networks, using ReLu or a combination, along with dropout in most/all pre-output layers, seems to be a good move."
   ]
  },
  {
   "cell_type": "markdown",
   "metadata": {},
   "source": [
    "### Deeper ReLu network with dropout ratio 0.2 for input layer"
   ]
  },
  {
   "cell_type": "code",
   "execution_count": 567,
   "metadata": {},
   "outputs": [],
   "source": [
    "def input_dropout_relu_model():\n",
    "    return get_model(3, [10, 10, 10, 1], ['relu'] * 3 + ['sigmoid'], 'binary_crossentropy', 'Adadelta', ['accuracy'],\n",
    "                     dropout=[0.25, 0.25, 0.25, 0], input_dropout=0.2)"
   ]
  },
  {
   "cell_type": "code",
   "execution_count": 574,
   "metadata": {},
   "outputs": [
    {
     "name": "stdout",
     "output_type": "stream",
     "text": [
      "[0.50618184 0.47890908 0.54963499 0.48175183 0.53394163]\n",
      "Accuracy: 51.01% (2.80%)\n"
     ]
    }
   ],
   "source": [
    "estimator = KerasClassifier(build_fn=input_dropout_relu_model, epochs=10, batch_size=32, verbose=0)\n",
    "kfold = StratifiedKFold(n_splits=5, shuffle=True)\n",
    "results = cross_val_score(estimator, x.values, t.values, cv=kfold)\n",
    "print(results)\n",
    "print(\"Accuracy: %.2f%% (%.2f%%)\" % (results.mean()*100, results.std()*100))"
   ]
  },
  {
   "cell_type": "code",
   "execution_count": 575,
   "metadata": {},
   "outputs": [
    {
     "name": "stdout",
     "output_type": "stream",
     "text": [
      "Train on 1097 samples, validate on 275 samples\n",
      "Epoch 1/10\n",
      "1097/1097 [==============================] - 3s 3ms/sample - loss: 4.7535 - accuracy: 0.5686 - val_loss: 3.3144 - val_accuracy: 0.6135\n",
      "Epoch 2/10\n",
      "1097/1097 [==============================] - 0s 212us/sample - loss: 4.8019 - accuracy: 0.5641 - val_loss: 3.3143 - val_accuracy: 0.6135\n",
      "Epoch 3/10\n",
      "1097/1097 [==============================] - 0s 194us/sample - loss: 4.7216 - accuracy: 0.5715 - val_loss: 3.3143 - val_accuracy: 0.6135\n",
      "Epoch 4/10\n",
      "1097/1097 [==============================] - 0s 229us/sample - loss: 4.8082 - accuracy: 0.5705 - val_loss: 3.3143 - val_accuracy: 0.6135\n",
      "Epoch 5/10\n",
      "1097/1097 [==============================] - 0s 275us/sample - loss: 4.7734 - accuracy: 0.5747 - val_loss: 3.3142 - val_accuracy: 0.6135\n",
      "Epoch 6/10\n",
      "1097/1097 [==============================] - 0s 204us/sample - loss: 4.6789 - accuracy: 0.5756 - val_loss: 3.3142 - val_accuracy: 0.6135\n",
      "Epoch 7/10\n",
      "1097/1097 [==============================] - 0s 186us/sample - loss: 4.7600 - accuracy: 0.5812 - val_loss: 3.3142 - val_accuracy: 0.6135\n",
      "Epoch 8/10\n",
      "1097/1097 [==============================] - 0s 196us/sample - loss: 4.7253 - accuracy: 0.5706 - val_loss: 3.3141 - val_accuracy: 0.6135\n",
      "Epoch 9/10\n",
      "1097/1097 [==============================] - 0s 252us/sample - loss: 4.7432 - accuracy: 0.5737 - val_loss: 3.3141 - val_accuracy: 0.6135\n",
      "Epoch 10/10\n",
      "1097/1097 [==============================] - 0s 252us/sample - loss: 4.5995 - accuracy: 0.5793 - val_loss: 3.3141 - val_accuracy: 0.6135\n"
     ]
    },
    {
     "data": {
      "text/plain": [
       "<tensorflow.python.keras.callbacks.History at 0x1c075d0f0>"
      ]
     },
     "execution_count": 575,
     "metadata": {},
     "output_type": "execute_result"
    }
   ],
   "source": [
    "model = input_dropout_relu_model()\n",
    "model.fit(x_train, t_train, validation_data=(x_test, t_test), epochs=10) # default batch size: 32"
   ]
  },
  {
   "cell_type": "markdown",
   "metadata": {},
   "source": [
    "**Remarks:** Adding dropout for the input layer while keeping all other hyperparameters the same appears to hurt performance, maybe because the amount of exploitable information decreases overall, in the absence of an increased number of units in the hidden layers."
   ]
  },
  {
   "cell_type": "markdown",
   "metadata": {},
   "source": [
    "## Varying all of the above"
   ]
  },
  {
   "cell_type": "markdown",
   "metadata": {},
   "source": [
    "### Deeper, wider ReLu network with dropout ratio 0.2 for input layer"
   ]
  },
  {
   "cell_type": "code",
   "execution_count": 83,
   "metadata": {},
   "outputs": [],
   "source": [
    "def relu_model_1():\n",
    "    return get_model(3, [20, 20, 20, 1], ['relu'] * 3 + ['sigmoid'], 'binary_crossentropy', 'Adadelta', ['accuracy'],\n",
    "                     dropout=[0.5, 0.5, 0.5, 0], input_dropout=0.2)"
   ]
  },
  {
   "cell_type": "code",
   "execution_count": 84,
   "metadata": {},
   "outputs": [
    {
     "name": "stdout",
     "output_type": "stream",
     "text": [
      "[0.48872724 0.54563636 0.5109489  0.41277376 0.43613133]\n",
      "Accuracy: 47.88% (4.85%)\n"
     ]
    }
   ],
   "source": [
    "estimator = KerasClassifier(build_fn=relu_model_1, epochs=15, batch_size=32, verbose=0)\n",
    "kfold = StratifiedKFold(n_splits=5, shuffle=True)\n",
    "results = cross_val_score(estimator, x.values, t.values, cv=kfold)\n",
    "print(results)\n",
    "print(\"Accuracy: %.2f%% (%.2f%%)\" % (results.mean()*100, results.std()*100))"
   ]
  },
  {
   "cell_type": "code",
   "execution_count": 85,
   "metadata": {},
   "outputs": [
    {
     "name": "stdout",
     "output_type": "stream",
     "text": [
      "Train on 1097 samples, validate on 275 samples\n",
      "Epoch 1/15\n",
      "1097/1097 [==============================] - 2s 1ms/sample - loss: 5.8052 - accuracy: 0.5512 - val_loss: 4.0204 - val_accuracy: 0.5496\n",
      "Epoch 2/15\n",
      "1097/1097 [==============================] - 0s 185us/sample - loss: 5.8863 - accuracy: 0.5475 - val_loss: 4.0203 - val_accuracy: 0.5496\n",
      "Epoch 3/15\n",
      "1097/1097 [==============================] - 0s 193us/sample - loss: 5.9162 - accuracy: 0.5487 - val_loss: 4.0202 - val_accuracy: 0.5496\n",
      "Epoch 4/15\n",
      "1097/1097 [==============================] - 0s 392us/sample - loss: 5.7903 - accuracy: 0.5509 - val_loss: 4.0201 - val_accuracy: 0.5496\n",
      "Epoch 5/15\n",
      "1097/1097 [==============================] - 0s 235us/sample - loss: 5.9165 - accuracy: 0.5470 - val_loss: 4.0200 - val_accuracy: 0.5496\n",
      "Epoch 6/15\n",
      "1097/1097 [==============================] - 1s 521us/sample - loss: 5.9082 - accuracy: 0.5463 - val_loss: 4.0199 - val_accuracy: 0.5496\n",
      "Epoch 7/15\n",
      "1097/1097 [==============================] - 1s 524us/sample - loss: 5.8592 - accuracy: 0.5469 - val_loss: 4.0198 - val_accuracy: 0.5496\n",
      "Epoch 8/15\n",
      "1097/1097 [==============================] - 0s 303us/sample - loss: 5.8572 - accuracy: 0.5515 - val_loss: 4.0198 - val_accuracy: 0.5496\n",
      "Epoch 9/15\n",
      "1097/1097 [==============================] - 0s 209us/sample - loss: 5.9417 - accuracy: 0.5446 - val_loss: 4.0197 - val_accuracy: 0.5496\n",
      "Epoch 10/15\n",
      "1097/1097 [==============================] - 0s 196us/sample - loss: 5.9001 - accuracy: 0.5460 - val_loss: 4.0196 - val_accuracy: 0.5496\n",
      "Epoch 11/15\n",
      "1097/1097 [==============================] - 0s 185us/sample - loss: 5.8487 - accuracy: 0.5478 - val_loss: 4.0196 - val_accuracy: 0.5496\n",
      "Epoch 12/15\n",
      "1097/1097 [==============================] - 0s 183us/sample - loss: 5.8754 - accuracy: 0.5456 - val_loss: 4.0195 - val_accuracy: 0.5496\n",
      "Epoch 13/15\n",
      "1097/1097 [==============================] - 0s 330us/sample - loss: 5.8834 - accuracy: 0.5459 - val_loss: 4.0194 - val_accuracy: 0.5496\n",
      "Epoch 14/15\n",
      "1097/1097 [==============================] - 0s 265us/sample - loss: 5.8628 - accuracy: 0.5469 - val_loss: 4.0193 - val_accuracy: 0.5496\n",
      "Epoch 15/15\n",
      "1097/1097 [==============================] - 0s 265us/sample - loss: 5.8141 - accuracy: 0.5517 - val_loss: 4.0192 - val_accuracy: 0.5496\n"
     ]
    },
    {
     "data": {
      "text/plain": [
       "<tensorflow.python.keras.callbacks.History at 0x1646db5f8>"
      ]
     },
     "execution_count": 85,
     "metadata": {},
     "output_type": "execute_result"
    }
   ],
   "source": [
    "model = relu_model_1()\n",
    "model.fit(x_train, t_train, validation_data=(x_test, t_test), epochs=15) # default batch size: 32"
   ]
  },
  {
   "cell_type": "markdown",
   "metadata": {},
   "source": [
    "**Remarks:** I tried so many variations on this (# units, dropout ratios), none of which seemed all that different from the rest. In the end I just semi-randomly picked something that seemed _maybe_ better."
   ]
  },
  {
   "cell_type": "markdown",
   "metadata": {},
   "source": [
    "### \"Sandwich\" model: 2 ReLus followed by 1 sigmoid-activated hidden layer"
   ]
  },
  {
   "cell_type": "code",
   "execution_count": 87,
   "metadata": {},
   "outputs": [],
   "source": [
    "def sandwich_model_1():\n",
    "    return get_model(3, [10, 10, 10, 1], ['relu', 'relu', 'sigmoid', 'sigmoid'], 'binary_crossentropy', 'Adadelta',\n",
    "                     ['accuracy'], dropout=[0.25, 0.25, 0.25, 0])"
   ]
  },
  {
   "cell_type": "code",
   "execution_count": 88,
   "metadata": {},
   "outputs": [
    {
     "name": "stdout",
     "output_type": "stream",
     "text": [
      "[0.51054549 0.57236362 0.4813869  0.63394165 0.50875914]\n",
      "Accuracy: 54.14% (5.50%)\n"
     ]
    }
   ],
   "source": [
    "estimator = KerasClassifier(build_fn=sandwich_model_1, epochs=15, batch_size=32, verbose=0)\n",
    "kfold = StratifiedKFold(n_splits=5, shuffle=True)\n",
    "results = cross_val_score(estimator, x.values, t.values, cv=kfold)\n",
    "print(results)\n",
    "print(\"Accuracy: %.2f%% (%.2f%%)\" % (results.mean()*100, results.std()*100))"
   ]
  },
  {
   "cell_type": "code",
   "execution_count": 89,
   "metadata": {},
   "outputs": [
    {
     "name": "stdout",
     "output_type": "stream",
     "text": [
      "Train on 1097 samples, validate on 275 samples\n",
      "Epoch 1/15\n",
      "1097/1097 [==============================] - 2s 2ms/sample - loss: 2.6384 - accuracy: 0.4680 - val_loss: 0.7178 - val_accuracy: 0.4705\n",
      "Epoch 2/15\n",
      "1097/1097 [==============================] - 0s 164us/sample - loss: 2.5675 - accuracy: 0.4720 - val_loss: 0.7178 - val_accuracy: 0.4709\n",
      "Epoch 3/15\n",
      "1097/1097 [==============================] - 0s 160us/sample - loss: 2.5555 - accuracy: 0.4742 - val_loss: 0.7178 - val_accuracy: 0.4709\n",
      "Epoch 4/15\n",
      "1097/1097 [==============================] - 0s 195us/sample - loss: 2.6088 - accuracy: 0.4724 - val_loss: 0.7178 - val_accuracy: 0.4705\n",
      "Epoch 5/15\n",
      "1097/1097 [==============================] - 0s 166us/sample - loss: 2.5048 - accuracy: 0.4773 - val_loss: 0.7178 - val_accuracy: 0.4709\n",
      "Epoch 6/15\n",
      "1097/1097 [==============================] - 0s 199us/sample - loss: 2.5711 - accuracy: 0.4672 - val_loss: 0.7178 - val_accuracy: 0.4713\n",
      "Epoch 7/15\n",
      "1097/1097 [==============================] - 0s 156us/sample - loss: 2.5852 - accuracy: 0.4706 - val_loss: 0.7178 - val_accuracy: 0.4713\n",
      "Epoch 8/15\n",
      "1097/1097 [==============================] - 0s 157us/sample - loss: 2.5838 - accuracy: 0.4737 - val_loss: 0.7178 - val_accuracy: 0.4716\n",
      "Epoch 9/15\n",
      "1097/1097 [==============================] - 0s 160us/sample - loss: 2.5678 - accuracy: 0.4769 - val_loss: 0.7178 - val_accuracy: 0.4716\n",
      "Epoch 10/15\n",
      "1097/1097 [==============================] - 0s 155us/sample - loss: 2.5705 - accuracy: 0.4757 - val_loss: 0.7177 - val_accuracy: 0.4713\n",
      "Epoch 11/15\n",
      "1097/1097 [==============================] - 0s 182us/sample - loss: 2.6182 - accuracy: 0.4706 - val_loss: 0.7177 - val_accuracy: 0.4716\n",
      "Epoch 12/15\n",
      "1097/1097 [==============================] - 0s 159us/sample - loss: 2.5503 - accuracy: 0.4776 - val_loss: 0.7177 - val_accuracy: 0.4716\n",
      "Epoch 13/15\n",
      "1097/1097 [==============================] - 0s 158us/sample - loss: 2.5721 - accuracy: 0.4715 - val_loss: 0.7177 - val_accuracy: 0.4713\n",
      "Epoch 14/15\n",
      "1097/1097 [==============================] - 0s 153us/sample - loss: 2.5297 - accuracy: 0.4727 - val_loss: 0.7177 - val_accuracy: 0.4713\n",
      "Epoch 15/15\n",
      "1097/1097 [==============================] - 0s 159us/sample - loss: 2.5618 - accuracy: 0.4745 - val_loss: 0.7177 - val_accuracy: 0.4713\n"
     ]
    },
    {
     "data": {
      "text/plain": [
       "<tensorflow.python.keras.callbacks.History at 0x1587921d0>"
      ]
     },
     "execution_count": 89,
     "metadata": {},
     "output_type": "execute_result"
    }
   ],
   "source": [
    "model = sandwich_model_1()\n",
    "model.fit(x_train, t_train, validation_data=(x_test, t_test), epochs=15) # default batch size: 32"
   ]
  },
  {
   "cell_type": "markdown",
   "metadata": {},
   "source": [
    "### 4-hidden-layer ReLu network with dropout ratio 0.2 for input layer"
   ]
  },
  {
   "cell_type": "code",
   "execution_count": 90,
   "metadata": {},
   "outputs": [],
   "source": [
    "def relu_model_4hlayers():\n",
    "    return get_model(3, [10] * 4 + [1], ['relu'] * 4 + ['sigmoid'], 'binary_crossentropy', 'Adadelta', ['accuracy'],\n",
    "                     dropout=[0.25] * 4 + [0], input_dropout=0.2)"
   ]
  },
  {
   "cell_type": "code",
   "execution_count": 91,
   "metadata": {},
   "outputs": [
    {
     "name": "stdout",
     "output_type": "stream",
     "text": [
      "[0.53163642 0.46872732 0.52773726 0.5182482  0.52810216]\n",
      "Accuracy: 51.49% (2.35%)\n"
     ]
    }
   ],
   "source": [
    "estimator = KerasClassifier(build_fn=relu_model_4hlayers, epochs=15, batch_size=32, verbose=0)\n",
    "kfold = StratifiedKFold(n_splits=5, shuffle=True)\n",
    "results = cross_val_score(estimator, x.values, t.values, cv=kfold)\n",
    "print(results)\n",
    "print(\"Accuracy: %.2f%% (%.2f%%)\" % (results.mean()*100, results.std()*100))"
   ]
  },
  {
   "cell_type": "code",
   "execution_count": 92,
   "metadata": {},
   "outputs": [
    {
     "name": "stdout",
     "output_type": "stream",
     "text": [
      "Train on 1097 samples, validate on 275 samples\n",
      "Epoch 1/15\n",
      "1097/1097 [==============================] - 2s 2ms/sample - loss: 5.5167 - accuracy: 0.5346 - val_loss: 4.8457 - val_accuracy: 0.5564\n",
      "Epoch 2/15\n",
      "1097/1097 [==============================] - 0s 199us/sample - loss: 5.4475 - accuracy: 0.5308 - val_loss: 4.8455 - val_accuracy: 0.5564\n",
      "Epoch 3/15\n",
      "1097/1097 [==============================] - ETA: 0s - loss: 5.4099 - accuracy: 0.53 - 0s 183us/sample - loss: 5.4786 - accuracy: 0.5299 - val_loss: 4.8453 - val_accuracy: 0.5564\n",
      "Epoch 4/15\n",
      "1097/1097 [==============================] - 0s 163us/sample - loss: 5.5449 - accuracy: 0.5230 - val_loss: 4.8452 - val_accuracy: 0.5564\n",
      "Epoch 5/15\n",
      "1097/1097 [==============================] - 0s 164us/sample - loss: 5.4870 - accuracy: 0.5338 - val_loss: 4.8451 - val_accuracy: 0.5564\n",
      "Epoch 6/15\n",
      "1097/1097 [==============================] - 0s 159us/sample - loss: 5.4473 - accuracy: 0.5270 - val_loss: 4.8450 - val_accuracy: 0.5564\n",
      "Epoch 7/15\n",
      "1097/1097 [==============================] - 0s 158us/sample - loss: 5.4133 - accuracy: 0.5388 - val_loss: 4.8449 - val_accuracy: 0.5564\n",
      "Epoch 8/15\n",
      "1097/1097 [==============================] - 0s 162us/sample - loss: 5.4295 - accuracy: 0.5321 - val_loss: 4.8448 - val_accuracy: 0.5564\n",
      "Epoch 9/15\n",
      "1097/1097 [==============================] - 0s 162us/sample - loss: 5.4917 - accuracy: 0.5298 - val_loss: 4.8447 - val_accuracy: 0.5564\n",
      "Epoch 10/15\n",
      "1097/1097 [==============================] - 0s 157us/sample - loss: 5.3739 - accuracy: 0.5384 - val_loss: 4.8446 - val_accuracy: 0.5564\n",
      "Epoch 11/15\n",
      "1097/1097 [==============================] - 0s 223us/sample - loss: 5.5303 - accuracy: 0.5336 - val_loss: 4.8445 - val_accuracy: 0.5564\n",
      "Epoch 12/15\n",
      "1097/1097 [==============================] - 0s 195us/sample - loss: 5.4948 - accuracy: 0.5314 - val_loss: 4.8444 - val_accuracy: 0.5564\n",
      "Epoch 13/15\n",
      "1097/1097 [==============================] - 0s 203us/sample - loss: 5.5062 - accuracy: 0.5331 - val_loss: 4.8443 - val_accuracy: 0.5564\n",
      "Epoch 14/15\n",
      "1097/1097 [==============================] - 0s 191us/sample - loss: 5.4421 - accuracy: 0.5326 - val_loss: 4.8442 - val_accuracy: 0.5564\n",
      "Epoch 15/15\n",
      "1097/1097 [==============================] - 0s 249us/sample - loss: 5.4727 - accuracy: 0.5382 - val_loss: 4.8442 - val_accuracy: 0.5564\n"
     ]
    },
    {
     "data": {
      "text/plain": [
       "<tensorflow.python.keras.callbacks.History at 0x172000208>"
      ]
     },
     "execution_count": 92,
     "metadata": {},
     "output_type": "execute_result"
    }
   ],
   "source": [
    "model = relu_model_4hlayers()\n",
    "model.fit(x_train, t_train, validation_data=(x_test, t_test), epochs=15) # default batch size: 32"
   ]
  },
  {
   "cell_type": "markdown",
   "metadata": {},
   "source": [
    "**Remarks:** More of the same. Sigh."
   ]
  },
  {
   "cell_type": "markdown",
   "metadata": {},
   "source": [
    "### \"Sandwich\" model 2: ReLu, sigmoid, ReLu hidden layers"
   ]
  },
  {
   "cell_type": "code",
   "execution_count": 165,
   "metadata": {},
   "outputs": [],
   "source": [
    "def sandwich_model_2():\n",
    "    return get_model(3, [20, 20, 20, 1], ['relu', 'sigmoid', 'relu', 'sigmoid'], 'binary_crossentropy', 'Adadelta',\n",
    "                     ['accuracy'], dropout=[0.25, 0.25, 0.25, 0], input_dropout=0.2)"
   ]
  },
  {
   "cell_type": "code",
   "execution_count": 166,
   "metadata": {},
   "outputs": [
    {
     "name": "stdout",
     "output_type": "stream",
     "text": [
      "[0.53272724 0.57854539 0.53941607 0.55675179 0.50894165]\n",
      "Accuracy: 54.33% (2.34%)\n"
     ]
    }
   ],
   "source": [
    "estimator = KerasClassifier(build_fn=sandwich_model_2, epochs=20, batch_size=64, verbose=0)\n",
    "kfold = StratifiedKFold(n_splits=5, shuffle=True)\n",
    "results = cross_val_score(estimator, x.values, t.values, cv=kfold)\n",
    "print(results)\n",
    "print(\"Accuracy: %.2f%% (%.2f%%)\" % (results.mean()*100, results.std()*100))"
   ]
  },
  {
   "cell_type": "code",
   "execution_count": 167,
   "metadata": {},
   "outputs": [
    {
     "name": "stdout",
     "output_type": "stream",
     "text": [
      "Train on 1097 samples, validate on 275 samples\n",
      "Epoch 1/20\n",
      "1097/1097 [==============================] - 2s 1ms/sample - loss: 5.3756 - accuracy: 0.5465 - val_loss: 4.1855 - val_accuracy: 0.5535\n",
      "Epoch 2/20\n",
      "1097/1097 [==============================] - 0s 116us/sample - loss: 5.3983 - accuracy: 0.5452 - val_loss: 4.1846 - val_accuracy: 0.5535\n",
      "Epoch 3/20\n",
      "1097/1097 [==============================] - 0s 145us/sample - loss: 5.3888 - accuracy: 0.5460 - val_loss: 4.1826 - val_accuracy: 0.5536\n",
      "Epoch 4/20\n",
      "1097/1097 [==============================] - 0s 136us/sample - loss: 5.3688 - accuracy: 0.5454 - val_loss: 4.1799 - val_accuracy: 0.5538\n",
      "Epoch 5/20\n",
      "1097/1097 [==============================] - 0s 189us/sample - loss: 5.4286 - accuracy: 0.5443 - val_loss: 4.1790 - val_accuracy: 0.5538\n",
      "Epoch 6/20\n",
      "1097/1097 [==============================] - 0s 146us/sample - loss: 5.4087 - accuracy: 0.5474 - val_loss: 4.1778 - val_accuracy: 0.5538\n",
      "Epoch 7/20\n",
      "1097/1097 [==============================] - 0s 117us/sample - loss: 5.3582 - accuracy: 0.5458 - val_loss: 4.1768 - val_accuracy: 0.5538\n",
      "Epoch 8/20\n",
      "1097/1097 [==============================] - 0s 120us/sample - loss: 5.4114 - accuracy: 0.5471 - val_loss: 4.1750 - val_accuracy: 0.5538\n",
      "Epoch 9/20\n",
      "1097/1097 [==============================] - 0s 296us/sample - loss: 5.3473 - accuracy: 0.5458 - val_loss: 4.1745 - val_accuracy: 0.5538\n",
      "Epoch 10/20\n",
      "1097/1097 [==============================] - 0s 172us/sample - loss: 5.3758 - accuracy: 0.5471 - val_loss: 4.1740 - val_accuracy: 0.5538\n",
      "Epoch 11/20\n",
      "1097/1097 [==============================] - 0s 127us/sample - loss: 5.4124 - accuracy: 0.5432 - val_loss: 4.1736 - val_accuracy: 0.5538\n",
      "Epoch 12/20\n",
      "1097/1097 [==============================] - 0s 137us/sample - loss: 5.3719 - accuracy: 0.5459 - val_loss: 4.1732 - val_accuracy: 0.5538\n",
      "Epoch 13/20\n",
      "1097/1097 [==============================] - 0s 128us/sample - loss: 5.3769 - accuracy: 0.5443 - val_loss: 4.1728 - val_accuracy: 0.5538\n",
      "Epoch 14/20\n",
      "1097/1097 [==============================] - 0s 116us/sample - loss: 5.3372 - accuracy: 0.5479 - val_loss: 4.1725 - val_accuracy: 0.5538\n",
      "Epoch 15/20\n",
      "1097/1097 [==============================] - 0s 139us/sample - loss: 5.3853 - accuracy: 0.5456 - val_loss: 4.1711 - val_accuracy: 0.5538\n",
      "Epoch 16/20\n",
      "1097/1097 [==============================] - 0s 162us/sample - loss: 5.3910 - accuracy: 0.5479 - val_loss: 4.1707 - val_accuracy: 0.5538\n",
      "Epoch 17/20\n",
      "1097/1097 [==============================] - 0s 123us/sample - loss: 5.3984 - accuracy: 0.5469 - val_loss: 4.1704 - val_accuracy: 0.5538\n",
      "Epoch 18/20\n",
      "1097/1097 [==============================] - 0s 118us/sample - loss: 5.3762 - accuracy: 0.5454 - val_loss: 4.1702 - val_accuracy: 0.5538\n",
      "Epoch 19/20\n",
      "1097/1097 [==============================] - 0s 116us/sample - loss: 5.3623 - accuracy: 0.5465 - val_loss: 4.1699 - val_accuracy: 0.5538\n",
      "Epoch 20/20\n",
      "1097/1097 [==============================] - 0s 116us/sample - loss: 5.3664 - accuracy: 0.5453 - val_loss: 4.1696 - val_accuracy: 0.5538\n"
     ]
    },
    {
     "data": {
      "text/plain": [
       "<tensorflow.python.keras.callbacks.History at 0x1a8a07978>"
      ]
     },
     "execution_count": 167,
     "metadata": {},
     "output_type": "execute_result"
    }
   ],
   "source": [
    "model = sandwich_model_2()\n",
    "model.fit(x_train, t_train, validation_data=(x_test, t_test), epochs=20, batch_size=64) # default batch size: 32"
   ]
  },
  {
   "cell_type": "markdown",
   "metadata": {},
   "source": [
    "**Remarks:** FINALLY, SOMETHING CLEARLY WORKS BETTER THAN THE REST. NOT BY A WHOLE LOT, BUT A BIT MORE CONSISTENTLY. (I tried 3 similar models; this seems to work marginally better than the others.)"
   ]
  },
  {
   "cell_type": "markdown",
   "metadata": {},
   "source": [
    "### \"Sandwich\" model 3: 4 alternating ReLu-sigmoid hidden layers"
   ]
  },
  {
   "cell_type": "code",
   "execution_count": 213,
   "metadata": {},
   "outputs": [],
   "source": [
    "def sandwich_model_3():\n",
    "    return get_model(3, [20] * 4 + [1], ['relu', 'sigmoid', 'relu', 'relu', 'sigmoid'], 'binary_crossentropy',\n",
    "                     'Adadelta', ['accuracy'], dropout=[0.25] * 4 + [0], input_dropout=0.2)"
   ]
  },
  {
   "cell_type": "code",
   "execution_count": 214,
   "metadata": {},
   "outputs": [
    {
     "name": "stdout",
     "output_type": "stream",
     "text": [
      "[0.53927273 0.55381817 0.50930655 0.54379565 0.55456209]\n",
      "Accuracy: 54.02% (1.65%)\n"
     ]
    }
   ],
   "source": [
    "estimator = KerasClassifier(build_fn=sandwich_model_3, epochs=20, batch_size=64, verbose=0)\n",
    "kfold = StratifiedKFold(n_splits=5, shuffle=True)\n",
    "results = cross_val_score(estimator, x.values, t.values, cv=kfold)\n",
    "print(results)\n",
    "print(\"Accuracy: %.2f%% (%.2f%%)\" % (results.mean()*100, results.std()*100))"
   ]
  },
  {
   "cell_type": "code",
   "execution_count": 215,
   "metadata": {},
   "outputs": [
    {
     "name": "stdout",
     "output_type": "stream",
     "text": [
      "Train on 1097 samples, validate on 275 samples\n",
      "Epoch 1/20\n",
      "1097/1097 [==============================] - 2s 2ms/sample - loss: 5.3199 - accuracy: 0.5422 - val_loss: 4.5537 - val_accuracy: 0.5436\n",
      "Epoch 2/20\n",
      "1097/1097 [==============================] - 0s 150us/sample - loss: 5.3343 - accuracy: 0.5392 - val_loss: 4.5530 - val_accuracy: 0.5436\n",
      "Epoch 3/20\n",
      "1097/1097 [==============================] - 0s 222us/sample - loss: 5.2979 - accuracy: 0.5429 - val_loss: 4.5527 - val_accuracy: 0.5436\n",
      "Epoch 4/20\n",
      "1097/1097 [==============================] - 0s 144us/sample - loss: 5.2879 - accuracy: 0.5412 - val_loss: 4.5523 - val_accuracy: 0.5436\n",
      "Epoch 5/20\n",
      "1097/1097 [==============================] - 0s 234us/sample - loss: 5.3328 - accuracy: 0.5414 - val_loss: 4.5510 - val_accuracy: 0.5436\n",
      "Epoch 6/20\n",
      "1097/1097 [==============================] - 0s 155us/sample - loss: 5.2604 - accuracy: 0.5428 - val_loss: 4.5506 - val_accuracy: 0.5436\n",
      "Epoch 7/20\n",
      "1097/1097 [==============================] - 0s 139us/sample - loss: 5.2730 - accuracy: 0.5415 - val_loss: 4.5503 - val_accuracy: 0.5436\n",
      "Epoch 8/20\n",
      "1097/1097 [==============================] - 0s 276us/sample - loss: 5.2458 - accuracy: 0.5416 - val_loss: 4.5501 - val_accuracy: 0.5436\n",
      "Epoch 9/20\n",
      "1097/1097 [==============================] - 0s 221us/sample - loss: 5.3069 - accuracy: 0.5409 - val_loss: 4.5499 - val_accuracy: 0.5436\n",
      "Epoch 10/20\n",
      "1097/1097 [==============================] - 0s 224us/sample - loss: 5.3483 - accuracy: 0.5424 - val_loss: 4.5496 - val_accuracy: 0.5436\n",
      "Epoch 11/20\n",
      "1097/1097 [==============================] - 0s 145us/sample - loss: 5.2968 - accuracy: 0.5397 - val_loss: 4.5494 - val_accuracy: 0.5436\n",
      "Epoch 12/20\n",
      "1097/1097 [==============================] - 0s 141us/sample - loss: 5.3113 - accuracy: 0.5415 - val_loss: 4.5484 - val_accuracy: 0.5436\n",
      "Epoch 13/20\n",
      "1097/1097 [==============================] - 0s 233us/sample - loss: 5.3269 - accuracy: 0.5410 - val_loss: 4.5482 - val_accuracy: 0.5438\n",
      "Epoch 14/20\n",
      "1097/1097 [==============================] - 0s 181us/sample - loss: 5.3175 - accuracy: 0.5415 - val_loss: 4.5481 - val_accuracy: 0.5438\n",
      "Epoch 15/20\n",
      "1097/1097 [==============================] - 0s 289us/sample - loss: 5.2953 - accuracy: 0.5423 - val_loss: 4.5479 - val_accuracy: 0.5438\n",
      "Epoch 16/20\n",
      "1097/1097 [==============================] - 0s 437us/sample - loss: 5.3234 - accuracy: 0.5429 - val_loss: 4.5478 - val_accuracy: 0.5438\n",
      "Epoch 17/20\n",
      "1097/1097 [==============================] - 0s 230us/sample - loss: 5.3324 - accuracy: 0.5387 - val_loss: 4.5476 - val_accuracy: 0.5438\n",
      "Epoch 18/20\n",
      "1097/1097 [==============================] - 0s 267us/sample - loss: 5.2781 - accuracy: 0.5425 - val_loss: 4.5475 - val_accuracy: 0.5438\n",
      "Epoch 19/20\n",
      "1097/1097 [==============================] - 0s 145us/sample - loss: 5.3139 - accuracy: 0.5393 - val_loss: 4.5473 - val_accuracy: 0.5438\n",
      "Epoch 20/20\n",
      "1097/1097 [==============================] - 0s 425us/sample - loss: 5.3514 - accuracy: 0.5366 - val_loss: 4.5472 - val_accuracy: 0.5438\n"
     ]
    },
    {
     "data": {
      "text/plain": [
       "<tensorflow.python.keras.callbacks.History at 0x1d328bc88>"
      ]
     },
     "execution_count": 215,
     "metadata": {},
     "output_type": "execute_result"
    }
   ],
   "source": [
    "model = sandwich_model_3()\n",
    "model.fit(x_train, t_train, validation_data=(x_test, t_test), epochs=20, batch_size=64) # default batch size: 32"
   ]
  },
  {
   "cell_type": "markdown",
   "metadata": {},
   "source": [
    "**Remarks:** This buys a small improvement over the last model for not too much added complexity, so taking this forward. (Also tried relu-sigmoid-relu-sigmoid-relu, but the improvement is negligible.)"
   ]
  },
  {
   "cell_type": "markdown",
   "metadata": {},
   "source": [
    "## With other activation functions"
   ]
  },
  {
   "cell_type": "markdown",
   "metadata": {},
   "source": [
    "I could try other activations, e.g. softplus and elu, but after a day, it doesn't seem worth caring anymore."
   ]
  },
  {
   "cell_type": "markdown",
   "metadata": {},
   "source": [
    "## With other optimisers"
   ]
  },
  {
   "cell_type": "code",
   "execution_count": 235,
   "metadata": {},
   "outputs": [],
   "source": [
    "def sandwich_model_rmsprop():\n",
    "    return get_model(3, [20] * 4 + [1], ['relu', 'sigmoid', 'relu', 'relu', 'sigmoid'], 'binary_crossentropy',\n",
    "                     'RMSprop', ['accuracy'], dropout=[0.25] * 4 + [0], input_dropout=0.2)"
   ]
  },
  {
   "cell_type": "code",
   "execution_count": 236,
   "metadata": {},
   "outputs": [
    {
     "name": "stdout",
     "output_type": "stream",
     "text": [
      "[0.78709084 0.77581817 0.67609495 0.6614964  0.68412411]\n",
      "Accuracy: 71.69% (5.33%)\n"
     ]
    }
   ],
   "source": [
    "estimator = KerasClassifier(build_fn=sandwich_model_rmsprop, epochs=20, batch_size=64, verbose=0)\n",
    "kfold = StratifiedKFold(n_splits=5, shuffle=True)\n",
    "results = cross_val_score(estimator, x.values, t.values, cv=kfold)\n",
    "print(results)\n",
    "print(\"Accuracy: %.2f%% (%.2f%%)\" % (results.mean()*100, results.std()*100))"
   ]
  },
  {
   "cell_type": "markdown",
   "metadata": {},
   "source": [
    "**Remarks: **I can't believe this. Guess I'm calling it a day now, and letting other improvements I may have missed go."
   ]
  },
  {
   "cell_type": "code",
   "execution_count": 237,
   "metadata": {},
   "outputs": [
    {
     "name": "stdout",
     "output_type": "stream",
     "text": [
      "Train on 1097 samples, validate on 275 samples\n",
      "Epoch 1/20\n",
      "1097/1097 [==============================] - 2s 2ms/sample - loss: 5.0241 - accuracy: 0.5481 - val_loss: 3.5854 - val_accuracy: 0.5540\n",
      "Epoch 2/20\n",
      "1097/1097 [==============================] - 0s 169us/sample - loss: 4.6482 - accuracy: 0.5465 - val_loss: 3.2947 - val_accuracy: 0.5756\n",
      "Epoch 3/20\n",
      "1097/1097 [==============================] - 0s 331us/sample - loss: 4.3585 - accuracy: 0.5466 - val_loss: 2.9265 - val_accuracy: 0.5640\n",
      "Epoch 4/20\n",
      "1097/1097 [==============================] - 0s 160us/sample - loss: 4.1881 - accuracy: 0.5545 - val_loss: 2.3928 - val_accuracy: 0.5642\n",
      "Epoch 5/20\n",
      "1097/1097 [==============================] - 0s 136us/sample - loss: 4.0162 - accuracy: 0.5444 - val_loss: 2.0322 - val_accuracy: 0.5635\n",
      "Epoch 6/20\n",
      "1097/1097 [==============================] - 0s 135us/sample - loss: 3.9218 - accuracy: 0.5492 - val_loss: 1.7852 - val_accuracy: 0.5676\n",
      "Epoch 7/20\n",
      "1097/1097 [==============================] - 0s 137us/sample - loss: 3.6995 - accuracy: 0.5560 - val_loss: 1.7050 - val_accuracy: 0.5680\n",
      "Epoch 8/20\n",
      "1097/1097 [==============================] - 0s 140us/sample - loss: 3.6311 - accuracy: 0.5524 - val_loss: 1.6058 - val_accuracy: 0.5667\n",
      "Epoch 9/20\n",
      "1097/1097 [==============================] - 0s 189us/sample - loss: 3.5131 - accuracy: 0.5534 - val_loss: 1.4066 - val_accuracy: 0.5724\n",
      "Epoch 10/20\n",
      "1097/1097 [==============================] - 0s 160us/sample - loss: 3.4193 - accuracy: 0.5532 - val_loss: 1.3176 - val_accuracy: 0.5791\n",
      "Epoch 11/20\n",
      "1097/1097 [==============================] - 0s 147us/sample - loss: 3.4100 - accuracy: 0.5560 - val_loss: 1.2840 - val_accuracy: 0.5729\n",
      "Epoch 12/20\n",
      "1097/1097 [==============================] - 0s 138us/sample - loss: 3.3147 - accuracy: 0.5624 - val_loss: 1.2717 - val_accuracy: 0.5836\n",
      "Epoch 13/20\n",
      "1097/1097 [==============================] - 0s 136us/sample - loss: 3.2230 - accuracy: 0.5657 - val_loss: 1.2638 - val_accuracy: 0.5787\n",
      "Epoch 14/20\n",
      "1097/1097 [==============================] - 0s 137us/sample - loss: 3.2519 - accuracy: 0.5691 - val_loss: 1.2438 - val_accuracy: 0.5844\n",
      "Epoch 15/20\n",
      "1097/1097 [==============================] - 0s 170us/sample - loss: 3.0950 - accuracy: 0.5742 - val_loss: 1.1788 - val_accuracy: 0.5864\n",
      "Epoch 16/20\n",
      "1097/1097 [==============================] - 0s 216us/sample - loss: 3.0318 - accuracy: 0.5815 - val_loss: 1.0496 - val_accuracy: 0.5871\n",
      "Epoch 17/20\n",
      "1097/1097 [==============================] - 0s 173us/sample - loss: 3.0180 - accuracy: 0.5818 - val_loss: 0.9387 - val_accuracy: 0.5975\n",
      "Epoch 18/20\n",
      "1097/1097 [==============================] - 0s 242us/sample - loss: 2.9695 - accuracy: 0.5801 - val_loss: 0.9256 - val_accuracy: 0.6007\n",
      "Epoch 19/20\n",
      "1097/1097 [==============================] - 0s 216us/sample - loss: 2.9165 - accuracy: 0.5925 - val_loss: 0.9120 - val_accuracy: 0.6013\n",
      "Epoch 20/20\n",
      "1097/1097 [==============================] - 0s 137us/sample - loss: 2.8729 - accuracy: 0.5957 - val_loss: 0.9019 - val_accuracy: 0.6036\n"
     ]
    },
    {
     "data": {
      "text/plain": [
       "<tensorflow.python.keras.callbacks.History at 0x1c2b9a5c0>"
      ]
     },
     "execution_count": 237,
     "metadata": {},
     "output_type": "execute_result"
    }
   ],
   "source": [
    "model = sandwich_model_rmsprop()\n",
    "model.fit(x_train, t_train, validation_data=(x_test, t_test), epochs=20, batch_size=64) # default batch size: 32"
   ]
  },
  {
   "cell_type": "markdown",
   "metadata": {},
   "source": [
    "### With normalised data"
   ]
  },
  {
   "cell_type": "markdown",
   "metadata": {},
   "source": [
    "Turns out I normalised the data but forgot to use it for train/test splits. Thankfully, the features seem to be on very similar scales, so that may not be an issue at all. Regardless, I suppose I should repeat the last exercise with normalised data (and use raw data instead for the train/test split) to at least see how different the results may be."
   ]
  },
  {
   "cell_type": "code",
   "execution_count": 246,
   "metadata": {},
   "outputs": [
    {
     "name": "stdout",
     "output_type": "stream",
     "text": [
      "[0.6334545  0.58072734 0.57956201 0.58576643 0.60748178]\n",
      "Accuracy: 59.74% (2.07%)\n"
     ]
    }
   ],
   "source": [
    "estimator = KerasClassifier(build_fn=sandwich_model_rmsprop, epochs=20, batch_size=64, verbose=0)\n",
    "kfold = StratifiedKFold(n_splits=5, shuffle=True)\n",
    "results = cross_val_score(estimator, StandardScaler().fit_transform(x), t.values, cv=kfold)\n",
    "print(results)\n",
    "print(\"Accuracy: %.2f%% (%.2f%%)\" % (results.mean()*100, results.std()*100))"
   ]
  },
  {
   "cell_type": "markdown",
   "metadata": {},
   "source": [
    "Since I was so economical in allocating/naming variables, I'll be lazy and use a different split instead of computing the raw data from the standardised..."
   ]
  },
  {
   "cell_type": "code",
   "execution_count": 240,
   "metadata": {},
   "outputs": [],
   "source": [
    "x_train, x_test, t_train, t_test = train_test_split(x, t, test_size=0.2, random_state=42, stratify=t)"
   ]
  },
  {
   "cell_type": "code",
   "execution_count": 247,
   "metadata": {},
   "outputs": [
    {
     "name": "stdout",
     "output_type": "stream",
     "text": [
      "Train on 1097 samples, validate on 275 samples\n",
      "Epoch 1/20\n",
      "1097/1097 [==============================] - 2s 2ms/sample - loss: 5.0051 - accuracy: 0.5234 - val_loss: 2.9809 - val_accuracy: 0.5169\n",
      "Epoch 2/20\n",
      "1097/1097 [==============================] - 0s 134us/sample - loss: 4.7866 - accuracy: 0.5274 - val_loss: 2.7074 - val_accuracy: 0.5440\n",
      "Epoch 3/20\n",
      "1097/1097 [==============================] - 0s 153us/sample - loss: 4.5425 - accuracy: 0.5325 - val_loss: 2.5043 - val_accuracy: 0.5525\n",
      "Epoch 4/20\n",
      "1097/1097 [==============================] - 0s 155us/sample - loss: 4.4317 - accuracy: 0.5325 - val_loss: 2.3025 - val_accuracy: 0.5542\n",
      "Epoch 5/20\n",
      "1097/1097 [==============================] - 0s 139us/sample - loss: 4.3553 - accuracy: 0.5294 - val_loss: 2.1805 - val_accuracy: 0.5616\n",
      "Epoch 6/20\n",
      "1097/1097 [==============================] - 0s 143us/sample - loss: 4.2269 - accuracy: 0.5423 - val_loss: 1.9860 - val_accuracy: 0.5622\n",
      "Epoch 7/20\n",
      "1097/1097 [==============================] - 0s 136us/sample - loss: 4.1062 - accuracy: 0.5399 - val_loss: 1.8446 - val_accuracy: 0.5818\n",
      "Epoch 8/20\n",
      "1097/1097 [==============================] - 0s 143us/sample - loss: 3.9344 - accuracy: 0.5424 - val_loss: 1.6809 - val_accuracy: 0.5873\n",
      "Epoch 9/20\n",
      "1097/1097 [==============================] - 0s 147us/sample - loss: 3.7291 - accuracy: 0.5531 - val_loss: 1.4949 - val_accuracy: 0.5936\n",
      "Epoch 10/20\n",
      "1097/1097 [==============================] - 0s 142us/sample - loss: 3.5888 - accuracy: 0.5558 - val_loss: 1.2543 - val_accuracy: 0.6038\n",
      "Epoch 11/20\n",
      "1097/1097 [==============================] - 0s 186us/sample - loss: 3.5253 - accuracy: 0.5624 - val_loss: 1.0727 - val_accuracy: 0.6056\n",
      "Epoch 12/20\n",
      "1097/1097 [==============================] - 0s 138us/sample - loss: 3.4390 - accuracy: 0.5625 - val_loss: 0.9742 - val_accuracy: 0.6136\n",
      "Epoch 13/20\n",
      "1097/1097 [==============================] - 0s 171us/sample - loss: 3.3470 - accuracy: 0.5679 - val_loss: 0.8712 - val_accuracy: 0.6238\n",
      "Epoch 14/20\n",
      "1097/1097 [==============================] - 0s 151us/sample - loss: 3.1506 - accuracy: 0.5729 - val_loss: 0.7425 - val_accuracy: 0.6380\n",
      "Epoch 15/20\n",
      "1097/1097 [==============================] - 0s 283us/sample - loss: 3.0412 - accuracy: 0.5839 - val_loss: 0.7070 - val_accuracy: 0.6427\n",
      "Epoch 16/20\n",
      "1097/1097 [==============================] - 0s 197us/sample - loss: 3.0371 - accuracy: 0.5885 - val_loss: 0.6238 - val_accuracy: 0.6556\n",
      "Epoch 17/20\n",
      "1097/1097 [==============================] - 0s 144us/sample - loss: 2.8924 - accuracy: 0.6078 - val_loss: 0.5985 - val_accuracy: 0.6733\n",
      "Epoch 18/20\n",
      "1097/1097 [==============================] - 0s 153us/sample - loss: 2.8208 - accuracy: 0.6048 - val_loss: 0.5815 - val_accuracy: 0.6865\n",
      "Epoch 19/20\n",
      "1097/1097 [==============================] - 0s 202us/sample - loss: 2.7879 - accuracy: 0.6159 - val_loss: 0.5477 - val_accuracy: 0.7031\n",
      "Epoch 20/20\n",
      "1097/1097 [==============================] - 0s 180us/sample - loss: 2.6815 - accuracy: 0.6292 - val_loss: 0.5405 - val_accuracy: 0.6891\n"
     ]
    },
    {
     "data": {
      "text/plain": [
       "<tensorflow.python.keras.callbacks.History at 0x1e8735860>"
      ]
     },
     "execution_count": 247,
     "metadata": {},
     "output_type": "execute_result"
    }
   ],
   "source": [
    "model = sandwich_model_rmsprop()\n",
    "model.fit(x_train.values, t_train.values, validation_data=(x_test.values, t_test.values),\n",
    "          epochs=20, batch_size=64) # default batch size: 32"
   ]
  },
  {
   "cell_type": "markdown",
   "metadata": {},
   "source": [
    "**Remarks:** Interestingly, accuracy is obviously considerably lower using normalised data for training, evaluated using 5-fold CV. When I was starting on this assignment, I didn't think that would be the case, since normalisation is merely a linear transformation of each feature. However, as I realised after the last training runs, since the features are normalised _individually_, that could distort the _joint_ distributions of the feature values, perhaps resulting in a loss of valuable information that would explain this behaviour."
   ]
  },
  {
   "cell_type": "markdown",
   "metadata": {},
   "source": [
    "## Conclusion\n",
    "Highest-accuracy network (# units and dropout ratios parenthesised):  \n",
    "Input (20, 0.2) -> ReLu (20, 0.25) -> Sigmoid (20, 0.25) -> ReLu (20, 0.25) -> ReLu (20, 0.25) -> Sigmoid (1, 0)  \n",
    "Optimiser: RMSprop  \n",
    "**Note:** This result only holds using raw data."
   ]
  },
  {
   "cell_type": "code",
   "execution_count": 251,
   "metadata": {},
   "outputs": [
    {
     "name": "stdout",
     "output_type": "stream",
     "text": [
      "Mean 5-fold CV accuracy over 4 rounds of training: 72.76%\n"
     ]
    }
   ],
   "source": [
    "print('Mean 5-fold CV accuracy over 4 rounds of training: %.2f%%' % ((69.94 + 73.65 + 73.66 + 73.78) / 4))"
   ]
  }
 ],
 "metadata": {
  "kernelspec": {
   "display_name": "py36",
   "language": "python",
   "name": "py36"
  },
  "language_info": {
   "codemirror_mode": {
    "name": "ipython",
    "version": 3
   },
   "file_extension": ".py",
   "mimetype": "text/x-python",
   "name": "python",
   "nbconvert_exporter": "python",
   "pygments_lexer": "ipython3",
   "version": "3.6.7"
  }
 },
 "nbformat": 4,
 "nbformat_minor": 2
}
